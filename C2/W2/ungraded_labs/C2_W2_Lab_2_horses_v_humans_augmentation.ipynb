{
  "nbformat": 4,
  "nbformat_minor": 0,
  "metadata": {
    "accelerator": "GPU",
    "colab": {
      "name": "C2_W2_Lab_2_horses_v_humans_augmentation.ipynb",
      "provenance": [],
      "collapsed_sections": [],
      "include_colab_link": true
    },
    "kernelspec": {
      "display_name": "Python 3",
      "language": "python",
      "name": "python3"
    },
    "language_info": {
      "codemirror_mode": {
        "name": "ipython",
        "version": 3
      },
      "file_extension": ".py",
      "mimetype": "text/x-python",
      "name": "python",
      "nbconvert_exporter": "python",
      "pygments_lexer": "ipython3",
      "version": "3.8.5"
    }
  },
  "cells": [
    {
      "cell_type": "markdown",
      "metadata": {
        "id": "view-in-github",
        "colab_type": "text"
      },
      "source": [
        "<a href=\"https://colab.research.google.com/github/Himagination/TensorFlow_Developer/blob/main/C2/W2/ungraded_labs/C2_W2_Lab_2_horses_v_humans_augmentation.ipynb\" target=\"_parent\"><img src=\"https://colab.research.google.com/assets/colab-badge.svg\" alt=\"Open In Colab\"/></a>"
      ]
    },
    {
      "cell_type": "markdown",
      "metadata": {
        "id": "rX8mhOLljYeM"
      },
      "source": [
        "##### Copyright 2019 The TensorFlow Authors."
      ]
    },
    {
      "cell_type": "code",
      "metadata": {
        "cellView": "form",
        "id": "BZSlp3DAjdYf"
      },
      "source": [
        "#@title Licensed under the Apache License, Version 2.0 (the \"License\");\n",
        "# you may not use this file except in compliance with the License.\n",
        "# You may obtain a copy of the License at\n",
        "#\n",
        "# https://www.apache.org/licenses/LICENSE-2.0\n",
        "#\n",
        "# Unless required by applicable law or agreed to in writing, software\n",
        "# distributed under the License is distributed on an \"AS IS\" BASIS,\n",
        "# WITHOUT WARRANTIES OR CONDITIONS OF ANY KIND, either express or implied.\n",
        "# See the License for the specific language governing permissions and\n",
        "# limitations under the License."
      ],
      "execution_count": 1,
      "outputs": []
    },
    {
      "cell_type": "code",
      "metadata": {
        "id": "RXZT2UsyIVe_",
        "outputId": "c0b103ba-d716-416c-e555-7c6620d61600",
        "colab": {
          "base_uri": "https://localhost:8080/"
        }
      },
      "source": [
        "# horses-or-humans dataset\n",
        "!gdown --id 1onaG42NZft3wCE1WH0GDEbUhu75fedP5\n",
        "\n",
        "# horses-or-humans validation dataset\n",
        "!gdown --id 1LYeusSEIiZQpwN-mthh5nKdA75VsKG1U\n",
        "  \n",
        "import os\n",
        "import zipfile\n",
        "\n",
        "zip_ref = zipfile.ZipFile('./horse-or-human.zip', 'r')\n",
        "zip_ref.extractall('tmp/horse-or-human')\n",
        "\n",
        "zip_ref = zipfile.ZipFile('./validation-horse-or-human.zip', 'r')\n",
        "zip_ref.extractall('tmp/validation-horse-or-human')\n",
        "\n",
        "zip_ref.close()\n",
        "\n",
        "# Directory with our training horse pictures\n",
        "train_horse_dir = os.path.join('tmp/horse-or-human/horses')\n",
        "\n",
        "# Directory with our training human pictures\n",
        "train_human_dir = os.path.join('tmp/horse-or-human/humans')\n",
        "\n",
        "# Directory with our training horse pictures\n",
        "validation_horse_dir = os.path.join('tmp/validation-horse-or-human/horses')\n",
        "\n",
        "# Directory with our training human pictures\n",
        "validation_human_dir = os.path.join('tmp/validation-horse-or-human/humans')"
      ],
      "execution_count": 2,
      "outputs": [
        {
          "output_type": "stream",
          "name": "stdout",
          "text": [
            "Downloading...\n",
            "From: https://drive.google.com/uc?id=1onaG42NZft3wCE1WH0GDEbUhu75fedP5\n",
            "To: /content/horse-or-human.zip\n",
            "100% 150M/150M [00:00<00:00, 173MB/s]\n",
            "Downloading...\n",
            "From: https://drive.google.com/uc?id=1LYeusSEIiZQpwN-mthh5nKdA75VsKG1U\n",
            "To: /content/validation-horse-or-human.zip\n",
            "100% 11.5M/11.5M [00:00<00:00, 101MB/s]\n"
          ]
        }
      ]
    },
    {
      "cell_type": "markdown",
      "metadata": {
        "id": "5oqBkNBJmtUv"
      },
      "source": [
        "## Building a Small Model from Scratch\n",
        "\n",
        "But before we continue, let's start defining the model:\n",
        "\n",
        "Step 1 will be to import tensorflow."
      ]
    },
    {
      "cell_type": "code",
      "metadata": {
        "id": "qvfZg3LQbD-5"
      },
      "source": [
        "import tensorflow as tf"
      ],
      "execution_count": 3,
      "outputs": []
    },
    {
      "cell_type": "markdown",
      "metadata": {
        "id": "BnhYCP4tdqjC"
      },
      "source": [
        "We then add convolutional layers as in the previous example, and flatten the final result to feed into the densely connected layers."
      ]
    },
    {
      "cell_type": "markdown",
      "metadata": {
        "id": "gokG5HKpdtzm"
      },
      "source": [
        "Finally we add the densely connected layers. \n",
        "\n",
        "Note that because we are facing a two-class classification problem, i.e. a *binary classification problem*, we will end our network with a [*sigmoid* activation](https://wikipedia.org/wiki/Sigmoid_function), so that the output of our network will be a single scalar between 0 and 1, encoding the probability that the current image is class 1 (as opposed to class 0)."
      ]
    },
    {
      "cell_type": "code",
      "metadata": {
        "id": "PixZ2s5QbYQ3"
      },
      "source": [
        "model = tf.keras.models.Sequential([\n",
        "    # Note the input shape is the desired size of the image 300x300 with 3 bytes color\n",
        "    # This is the first convolution\n",
        "    tf.keras.layers.Conv2D(16, (3,3), activation='relu', input_shape=(300, 300, 3)),\n",
        "    tf.keras.layers.MaxPooling2D(2, 2),\n",
        "    # The second convolution\n",
        "    tf.keras.layers.Conv2D(32, (3,3), activation='relu'),\n",
        "    tf.keras.layers.MaxPooling2D(2,2),\n",
        "    # The third convolution\n",
        "    tf.keras.layers.Conv2D(64, (3,3), activation='relu'),\n",
        "    tf.keras.layers.MaxPooling2D(2,2),\n",
        "    # The fourth convolution\n",
        "    tf.keras.layers.Conv2D(64, (3,3), activation='relu'),\n",
        "    tf.keras.layers.MaxPooling2D(2,2),\n",
        "    # The fifth convolution\n",
        "    tf.keras.layers.Conv2D(64, (3,3), activation='relu'),\n",
        "    tf.keras.layers.MaxPooling2D(2,2),\n",
        "    # Flatten the results to feed into a DNN\n",
        "    tf.keras.layers.Flatten(),\n",
        "    # 512 neuron hidden layer\n",
        "    tf.keras.layers.Dense(512, activation='relu'),\n",
        "    # Only 1 output neuron. It will contain a value from 0-1 where 0 for 1 class ('horses') and 1 for the other ('humans')\n",
        "    tf.keras.layers.Dense(1, activation='sigmoid')\n",
        "])"
      ],
      "execution_count": 4,
      "outputs": []
    },
    {
      "cell_type": "code",
      "metadata": {
        "id": "8DHWhFP_uhq3"
      },
      "source": [
        "from tensorflow.keras.optimizers import RMSprop\n",
        "\n",
        "model.compile(loss='binary_crossentropy',\n",
        "              optimizer=RMSprop(learning_rate=1e-4),\n",
        "              metrics=['accuracy'])"
      ],
      "execution_count": 5,
      "outputs": []
    },
    {
      "cell_type": "code",
      "metadata": {
        "id": "ClebU9NJg99G",
        "outputId": "7f28f163-1e8a-49a2-da46-c185bc22ef01",
        "colab": {
          "base_uri": "https://localhost:8080/"
        }
      },
      "source": [
        "from tensorflow.keras.preprocessing.image import ImageDataGenerator\n",
        "\n",
        "# All images will be rescaled by 1./255\n",
        "train_datagen = ImageDataGenerator(\n",
        "      rescale=1./255,\n",
        "      rotation_range=40,\n",
        "      width_shift_range=0.2,\n",
        "      height_shift_range=0.2,\n",
        "      shear_range=0.2,\n",
        "      zoom_range=0.2,\n",
        "      horizontal_flip=True,\n",
        "      fill_mode='nearest')\n",
        "\n",
        "validation_datagen = ImageDataGenerator(rescale=1/255)\n",
        "\n",
        "# Flow training images in batches of 128 using train_datagen generator\n",
        "train_generator = train_datagen.flow_from_directory(\n",
        "        'tmp/horse-or-human/',  # This is the source directory for training images\n",
        "        target_size=(300, 300),  # All images will be resized to 150x150\n",
        "        batch_size=128,\n",
        "        # Since we use binary_crossentropy loss, we need binary labels\n",
        "        class_mode='binary')\n",
        "\n",
        "# Flow training images in batches of 128 using train_datagen generator\n",
        "validation_generator = validation_datagen.flow_from_directory(\n",
        "        'tmp/validation-horse-or-human/',  # This is the source directory for training images\n",
        "        target_size=(300, 300),  # All images will be resized to 150x150\n",
        "        batch_size=32,\n",
        "        # Since we use binary_crossentropy loss, we need binary labels\n",
        "        class_mode='binary')"
      ],
      "execution_count": 6,
      "outputs": [
        {
          "output_type": "stream",
          "name": "stdout",
          "text": [
            "Found 1027 images belonging to 2 classes.\n",
            "Found 256 images belonging to 2 classes.\n"
          ]
        }
      ]
    },
    {
      "cell_type": "code",
      "metadata": {
        "id": "Fb1_lgobv81m",
        "outputId": "851d2ba9-6341-41ff-e857-47c1958e4441",
        "colab": {
          "base_uri": "https://localhost:8080/"
        }
      },
      "source": [
        "history = model.fit(\n",
        "      train_generator,\n",
        "      steps_per_epoch=8,  \n",
        "      epochs=100,\n",
        "      verbose=1,\n",
        "      validation_data = validation_generator,\n",
        "      validation_steps=8)"
      ],
      "execution_count": 7,
      "outputs": [
        {
          "output_type": "stream",
          "name": "stdout",
          "text": [
            "Epoch 1/100\n",
            "8/8 [==============================] - 35s 3s/step - loss: 0.6888 - accuracy: 0.5172 - val_loss: 0.6802 - val_accuracy: 0.6133\n",
            "Epoch 2/100\n",
            "8/8 [==============================] - 24s 3s/step - loss: 0.6686 - accuracy: 0.6162 - val_loss: 0.6732 - val_accuracy: 0.5000\n",
            "Epoch 3/100\n",
            "8/8 [==============================] - 24s 3s/step - loss: 0.6470 - accuracy: 0.6719 - val_loss: 0.7613 - val_accuracy: 0.5000\n",
            "Epoch 4/100\n",
            "8/8 [==============================] - 25s 3s/step - loss: 0.6097 - accuracy: 0.7108 - val_loss: 0.6398 - val_accuracy: 0.5547\n",
            "Epoch 5/100\n",
            "8/8 [==============================] - 27s 3s/step - loss: 0.5739 - accuracy: 0.7490 - val_loss: 0.6635 - val_accuracy: 0.5273\n",
            "Epoch 6/100\n",
            "8/8 [==============================] - 25s 3s/step - loss: 0.5479 - accuracy: 0.7453 - val_loss: 0.7774 - val_accuracy: 0.5156\n",
            "Epoch 7/100\n",
            "8/8 [==============================] - 25s 3s/step - loss: 0.5277 - accuracy: 0.7519 - val_loss: 1.0715 - val_accuracy: 0.5078\n",
            "Epoch 8/100\n",
            "8/8 [==============================] - 25s 3s/step - loss: 0.5216 - accuracy: 0.7519 - val_loss: 0.8058 - val_accuracy: 0.5469\n",
            "Epoch 9/100\n",
            "8/8 [==============================] - 25s 3s/step - loss: 0.5182 - accuracy: 0.7531 - val_loss: 0.8643 - val_accuracy: 0.5430\n",
            "Epoch 10/100\n",
            "8/8 [==============================] - 25s 3s/step - loss: 0.5172 - accuracy: 0.7620 - val_loss: 1.3266 - val_accuracy: 0.5078\n",
            "Epoch 11/100\n",
            "8/8 [==============================] - 25s 3s/step - loss: 0.4556 - accuracy: 0.7931 - val_loss: 1.6323 - val_accuracy: 0.5000\n",
            "Epoch 12/100\n",
            "8/8 [==============================] - 27s 3s/step - loss: 0.4659 - accuracy: 0.7842 - val_loss: 0.8080 - val_accuracy: 0.5898\n",
            "Epoch 13/100\n",
            "8/8 [==============================] - 25s 3s/step - loss: 0.4404 - accuracy: 0.8042 - val_loss: 1.4903 - val_accuracy: 0.5156\n",
            "Epoch 14/100\n",
            "8/8 [==============================] - 25s 3s/step - loss: 0.5032 - accuracy: 0.7419 - val_loss: 1.3099 - val_accuracy: 0.5352\n",
            "Epoch 15/100\n",
            "8/8 [==============================] - 27s 3s/step - loss: 0.4010 - accuracy: 0.8223 - val_loss: 1.1936 - val_accuracy: 0.5625\n",
            "Epoch 16/100\n",
            "8/8 [==============================] - 25s 3s/step - loss: 0.5091 - accuracy: 0.7864 - val_loss: 1.2098 - val_accuracy: 0.5625\n",
            "Epoch 17/100\n",
            "8/8 [==============================] - 24s 3s/step - loss: 0.3819 - accuracy: 0.8420 - val_loss: 2.4834 - val_accuracy: 0.5000\n",
            "Epoch 18/100\n",
            "8/8 [==============================] - 25s 3s/step - loss: 0.4200 - accuracy: 0.8042 - val_loss: 1.6327 - val_accuracy: 0.5273\n",
            "Epoch 19/100\n",
            "8/8 [==============================] - 25s 3s/step - loss: 0.4440 - accuracy: 0.8020 - val_loss: 1.2918 - val_accuracy: 0.5742\n",
            "Epoch 20/100\n",
            "8/8 [==============================] - 25s 3s/step - loss: 0.3708 - accuracy: 0.8354 - val_loss: 1.4296 - val_accuracy: 0.5781\n",
            "Epoch 21/100\n",
            "8/8 [==============================] - 26s 3s/step - loss: 0.4170 - accuracy: 0.8009 - val_loss: 1.7707 - val_accuracy: 0.5312\n",
            "Epoch 22/100\n",
            "8/8 [==============================] - 25s 3s/step - loss: 0.4206 - accuracy: 0.7998 - val_loss: 1.2880 - val_accuracy: 0.5820\n",
            "Epoch 23/100\n",
            "8/8 [==============================] - 25s 3s/step - loss: 0.3707 - accuracy: 0.8465 - val_loss: 1.2615 - val_accuracy: 0.5859\n",
            "Epoch 24/100\n",
            "8/8 [==============================] - 24s 3s/step - loss: 0.3932 - accuracy: 0.8220 - val_loss: 1.3145 - val_accuracy: 0.5859\n",
            "Epoch 25/100\n",
            "8/8 [==============================] - 23s 3s/step - loss: 0.3556 - accuracy: 0.8387 - val_loss: 2.6315 - val_accuracy: 0.5000\n",
            "Epoch 26/100\n",
            "8/8 [==============================] - 24s 3s/step - loss: 0.3551 - accuracy: 0.8521 - val_loss: 1.2842 - val_accuracy: 0.5859\n",
            "Epoch 27/100\n",
            "8/8 [==============================] - 24s 3s/step - loss: 0.3672 - accuracy: 0.8398 - val_loss: 1.2508 - val_accuracy: 0.5820\n",
            "Epoch 28/100\n",
            "8/8 [==============================] - 23s 3s/step - loss: 0.3357 - accuracy: 0.8498 - val_loss: 1.2427 - val_accuracy: 0.6250\n",
            "Epoch 29/100\n",
            "8/8 [==============================] - 24s 3s/step - loss: 0.3770 - accuracy: 0.8254 - val_loss: 1.5131 - val_accuracy: 0.5742\n",
            "Epoch 30/100\n",
            "8/8 [==============================] - 24s 3s/step - loss: 0.3959 - accuracy: 0.8287 - val_loss: 2.4055 - val_accuracy: 0.5195\n",
            "Epoch 31/100\n",
            "8/8 [==============================] - 24s 3s/step - loss: 0.3320 - accuracy: 0.8498 - val_loss: 1.8057 - val_accuracy: 0.5625\n",
            "Epoch 32/100\n",
            "8/8 [==============================] - 24s 3s/step - loss: 0.3598 - accuracy: 0.8587 - val_loss: 1.3306 - val_accuracy: 0.6016\n",
            "Epoch 33/100\n",
            "8/8 [==============================] - 24s 3s/step - loss: 0.2946 - accuracy: 0.8899 - val_loss: 1.4949 - val_accuracy: 0.6016\n",
            "Epoch 34/100\n",
            "8/8 [==============================] - 23s 3s/step - loss: 0.3023 - accuracy: 0.8665 - val_loss: 1.7568 - val_accuracy: 0.5820\n",
            "Epoch 35/100\n",
            "8/8 [==============================] - 24s 3s/step - loss: 0.3460 - accuracy: 0.8454 - val_loss: 1.6568 - val_accuracy: 0.5703\n",
            "Epoch 36/100\n",
            "8/8 [==============================] - 24s 3s/step - loss: 0.2978 - accuracy: 0.8810 - val_loss: 1.5180 - val_accuracy: 0.5977\n",
            "Epoch 37/100\n",
            "8/8 [==============================] - 24s 3s/step - loss: 0.3138 - accuracy: 0.8721 - val_loss: 1.5676 - val_accuracy: 0.5938\n",
            "Epoch 38/100\n",
            "8/8 [==============================] - 23s 3s/step - loss: 0.4684 - accuracy: 0.7998 - val_loss: 1.8016 - val_accuracy: 0.5312\n",
            "Epoch 39/100\n",
            "8/8 [==============================] - 26s 3s/step - loss: 0.3001 - accuracy: 0.8779 - val_loss: 1.4215 - val_accuracy: 0.5898\n",
            "Epoch 40/100\n",
            "8/8 [==============================] - 23s 3s/step - loss: 0.2742 - accuracy: 0.8810 - val_loss: 2.0180 - val_accuracy: 0.5391\n",
            "Epoch 41/100\n",
            "8/8 [==============================] - 24s 3s/step - loss: 0.2860 - accuracy: 0.8843 - val_loss: 1.6972 - val_accuracy: 0.5742\n",
            "Epoch 42/100\n",
            "8/8 [==============================] - 23s 3s/step - loss: 0.3111 - accuracy: 0.8576 - val_loss: 1.8741 - val_accuracy: 0.5820\n",
            "Epoch 43/100\n",
            "8/8 [==============================] - 23s 3s/step - loss: 0.4261 - accuracy: 0.8476 - val_loss: 3.6656 - val_accuracy: 0.5039\n",
            "Epoch 44/100\n",
            "8/8 [==============================] - 24s 3s/step - loss: 0.3264 - accuracy: 0.8476 - val_loss: 1.8065 - val_accuracy: 0.5859\n",
            "Epoch 45/100\n",
            "8/8 [==============================] - 24s 3s/step - loss: 0.2380 - accuracy: 0.9066 - val_loss: 1.8783 - val_accuracy: 0.5820\n",
            "Epoch 46/100\n",
            "8/8 [==============================] - 24s 3s/step - loss: 0.3101 - accuracy: 0.8788 - val_loss: 2.0309 - val_accuracy: 0.5586\n",
            "Epoch 47/100\n",
            "8/8 [==============================] - 24s 3s/step - loss: 0.2584 - accuracy: 0.8966 - val_loss: 1.8915 - val_accuracy: 0.5859\n",
            "Epoch 48/100\n",
            "8/8 [==============================] - 24s 3s/step - loss: 0.2695 - accuracy: 0.8843 - val_loss: 2.1944 - val_accuracy: 0.5781\n",
            "Epoch 49/100\n",
            "8/8 [==============================] - 24s 3s/step - loss: 0.3046 - accuracy: 0.8665 - val_loss: 1.9399 - val_accuracy: 0.5898\n",
            "Epoch 50/100\n",
            "8/8 [==============================] - 24s 3s/step - loss: 0.2005 - accuracy: 0.9188 - val_loss: 2.9875 - val_accuracy: 0.5312\n",
            "Epoch 51/100\n",
            "8/8 [==============================] - 24s 3s/step - loss: 0.2885 - accuracy: 0.8765 - val_loss: 2.6280 - val_accuracy: 0.5352\n",
            "Epoch 52/100\n",
            "8/8 [==============================] - 24s 3s/step - loss: 0.2711 - accuracy: 0.8754 - val_loss: 2.0064 - val_accuracy: 0.5703\n",
            "Epoch 53/100\n",
            "8/8 [==============================] - 24s 3s/step - loss: 0.2469 - accuracy: 0.8988 - val_loss: 2.6633 - val_accuracy: 0.5273\n",
            "Epoch 54/100\n",
            "8/8 [==============================] - 24s 3s/step - loss: 0.3072 - accuracy: 0.8654 - val_loss: 1.9305 - val_accuracy: 0.5898\n",
            "Epoch 55/100\n",
            "8/8 [==============================] - 27s 3s/step - loss: 0.2421 - accuracy: 0.9062 - val_loss: 1.0971 - val_accuracy: 0.7109\n",
            "Epoch 56/100\n",
            "8/8 [==============================] - 26s 3s/step - loss: 0.2371 - accuracy: 0.9014 - val_loss: 1.9912 - val_accuracy: 0.6094\n",
            "Epoch 57/100\n",
            "8/8 [==============================] - 24s 3s/step - loss: 0.2386 - accuracy: 0.9055 - val_loss: 1.8326 - val_accuracy: 0.6289\n",
            "Epoch 58/100\n",
            "8/8 [==============================] - 24s 3s/step - loss: 0.2522 - accuracy: 0.8943 - val_loss: 3.2439 - val_accuracy: 0.5234\n",
            "Epoch 59/100\n",
            "8/8 [==============================] - 23s 3s/step - loss: 0.2893 - accuracy: 0.8832 - val_loss: 1.6865 - val_accuracy: 0.6211\n",
            "Epoch 60/100\n",
            "8/8 [==============================] - 23s 3s/step - loss: 0.2300 - accuracy: 0.9043 - val_loss: 2.0672 - val_accuracy: 0.5742\n",
            "Epoch 61/100\n",
            "8/8 [==============================] - 23s 3s/step - loss: 0.2085 - accuracy: 0.9155 - val_loss: 2.3141 - val_accuracy: 0.5898\n",
            "Epoch 62/100\n",
            "8/8 [==============================] - 24s 3s/step - loss: 0.2800 - accuracy: 0.8877 - val_loss: 2.2129 - val_accuracy: 0.5859\n",
            "Epoch 63/100\n",
            "8/8 [==============================] - 24s 3s/step - loss: 0.2331 - accuracy: 0.8966 - val_loss: 2.2074 - val_accuracy: 0.6094\n",
            "Epoch 64/100\n",
            "8/8 [==============================] - 24s 3s/step - loss: 0.1836 - accuracy: 0.9321 - val_loss: 2.1987 - val_accuracy: 0.6055\n",
            "Epoch 65/100\n",
            "8/8 [==============================] - 24s 3s/step - loss: 0.2799 - accuracy: 0.8810 - val_loss: 2.0720 - val_accuracy: 0.6094\n",
            "Epoch 66/100\n",
            "8/8 [==============================] - 24s 3s/step - loss: 0.2118 - accuracy: 0.9088 - val_loss: 1.7962 - val_accuracy: 0.5938\n",
            "Epoch 67/100\n",
            "8/8 [==============================] - 24s 3s/step - loss: 0.2107 - accuracy: 0.9166 - val_loss: 2.1406 - val_accuracy: 0.5820\n",
            "Epoch 68/100\n",
            "8/8 [==============================] - 23s 3s/step - loss: 0.2202 - accuracy: 0.9099 - val_loss: 2.7696 - val_accuracy: 0.5508\n",
            "Epoch 69/100\n",
            "8/8 [==============================] - 24s 3s/step - loss: 0.1744 - accuracy: 0.9410 - val_loss: 3.2756 - val_accuracy: 0.5469\n",
            "Epoch 70/100\n",
            "8/8 [==============================] - 25s 3s/step - loss: 0.2237 - accuracy: 0.9010 - val_loss: 1.6724 - val_accuracy: 0.6680\n",
            "Epoch 71/100\n",
            "8/8 [==============================] - 25s 3s/step - loss: 0.2219 - accuracy: 0.9043 - val_loss: 3.1179 - val_accuracy: 0.5430\n",
            "Epoch 72/100\n",
            "8/8 [==============================] - 24s 3s/step - loss: 0.1871 - accuracy: 0.9232 - val_loss: 3.0782 - val_accuracy: 0.5547\n",
            "Epoch 73/100\n",
            "8/8 [==============================] - 24s 3s/step - loss: 0.2353 - accuracy: 0.9055 - val_loss: 2.3541 - val_accuracy: 0.6211\n",
            "Epoch 74/100\n",
            "8/8 [==============================] - 24s 3s/step - loss: 0.2572 - accuracy: 0.9210 - val_loss: 5.0135 - val_accuracy: 0.5273\n",
            "Epoch 75/100\n",
            "8/8 [==============================] - 24s 3s/step - loss: 0.2046 - accuracy: 0.9177 - val_loss: 2.0027 - val_accuracy: 0.6523\n",
            "Epoch 76/100\n",
            "8/8 [==============================] - 27s 3s/step - loss: 0.1817 - accuracy: 0.9297 - val_loss: 2.4596 - val_accuracy: 0.6211\n",
            "Epoch 77/100\n",
            "8/8 [==============================] - 24s 3s/step - loss: 0.2208 - accuracy: 0.9055 - val_loss: 2.8914 - val_accuracy: 0.5938\n",
            "Epoch 78/100\n",
            "8/8 [==============================] - 24s 3s/step - loss: 0.1853 - accuracy: 0.9266 - val_loss: 2.4645 - val_accuracy: 0.6250\n",
            "Epoch 79/100\n",
            "8/8 [==============================] - 24s 3s/step - loss: 0.1654 - accuracy: 0.9266 - val_loss: 3.1548 - val_accuracy: 0.6016\n",
            "Epoch 80/100\n",
            "8/8 [==============================] - 25s 3s/step - loss: 0.2569 - accuracy: 0.8977 - val_loss: 2.6522 - val_accuracy: 0.5859\n",
            "Epoch 81/100\n",
            "8/8 [==============================] - 27s 3s/step - loss: 0.1631 - accuracy: 0.9414 - val_loss: 2.3244 - val_accuracy: 0.6289\n",
            "Epoch 82/100\n",
            "8/8 [==============================] - 24s 3s/step - loss: 0.1640 - accuracy: 0.9444 - val_loss: 2.2469 - val_accuracy: 0.6367\n",
            "Epoch 83/100\n",
            "8/8 [==============================] - 24s 3s/step - loss: 0.1914 - accuracy: 0.9244 - val_loss: 3.0914 - val_accuracy: 0.5898\n",
            "Epoch 84/100\n",
            "8/8 [==============================] - 24s 3s/step - loss: 0.1751 - accuracy: 0.9199 - val_loss: 2.5662 - val_accuracy: 0.6250\n",
            "Epoch 85/100\n",
            "8/8 [==============================] - 24s 3s/step - loss: 0.1521 - accuracy: 0.9377 - val_loss: 2.6749 - val_accuracy: 0.6211\n",
            "Epoch 86/100\n",
            "8/8 [==============================] - 24s 3s/step - loss: 0.1645 - accuracy: 0.9344 - val_loss: 1.9097 - val_accuracy: 0.6758\n",
            "Epoch 87/100\n",
            "8/8 [==============================] - 24s 3s/step - loss: 0.1933 - accuracy: 0.9299 - val_loss: 2.0347 - val_accuracy: 0.6523\n",
            "Epoch 88/100\n",
            "8/8 [==============================] - 24s 3s/step - loss: 0.1775 - accuracy: 0.9232 - val_loss: 2.9927 - val_accuracy: 0.5898\n",
            "Epoch 89/100\n",
            "8/8 [==============================] - 24s 3s/step - loss: 0.1585 - accuracy: 0.9410 - val_loss: 1.9791 - val_accuracy: 0.6797\n",
            "Epoch 90/100\n",
            "8/8 [==============================] - 25s 3s/step - loss: 0.2486 - accuracy: 0.9010 - val_loss: 2.6852 - val_accuracy: 0.6172\n",
            "Epoch 91/100\n",
            "8/8 [==============================] - 24s 3s/step - loss: 0.1635 - accuracy: 0.9377 - val_loss: 3.8380 - val_accuracy: 0.5469\n",
            "Epoch 92/100\n",
            "8/8 [==============================] - 26s 3s/step - loss: 0.1597 - accuracy: 0.9366 - val_loss: 2.9168 - val_accuracy: 0.6094\n",
            "Epoch 93/100\n",
            "8/8 [==============================] - 25s 3s/step - loss: 0.1406 - accuracy: 0.9455 - val_loss: 2.3669 - val_accuracy: 0.6641\n",
            "Epoch 94/100\n",
            "8/8 [==============================] - 24s 3s/step - loss: 0.1899 - accuracy: 0.9199 - val_loss: 1.8468 - val_accuracy: 0.6797\n",
            "Epoch 95/100\n",
            "8/8 [==============================] - 24s 3s/step - loss: 0.1572 - accuracy: 0.9399 - val_loss: 2.7162 - val_accuracy: 0.6250\n",
            "Epoch 96/100\n",
            "8/8 [==============================] - 26s 3s/step - loss: 0.1486 - accuracy: 0.9375 - val_loss: 4.0374 - val_accuracy: 0.5586\n",
            "Epoch 97/100\n",
            "8/8 [==============================] - 24s 3s/step - loss: 0.1366 - accuracy: 0.9499 - val_loss: 3.1039 - val_accuracy: 0.5977\n",
            "Epoch 98/100\n",
            "8/8 [==============================] - 26s 3s/step - loss: 0.1629 - accuracy: 0.9365 - val_loss: 1.1811 - val_accuracy: 0.7422\n",
            "Epoch 99/100\n",
            "8/8 [==============================] - 24s 3s/step - loss: 0.1442 - accuracy: 0.9444 - val_loss: 1.7137 - val_accuracy: 0.6992\n",
            "Epoch 100/100\n",
            "8/8 [==============================] - 24s 3s/step - loss: 0.1608 - accuracy: 0.9399 - val_loss: 2.7491 - val_accuracy: 0.6211\n"
          ]
        }
      ]
    },
    {
      "cell_type": "code",
      "metadata": {
        "id": "7zNPRWOVJdOH",
        "outputId": "62ff57fc-9696-4f13-a969-5629e9e041a5",
        "colab": {
          "base_uri": "https://localhost:8080/",
          "height": 545
        }
      },
      "source": [
        "import matplotlib.pyplot as plt\n",
        "acc = history.history['accuracy']\n",
        "val_acc = history.history['val_accuracy']\n",
        "loss = history.history['loss']\n",
        "val_loss = history.history['val_loss']\n",
        "\n",
        "epochs = range(len(acc))\n",
        "\n",
        "plt.plot(epochs, acc, 'r', label='Training accuracy')\n",
        "plt.plot(epochs, val_acc, 'b', label='Validation accuracy')\n",
        "plt.title('Training and validation accuracy')\n",
        "\n",
        "plt.figure()\n",
        "\n",
        "plt.plot(epochs, loss, 'r', label='Training Loss')\n",
        "plt.plot(epochs, val_loss, 'b', label='Validation Loss')\n",
        "plt.title('Training and validation loss')\n",
        "plt.legend()\n",
        "\n",
        "plt.show()"
      ],
      "execution_count": 8,
      "outputs": [
        {
          "output_type": "display_data",
          "data": {
            "image/png": "[encoded data removed]",
            "text/plain": [
              "<Figure size 432x288 with 1 Axes>"
            ]
          },
          "metadata": {
            "needs_background": "light"
          }
        },
        {
          "output_type": "display_data",
          "data": {
            "image/png": "[encoded data removed]",
            "text/plain": [
              "<Figure size 432x288 with 1 Axes>"
            ]
          },
          "metadata": {
            "needs_background": "light"
          }
        }
      ]
    }
  ]
}