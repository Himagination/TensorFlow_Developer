{
  "nbformat": 4,
  "nbformat_minor": 0,
  "metadata": {
    "colab": {
      "name": "05_FineTuning_Transfer_Learning.ipynb",
      "provenance": [],
      "collapsed_sections": [
        "bq-GkVj278ri",
        "I4ZTHJMn9AYa",
        "szsL35Z3A60Z",
        "mNjlrUoN4kLS",
        "IZ_vbALZJK-w",
        "qi6c_tkkLGYm",
        "4Dq1CUWkMUc1",
        "q6aqNA1RWkTo"
      ],
      "authorship_tag": "ABX9TyNwKO1eYXwqxaL4AHd61qhu",
      "include_colab_link": true
    },
    "kernelspec": {
      "name": "python3",
      "display_name": "Python 3"
    },
    "language_info": {
      "name": "python"
    },
    "accelerator": "GPU"
  },
  "cells": [
    {
      "cell_type": "markdown",
      "metadata": {
        "id": "view-in-github",
        "colab_type": "text"
      },
      "source": [
        "<a href=\"https://colab.research.google.com/github/Himagination/TensorFlow_Developer/blob/main/05_FineTuning_Transfer_Learning.ipynb\" target=\"_parent\"><img src=\"https://colab.research.google.com/assets/colab-badge.svg\" alt=\"Open In Colab\"/></a>"
      ]
    },
    {
      "cell_type": "code",
      "execution_count": 1,
      "metadata": {
        "colab": {
          "base_uri": "https://localhost:8080/"
        },
        "id": "i08M4e9S2MQW",
        "outputId": "cc424f46-ab1f-4e2a-9f29-45dbbd84fe99"
      },
      "outputs": [
        {
          "output_type": "stream",
          "name": "stdout",
          "text": [
            "Thu Apr 14 03:15:55 2022       \n",
            "+-----------------------------------------------------------------------------+\n",
            "| NVIDIA-SMI 460.32.03    Driver Version: 460.32.03    CUDA Version: 11.2     |\n",
            "|-------------------------------+----------------------+----------------------+\n",
            "| GPU  Name        Persistence-M| Bus-Id        Disp.A | Volatile Uncorr. ECC |\n",
            "| Fan  Temp  Perf  Pwr:Usage/Cap|         Memory-Usage | GPU-Util  Compute M. |\n",
            "|                               |                      |               MIG M. |\n",
            "|===============================+======================+======================|\n",
            "|   0  Tesla T4            Off  | 00000000:00:04.0 Off |                    0 |\n",
            "| N/A   48C    P8    10W /  70W |      0MiB / 15109MiB |      0%      Default |\n",
            "|                               |                      |                  N/A |\n",
            "+-------------------------------+----------------------+----------------------+\n",
            "                                                                               \n",
            "+-----------------------------------------------------------------------------+\n",
            "| Processes:                                                                  |\n",
            "|  GPU   GI   CI        PID   Type   Process name                  GPU Memory |\n",
            "|        ID   ID                                                   Usage      |\n",
            "|=============================================================================|\n",
            "|  No running processes found                                                 |\n",
            "+-----------------------------------------------------------------------------+\n"
          ]
        }
      ],
      "source": [
        "!nvidia-smi"
      ]
    },
    {
      "cell_type": "markdown",
      "source": [
        "## Creating Helper functions\n",
        "\n",
        "Import helper_functions.py from Github."
      ],
      "metadata": {
        "id": "bq-GkVj278ri"
      }
    },
    {
      "cell_type": "code",
      "source": [
        "!wget https://raw.githubusercontent.com/mrdbourke/tensorflow-deep-learning/main/extras/helper_functions.py"
      ],
      "metadata": {
        "colab": {
          "base_uri": "https://localhost:8080/"
        },
        "id": "xMG6h0Zv7y8n",
        "outputId": "f01c1425-72e2-4837-82b4-8fe10c30c37a"
      },
      "execution_count": 2,
      "outputs": [
        {
          "output_type": "stream",
          "name": "stdout",
          "text": [
            "--2022-04-14 03:15:55--  https://raw.githubusercontent.com/mrdbourke/tensorflow-deep-learning/main/extras/helper_functions.py\n",
            "Resolving raw.githubusercontent.com (raw.githubusercontent.com)... 185.199.108.133, 185.199.109.133, 185.199.110.133, ...\n",
            "Connecting to raw.githubusercontent.com (raw.githubusercontent.com)|185.199.108.133|:443... connected.\n",
            "HTTP request sent, awaiting response... 200 OK\n",
            "Length: 10246 (10K) [text/plain]\n",
            "Saving to: ‘helper_functions.py’\n",
            "\n",
            "helper_functions.py 100%[===================>]  10.01K  --.-KB/s    in 0s      \n",
            "\n",
            "2022-04-14 03:15:56 (108 MB/s) - ‘helper_functions.py’ saved [10246/10246]\n",
            "\n"
          ]
        }
      ]
    },
    {
      "cell_type": "code",
      "source": [
        "from helper_functions import create_tensorboard_callback, plot_loss_curves, unzip_data, walk_through_dir"
      ],
      "metadata": {
        "id": "8Y_gtee48bge"
      },
      "execution_count": 3,
      "outputs": []
    },
    {
      "cell_type": "markdown",
      "source": [
        "## Get data\n",
        "\n",
        "- Use pretrained models within `tf.keras.applications`"
      ],
      "metadata": {
        "id": "I4ZTHJMn9AYa"
      }
    },
    {
      "cell_type": "code",
      "source": [
        "!wget https://storage.googleapis.com/ztm_tf_course/food_vision/10_food_classes_10_percent.zip"
      ],
      "metadata": {
        "colab": {
          "base_uri": "https://localhost:8080/"
        },
        "id": "4O0yAPg8802e",
        "outputId": "2140afb2-2f99-4149-8158-ae167957d4b3"
      },
      "execution_count": 4,
      "outputs": [
        {
          "output_type": "stream",
          "name": "stdout",
          "text": [
            "--2022-04-14 03:15:58--  https://storage.googleapis.com/ztm_tf_course/food_vision/10_food_classes_10_percent.zip\n",
            "Resolving storage.googleapis.com (storage.googleapis.com)... 172.217.1.208, 142.250.73.208, 142.251.33.208, ...\n",
            "Connecting to storage.googleapis.com (storage.googleapis.com)|172.217.1.208|:443... connected.\n",
            "HTTP request sent, awaiting response... 200 OK\n",
            "Length: 168546183 (161M) [application/zip]\n",
            "Saving to: ‘10_food_classes_10_percent.zip’\n",
            "\n",
            "10_food_classes_10_ 100%[===================>] 160.74M   264MB/s    in 0.6s    \n",
            "\n",
            "2022-04-14 03:15:59 (264 MB/s) - ‘10_food_classes_10_percent.zip’ saved [168546183/168546183]\n",
            "\n"
          ]
        }
      ]
    },
    {
      "cell_type": "code",
      "source": [
        "unzip_data(\"10_food_classes_10_percent.zip\")"
      ],
      "metadata": {
        "id": "fiwK-hSe9lCD"
      },
      "execution_count": 5,
      "outputs": []
    },
    {
      "cell_type": "code",
      "source": [
        "# Check out how many images and subdirectories are in our dataset\n",
        "walk_through_dir(\"10_food_classes_10_percent\")"
      ],
      "metadata": {
        "colab": {
          "base_uri": "https://localhost:8080/"
        },
        "id": "c6gzZsmq9tii",
        "outputId": "367e00b3-2410-4d5a-c799-bc8a227b0af9"
      },
      "execution_count": 6,
      "outputs": [
        {
          "output_type": "stream",
          "name": "stdout",
          "text": [
            "There are 2 directories and 0 images in '10_food_classes_10_percent'.\n",
            "There are 10 directories and 0 images in '10_food_classes_10_percent/train'.\n",
            "There are 0 directories and 75 images in '10_food_classes_10_percent/train/steak'.\n",
            "There are 0 directories and 75 images in '10_food_classes_10_percent/train/sushi'.\n",
            "There are 0 directories and 75 images in '10_food_classes_10_percent/train/fried_rice'.\n",
            "There are 0 directories and 75 images in '10_food_classes_10_percent/train/hamburger'.\n",
            "There are 0 directories and 75 images in '10_food_classes_10_percent/train/grilled_salmon'.\n",
            "There are 0 directories and 75 images in '10_food_classes_10_percent/train/chicken_wings'.\n",
            "There are 0 directories and 75 images in '10_food_classes_10_percent/train/pizza'.\n",
            "There are 0 directories and 75 images in '10_food_classes_10_percent/train/ramen'.\n",
            "There are 0 directories and 75 images in '10_food_classes_10_percent/train/chicken_curry'.\n",
            "There are 0 directories and 75 images in '10_food_classes_10_percent/train/ice_cream'.\n",
            "There are 10 directories and 0 images in '10_food_classes_10_percent/test'.\n",
            "There are 0 directories and 250 images in '10_food_classes_10_percent/test/steak'.\n",
            "There are 0 directories and 250 images in '10_food_classes_10_percent/test/sushi'.\n",
            "There are 0 directories and 250 images in '10_food_classes_10_percent/test/fried_rice'.\n",
            "There are 0 directories and 250 images in '10_food_classes_10_percent/test/hamburger'.\n",
            "There are 0 directories and 250 images in '10_food_classes_10_percent/test/grilled_salmon'.\n",
            "There are 0 directories and 250 images in '10_food_classes_10_percent/test/chicken_wings'.\n",
            "There are 0 directories and 250 images in '10_food_classes_10_percent/test/pizza'.\n",
            "There are 0 directories and 250 images in '10_food_classes_10_percent/test/ramen'.\n",
            "There are 0 directories and 250 images in '10_food_classes_10_percent/test/chicken_curry'.\n",
            "There are 0 directories and 250 images in '10_food_classes_10_percent/test/ice_cream'.\n"
          ]
        }
      ]
    },
    {
      "cell_type": "code",
      "source": [
        "# creating training and test directory paths\n",
        "train_dir = \"/content/10_food_classes_10_percent/train\"\n",
        "test_dir = \"/content/10_food_classes_10_percent/test\""
      ],
      "metadata": {
        "id": "wJcWQOPd94T2"
      },
      "execution_count": 7,
      "outputs": []
    },
    {
      "cell_type": "code",
      "source": [
        "import tensorflow as tf\n",
        "IMG_SIZE = (224, 224)\n",
        "BATCH_SIZE = 32\n",
        "train_data_10_percent = tf.keras.preprocessing.image_dataset_from_directory(directory=train_dir, \n",
        "                                                                            image_size=IMG_SIZE, \n",
        "                                                                            label_mode=\"categorical\", \n",
        "                                                                            batch_size=BATCH_SIZE)\n",
        "test_data = tf.keras.preprocessing.image_dataset_from_directory(directory=test_dir, \n",
        "                                                                image_size=IMG_SIZE, \n",
        "                                                                label_mode=\"categorical\", \n",
        "                                                                batch_size=BATCH_SIZE)"
      ],
      "metadata": {
        "colab": {
          "base_uri": "https://localhost:8080/"
        },
        "id": "bPrjXm-Y-nZO",
        "outputId": "ecdec812-16fe-4214-9093-27e2a3e0b91f"
      },
      "execution_count": 8,
      "outputs": [
        {
          "output_type": "stream",
          "name": "stdout",
          "text": [
            "Found 750 files belonging to 10 classes.\n",
            "Found 2500 files belonging to 10 classes.\n"
          ]
        }
      ]
    },
    {
      "cell_type": "code",
      "source": [
        "train_data_10_percent"
      ],
      "metadata": {
        "colab": {
          "base_uri": "https://localhost:8080/"
        },
        "id": "asa4jsmJ_7Cv",
        "outputId": "a9899e8c-9065-4bcd-f1aa-da0f8e8f77f7"
      },
      "execution_count": 9,
      "outputs": [
        {
          "output_type": "execute_result",
          "data": {
            "text/plain": [
              "<BatchDataset element_spec=(TensorSpec(shape=(None, 224, 224, 3), dtype=tf.float32, name=None), TensorSpec(shape=(None, 10), dtype=tf.float32, name=None))>"
            ]
          },
          "metadata": {},
          "execution_count": 9
        }
      ]
    },
    {
      "cell_type": "code",
      "source": [
        "train_data_10_percent.class_names"
      ],
      "metadata": {
        "colab": {
          "base_uri": "https://localhost:8080/"
        },
        "id": "YjgJ7OCq_bw8",
        "outputId": "369aee3d-e075-4cd1-e8bb-9a10b78088e7"
      },
      "execution_count": 10,
      "outputs": [
        {
          "output_type": "execute_result",
          "data": {
            "text/plain": [
              "['chicken_curry',\n",
              " 'chicken_wings',\n",
              " 'fried_rice',\n",
              " 'grilled_salmon',\n",
              " 'hamburger',\n",
              " 'ice_cream',\n",
              " 'pizza',\n",
              " 'ramen',\n",
              " 'steak',\n",
              " 'sushi']"
            ]
          },
          "metadata": {},
          "execution_count": 10
        }
      ]
    },
    {
      "cell_type": "code",
      "source": [
        "for images, labels in train_data_10_percent.take(1):\n",
        "  print(images, labels)"
      ],
      "metadata": {
        "colab": {
          "base_uri": "https://localhost:8080/"
        },
        "id": "RJsjHB00_zwS",
        "outputId": "54f7bac6-9f8f-4066-fe6f-bd7493304e9e"
      },
      "execution_count": 11,
      "outputs": [
        {
          "output_type": "stream",
          "name": "stdout",
          "text": [
            "tf.Tensor(\n",
            "[[[[0.00000000e+00 0.00000000e+00 2.00000000e+00]\n",
            "   [0.00000000e+00 9.28571701e-01 2.92857170e+00]\n",
            "   [0.00000000e+00 1.00000000e+00 5.00000000e+00]\n",
            "   ...\n",
            "   [0.00000000e+00 1.00000000e+00 5.21426392e+00]\n",
            "   [0.00000000e+00 1.00000000e+00 5.00000000e+00]\n",
            "   [0.00000000e+00 1.00000000e+00 5.00000000e+00]]\n",
            "\n",
            "  [[0.00000000e+00 0.00000000e+00 2.85714293e+00]\n",
            "   [0.00000000e+00 9.28571701e-01 3.78571463e+00]\n",
            "   [0.00000000e+00 1.00000000e+00 5.00000000e+00]\n",
            "   ...\n",
            "   [0.00000000e+00 1.00000000e+00 5.55100775e+00]\n",
            "   [0.00000000e+00 1.00000000e+00 5.00000000e+00]\n",
            "   [0.00000000e+00 1.00000000e+00 5.00000000e+00]]\n",
            "\n",
            "  [[0.00000000e+00 0.00000000e+00 4.00000000e+00]\n",
            "   [0.00000000e+00 9.28571701e-01 4.92857170e+00]\n",
            "   [0.00000000e+00 1.00000000e+00 5.00000000e+00]\n",
            "   ...\n",
            "   [0.00000000e+00 1.00000000e+00 6.00000000e+00]\n",
            "   [0.00000000e+00 1.00000000e+00 5.00000000e+00]\n",
            "   [0.00000000e+00 1.00000000e+00 5.00000000e+00]]\n",
            "\n",
            "  ...\n",
            "\n",
            "  [[8.81634045e+00 8.81634045e+00 8.81634045e+00]\n",
            "   [1.23571606e+01 1.03571606e+01 1.13571606e+01]\n",
            "   [1.30714464e+01 1.06428747e+01 1.16428747e+01]\n",
            "   ...\n",
            "   [3.63775368e+01 5.55102158e+00 4.51019478e+00]\n",
            "   [3.11632938e+01 2.69388318e+00 3.49996948e+00]\n",
            "   [2.71326237e+01 1.35711670e+00 1.21423340e+00]]\n",
            "\n",
            "  [[7.07144594e+00 7.07144594e+00 7.07144594e+00]\n",
            "   [9.78574944e+00 8.92857170e+00 9.35716057e+00]\n",
            "   [1.10714464e+01 8.64287472e+00 9.64287472e+00]\n",
            "   ...\n",
            "   [3.03572083e+01 3.85711670e+00 5.78573608e+00]\n",
            "   [2.40306797e+01 1.92855835e+00 4.35714722e+00]\n",
            "   [2.03571777e+01 2.75506467e-01 3.21423340e+00]]\n",
            "\n",
            "  [[5.78570986e+00 5.78570986e+00 5.78570986e+00]\n",
            "   [8.13264942e+00 8.13264942e+00 8.13264942e+00]\n",
            "   [9.78571033e+00 7.35713863e+00 8.35713863e+00]\n",
            "   ...\n",
            "   [2.56428223e+01 3.24487209e+00 5.96939182e+00]\n",
            "   [2.00815868e+01 1.13264716e+00 4.78570557e+00]\n",
            "   [1.60713806e+01 0.00000000e+00 4.49996948e+00]]]\n",
            "\n",
            "\n",
            " [[[1.69413269e+02 1.66413269e+02 1.57413269e+02]\n",
            "   [1.71903061e+02 1.68903061e+02 1.59903061e+02]\n",
            "   [1.75137756e+02 1.72137756e+02 1.63137756e+02]\n",
            "   ...\n",
            "   [1.81933640e+02 1.87933640e+02 1.77933640e+02]\n",
            "   [1.80596924e+02 1.86596924e+02 1.76596924e+02]\n",
            "   [1.78872437e+02 1.84872437e+02 1.74872437e+02]]\n",
            "\n",
            "  [[1.71571426e+02 1.68571426e+02 1.59571426e+02]\n",
            "   [1.74852051e+02 1.71852051e+02 1.62852051e+02]\n",
            "   [1.76198975e+02 1.73198975e+02 1.64198975e+02]\n",
            "   ...\n",
            "   [1.84928574e+02 1.90928574e+02 1.80928574e+02]\n",
            "   [1.82857132e+02 1.88857132e+02 1.78857132e+02]\n",
            "   [1.81903061e+02 1.87903061e+02 1.77903061e+02]]\n",
            "\n",
            "  [[1.72928574e+02 1.69928574e+02 1.60928574e+02]\n",
            "   [1.76198975e+02 1.73198975e+02 1.64198975e+02]\n",
            "   [1.75214294e+02 1.72214294e+02 1.63214294e+02]\n",
            "   ...\n",
            "   [1.86785736e+02 1.92785736e+02 1.82785736e+02]\n",
            "   [1.83658142e+02 1.89658142e+02 1.79658142e+02]\n",
            "   [1.84433716e+02 1.90433716e+02 1.80433716e+02]]\n",
            "\n",
            "  ...\n",
            "\n",
            "  [[1.48923477e+02 1.41923477e+02 1.23923477e+02]\n",
            "   [1.49270386e+02 1.42270386e+02 1.24270386e+02]\n",
            "   [1.49214279e+02 1.44214279e+02 1.25214287e+02]\n",
            "   ...\n",
            "   [1.56617386e+02 1.59617386e+02 1.40617386e+02]\n",
            "   [1.52015305e+02 1.55015305e+02 1.36015305e+02]\n",
            "   [1.51994827e+02 1.54994827e+02 1.35994827e+02]]\n",
            "\n",
            "  [[1.48928558e+02 1.41928558e+02 1.22928558e+02]\n",
            "   [1.48071426e+02 1.41071426e+02 1.22071426e+02]\n",
            "   [1.48428574e+02 1.43428574e+02 1.23428574e+02]\n",
            "   ...\n",
            "   [1.53913254e+02 1.56913254e+02 1.37913254e+02]\n",
            "   [1.51923462e+02 1.54923462e+02 1.35923462e+02]\n",
            "   [1.52265335e+02 1.55265335e+02 1.36265335e+02]]\n",
            "\n",
            "  [[1.47285675e+02 1.40285675e+02 1.21285683e+02]\n",
            "   [1.49331665e+02 1.42331665e+02 1.23331665e+02]\n",
            "   [1.48214279e+02 1.43214279e+02 1.23214287e+02]\n",
            "   ...\n",
            "   [1.52000000e+02 1.55000000e+02 1.36000000e+02]\n",
            "   [1.50734634e+02 1.53734634e+02 1.34734634e+02]\n",
            "   [1.48357178e+02 1.51357178e+02 1.32357178e+02]]]\n",
            "\n",
            "\n",
            " [[[7.28571415e+00 8.28571415e+00 1.22857151e+01]\n",
            "   [6.71428537e+00 7.71428537e+00 1.17142859e+01]\n",
            "   [3.57142878e+00 4.57142878e+00 7.58163261e+00]\n",
            "   ...\n",
            "   [1.50775497e+02 1.39627594e+02 1.06357208e+02]\n",
            "   [1.48979568e+02 1.37979568e+02 1.05979561e+02]\n",
            "   [1.37382370e+02 1.26382378e+02 9.43823776e+01]]\n",
            "\n",
            "  [[5.66836739e+00 6.66836739e+00 1.05255108e+01]\n",
            "   [5.93367338e+00 6.93367338e+00 8.93367386e+00]\n",
            "   [5.19897985e+00 6.21428585e+00 8.16836739e+00]\n",
            "   ...\n",
            "   [1.51071518e+02 1.40428726e+02 1.05627686e+02]\n",
            "   [1.53852020e+02 1.43852020e+02 1.08852028e+02]\n",
            "   [1.48908066e+02 1.37979492e+02 1.05765205e+02]]\n",
            "\n",
            "  [[7.06632662e+00 8.06632614e+00 1.00663261e+01]\n",
            "   [5.07142830e+00 6.07142830e+00 8.07142830e+00]\n",
            "   [4.21428585e+00 6.04591846e+00 5.55102015e+00]\n",
            "   ...\n",
            "   [1.52500092e+02 1.41857300e+02 1.06239929e+02]\n",
            "   [1.55158127e+02 1.45158127e+02 1.10158127e+02]\n",
            "   [1.50775528e+02 1.40775528e+02 1.05775528e+02]]\n",
            "\n",
            "  ...\n",
            "\n",
            "  [[1.02142868e+02 1.01142868e+02 8.31428680e+01]\n",
            "   [1.03872437e+02 1.02872437e+02 8.48724365e+01]\n",
            "   [1.04831627e+02 1.03831627e+02 8.42602158e+01]\n",
            "   ...\n",
            "   [1.18525497e+02 1.23954086e+02 1.28719376e+02]\n",
            "   [1.19571381e+02 1.25214264e+02 1.28999969e+02]\n",
            "   [1.15000000e+02 1.20642883e+02 1.24428589e+02]]\n",
            "\n",
            "  [[1.03260208e+02 1.02260208e+02 8.42602081e+01]\n",
            "   [1.03142853e+02 1.02142853e+02 8.41428528e+01]\n",
            "   [1.03285698e+02 1.02285698e+02 8.42856979e+01]\n",
            "   ...\n",
            "   [1.15127518e+02 1.23586777e+02 1.28857147e+02]\n",
            "   [1.17857086e+02 1.26785675e+02 1.31642853e+02]\n",
            "   [1.15331673e+02 1.24260262e+02 1.29117432e+02]]\n",
            "\n",
            "  [[1.02515312e+02 1.01515312e+02 8.08724594e+01]\n",
            "   [1.01545921e+02 1.00545921e+02 8.05459213e+01]\n",
            "   [1.03214287e+02 1.02214287e+02 8.42142868e+01]\n",
            "   ...\n",
            "   [1.14494888e+02 1.23494888e+02 1.28770370e+02]\n",
            "   [1.13928558e+02 1.24214264e+02 1.28571411e+02]\n",
            "   [1.12301086e+02 1.23301086e+02 1.27301086e+02]]]\n",
            "\n",
            "\n",
            " ...\n",
            "\n",
            "\n",
            " [[[1.09438772e+01 9.94387722e+00 5.94387770e+00]\n",
            "   [9.76020336e+00 8.76020336e+00 4.76020384e+00]\n",
            "   [8.63775539e+00 7.63775492e+00 3.63775492e+00]\n",
            "   ...\n",
            "   [4.00000000e+00 4.00000000e+00 2.00000000e+00]\n",
            "   [3.00000000e+00 5.00000000e+00 4.00000000e+00]\n",
            "   [3.00000000e+00 5.00000000e+00 4.00000000e+00]]\n",
            "\n",
            "  [[8.07142830e+00 7.07142830e+00 3.07142830e+00]\n",
            "   [8.00510216e+00 7.00510216e+00 3.00510192e+00]\n",
            "   [7.00000000e+00 6.00000000e+00 2.00000000e+00]\n",
            "   ...\n",
            "   [4.00000000e+00 4.00000000e+00 2.00000000e+00]\n",
            "   [3.00000000e+00 5.00000000e+00 4.00000000e+00]\n",
            "   [3.00000000e+00 5.00000000e+00 4.00000000e+00]]\n",
            "\n",
            "  [[8.57142830e+00 7.78571415e+00 4.21428585e+00]\n",
            "   [8.57142830e+00 7.78571415e+00 4.21428585e+00]\n",
            "   [8.78571415e+00 8.00000000e+00 4.42857170e+00]\n",
            "   ...\n",
            "   [4.00000000e+00 4.00000000e+00 2.00000000e+00]\n",
            "   [3.00000000e+00 5.00000000e+00 4.00000000e+00]\n",
            "   [3.00000000e+00 5.00000000e+00 4.00000000e+00]]\n",
            "\n",
            "  ...\n",
            "\n",
            "  [[2.42132782e+02 2.36495087e+02 2.28352249e+02]\n",
            "   [2.45969498e+02 2.41127731e+02 2.32127747e+02]\n",
            "   [2.49357254e+02 2.43928726e+02 2.37500198e+02]\n",
            "   ...\n",
            "   [2.08117233e+02 2.09285583e+02 2.04285583e+02]\n",
            "   [2.17122238e+02 2.18122238e+02 2.13122238e+02]\n",
            "   [2.14719528e+02 2.15719528e+02 2.10719528e+02]]\n",
            "\n",
            "  [[2.53474518e+02 2.51525558e+02 2.47260254e+02]\n",
            "   [2.54137772e+02 2.53076553e+02 2.48280655e+02]\n",
            "   [2.53484711e+02 2.54071442e+02 2.49285721e+02]\n",
            "   ...\n",
            "   [1.99627548e+02 2.01627548e+02 1.96627548e+02]\n",
            "   [1.98341904e+02 2.00341904e+02 1.95341904e+02]\n",
            "   [2.06974365e+02 2.08974365e+02 2.03974365e+02]]\n",
            "\n",
            "  [[2.53928497e+02 2.53928497e+02 2.51928497e+02]\n",
            "   [2.53688736e+02 2.55000000e+02 2.52642822e+02]\n",
            "   [2.52857101e+02 2.54719360e+02 2.52010178e+02]\n",
            "   ...\n",
            "   [1.99005173e+02 2.01005173e+02 1.96005173e+02]\n",
            "   [1.99260223e+02 2.01260223e+02 1.96260223e+02]\n",
            "   [2.02056046e+02 2.04056046e+02 1.99056046e+02]]]\n",
            "\n",
            "\n",
            " [[[1.19071426e+02 1.18071426e+02 1.24071426e+02]\n",
            "   [1.19642860e+02 1.18642860e+02 1.26642860e+02]\n",
            "   [1.27015305e+02 1.23372452e+02 1.33015305e+02]\n",
            "   ...\n",
            "   [6.34592247e+01 2.10356598e+01 5.31118584e+00]\n",
            "   [7.11172638e+01 2.57601204e+01 7.73969603e+00]\n",
            "   [9.60677109e+01 4.90677147e+01 3.13227711e+01]]\n",
            "\n",
            "  [[1.13479591e+02 1.12479591e+02 1.20479591e+02]\n",
            "   [1.18785721e+02 1.17785721e+02 1.25785721e+02]\n",
            "   [1.21127548e+02 1.17913261e+02 1.29556122e+02]\n",
            "   ...\n",
            "   [1.04362160e+02 6.37498665e+01 3.25355568e+01]\n",
            "   [1.28663452e+02 8.55920181e+01 5.40818100e+01]\n",
            "   [1.44326599e+02 1.01918495e+02 7.03674698e+01]]\n",
            "\n",
            "  [[1.11729591e+02 1.10515305e+02 1.19158165e+02]\n",
            "   [1.21214287e+02 1.20000000e+02 1.28642868e+02]\n",
            "   [1.21025513e+02 1.17642860e+02 1.29836746e+02]\n",
            "   ...\n",
            "   [1.72862305e+02 1.35459229e+02 8.80612411e+01]\n",
            "   [1.59566177e+02 1.21882530e+02 7.69386597e+01]\n",
            "   [1.20846153e+02 8.42747269e+01 4.24278030e+01]]\n",
            "\n",
            "  ...\n",
            "\n",
            "  [[1.74142883e+02 1.93142883e+02 1.99357147e+02]\n",
            "   [1.72413223e+02 1.91413223e+02 1.97627487e+02]\n",
            "   [1.74168350e+02 1.93168350e+02 2.00168350e+02]\n",
            "   ...\n",
            "   [1.54806229e+02 1.62591965e+02 1.76234756e+02]\n",
            "   [1.44102112e+02 1.54102112e+02 1.64102112e+02]\n",
            "   [1.54499908e+02 1.64499908e+02 1.73499908e+02]]\n",
            "\n",
            "  [[1.75499954e+02 1.94499954e+02 2.00499954e+02]\n",
            "   [1.71066330e+02 1.90066330e+02 1.96066330e+02]\n",
            "   [1.74301025e+02 1.93301025e+02 1.99515320e+02]\n",
            "   ...\n",
            "   [1.55260254e+02 1.63045990e+02 1.76688782e+02]\n",
            "   [1.54081650e+02 1.64081650e+02 1.74081650e+02]\n",
            "   [1.53407944e+02 1.63407944e+02 1.72407944e+02]]\n",
            "\n",
            "  [[1.74556198e+02 1.93556198e+02 1.99556198e+02]\n",
            "   [1.71382690e+02 1.90382690e+02 1.96382690e+02]\n",
            "   [1.72851929e+02 1.91851929e+02 1.98066208e+02]\n",
            "   ...\n",
            "   [1.57193970e+02 1.64979706e+02 1.78622498e+02]\n",
            "   [1.52234726e+02 1.62234726e+02 1.72234726e+02]\n",
            "   [1.57142578e+02 1.67142578e+02 1.76142578e+02]]]\n",
            "\n",
            "\n",
            " [[[6.75561218e+01 1.51989803e+01 2.75510192e+00]\n",
            "   [7.28826523e+01 2.05255108e+01 6.93367386e+00]\n",
            "   [7.54948959e+01 2.59285717e+01 1.10714283e+01]\n",
            "   ...\n",
            "   [7.05000229e+01 3.92854977e+00 0.00000000e+00]\n",
            "   [7.21428680e+01 3.14287019e+00 0.00000000e+00]\n",
            "   [7.35867233e+01 4.58672237e+00 0.00000000e+00]]\n",
            "\n",
            "  [[6.45510178e+01 6.19387770e+00 2.55101882e-02]\n",
            "   [6.33622437e+01 5.00510216e+00 0.00000000e+00]\n",
            "   [6.28316307e+01 6.21428585e+00 0.00000000e+00]\n",
            "   ...\n",
            "   [7.34847412e+01 6.91326714e+00 1.98959351e-01]\n",
            "   [7.60000000e+01 7.00000000e+00 0.00000000e+00]\n",
            "   [7.45458832e+01 5.54588127e+00 0.00000000e+00]]\n",
            "\n",
            "  [[7.56428604e+01 7.92857170e+00 2.20918393e+00]\n",
            "   [7.04846878e+01 4.22959185e+00 0.00000000e+00]\n",
            "   [7.15459213e+01 6.04591846e+00 0.00000000e+00]\n",
            "   ...\n",
            "   [7.33112717e+01 5.16837215e+00 0.00000000e+00]\n",
            "   [7.59438705e+01 6.94386721e+00 0.00000000e+00]\n",
            "   [7.32856445e+01 2.71421576e+00 0.00000000e+00]]\n",
            "\n",
            "  ...\n",
            "\n",
            "  [[1.64647949e+02 2.28622398e+01 2.86223936e+00]\n",
            "   [1.63770401e+02 2.19846935e+01 1.98469329e+00]\n",
            "   [1.64357132e+02 2.23112144e+01 3.29081941e+00]\n",
            "   ...\n",
            "   [1.68974442e+02 1.18520107e+01 2.63777733e+00]\n",
            "   [1.66801010e+02 1.28010149e+01 2.80101514e+00]\n",
            "   [1.67775513e+02 1.57755060e+01 4.77550650e+00]]\n",
            "\n",
            "  [[1.62163239e+02 2.11632423e+01 1.16324270e+00]\n",
            "   [1.60142807e+02 1.91428051e+01 1.37721494e-01]\n",
            "   [1.59270340e+02 1.78417702e+01 2.55039752e-01]\n",
            "   ...\n",
            "   [1.64484634e+02 7.69890213e+00 0.00000000e+00]\n",
            "   [1.66071442e+02 1.20714417e+01 2.07144165e+00]\n",
            "   [1.63453979e+02 1.14539728e+01 7.85644531e-01]]\n",
            "\n",
            "  [[1.62658157e+02 2.16581573e+01 1.88775170e+00]\n",
            "   [1.57331635e+02 1.63316364e+01 0.00000000e+00]\n",
            "   [1.56846939e+02 1.54183702e+01 0.00000000e+00]\n",
            "   ...\n",
            "   [1.69224487e+02 1.24387531e+01 2.79596138e+00]\n",
            "   [1.64622437e+02 1.06224413e+01 7.14294434e-01]\n",
            "   [1.62816345e+02 1.08163424e+01 2.29582191e-01]]]], shape=(32, 224, 224, 3), dtype=float32) tf.Tensor(\n",
            "[[0. 0. 1. 0. 0. 0. 0. 0. 0. 0.]\n",
            " [0. 0. 0. 0. 0. 0. 0. 0. 1. 0.]\n",
            " [0. 0. 0. 0. 0. 0. 0. 0. 0. 1.]\n",
            " [0. 1. 0. 0. 0. 0. 0. 0. 0. 0.]\n",
            " [0. 0. 0. 0. 0. 0. 0. 0. 1. 0.]\n",
            " [0. 0. 0. 0. 0. 0. 0. 1. 0. 0.]\n",
            " [0. 0. 0. 1. 0. 0. 0. 0. 0. 0.]\n",
            " [0. 0. 0. 0. 0. 0. 0. 0. 1. 0.]\n",
            " [0. 0. 1. 0. 0. 0. 0. 0. 0. 0.]\n",
            " [0. 1. 0. 0. 0. 0. 0. 0. 0. 0.]\n",
            " [0. 0. 0. 0. 0. 0. 0. 1. 0. 0.]\n",
            " [0. 1. 0. 0. 0. 0. 0. 0. 0. 0.]\n",
            " [0. 0. 0. 0. 0. 1. 0. 0. 0. 0.]\n",
            " [0. 0. 1. 0. 0. 0. 0. 0. 0. 0.]\n",
            " [0. 0. 0. 0. 0. 0. 1. 0. 0. 0.]\n",
            " [0. 0. 0. 0. 0. 0. 1. 0. 0. 0.]\n",
            " [1. 0. 0. 0. 0. 0. 0. 0. 0. 0.]\n",
            " [0. 0. 0. 0. 0. 1. 0. 0. 0. 0.]\n",
            " [0. 0. 0. 0. 0. 1. 0. 0. 0. 0.]\n",
            " [0. 0. 0. 0. 0. 0. 0. 1. 0. 0.]\n",
            " [1. 0. 0. 0. 0. 0. 0. 0. 0. 0.]\n",
            " [0. 0. 0. 0. 0. 1. 0. 0. 0. 0.]\n",
            " [0. 0. 0. 0. 0. 0. 0. 1. 0. 0.]\n",
            " [0. 1. 0. 0. 0. 0. 0. 0. 0. 0.]\n",
            " [0. 0. 0. 0. 0. 0. 0. 1. 0. 0.]\n",
            " [0. 0. 0. 0. 0. 1. 0. 0. 0. 0.]\n",
            " [1. 0. 0. 0. 0. 0. 0. 0. 0. 0.]\n",
            " [0. 0. 0. 0. 0. 1. 0. 0. 0. 0.]\n",
            " [1. 0. 0. 0. 0. 0. 0. 0. 0. 0.]\n",
            " [0. 1. 0. 0. 0. 0. 0. 0. 0. 0.]\n",
            " [0. 0. 0. 0. 1. 0. 0. 0. 0. 0.]\n",
            " [0. 0. 0. 0. 0. 0. 0. 0. 0. 1.]], shape=(32, 10), dtype=float32)\n"
          ]
        }
      ]
    },
    {
      "cell_type": "markdown",
      "source": [
        "## Model 0: Building a transfer learning feature extraction model using Keras Functional API"
      ],
      "metadata": {
        "id": "szsL35Z3A60Z"
      }
    },
    {
      "cell_type": "code",
      "source": [
        "# 1. Create base model with tf.keras.applications\n",
        "base_model = tf.keras.applications.EfficientNetB0(include_top=False)\n",
        "\n",
        "# 2. Freeze the base model\n",
        "base_model.trainable = False\n",
        "\n",
        "# 3. Create Inputs\n",
        "inputs = tf.keras.layers.Input(shape=(224, 224, 3), \n",
        "                               name=\"Input_layer\")\n",
        "\n",
        "# 4. Pas the inputs to the base_model\n",
        "x = base_model(inputs)\n",
        "print(f\"Shape after passing inputs through base model: {x.shape}\")\n",
        "\n",
        "# 5. Average Pool the outputs of the base model\n",
        "x = tf.keras.layers.GlobalAveragePooling2D(name=\"global_average_pooling_layer\")(x)\n",
        "print(f\"Shape after GlobalAveragePooling2D: {x.shape}\")\n",
        "\n",
        "# 6. Create output activation layer\n",
        "outputs = tf.keras.layers.Dense(10, \n",
        "                                activation=\"softmax\", \n",
        "                                name=\"output_layer\")(x)\n",
        "\n",
        "# 7. Combine the inputs with the outputs into the model\n",
        "model_0 = tf.keras.Model(inputs, outputs)\n",
        "\n",
        "# 8. Compile the model\n",
        "model_0.compile(loss=\"categorical_crossentropy\", \n",
        "                optimizer=tf.keras.optimizers.Adam(), \n",
        "                metrics=[\"accuracy\"])\n",
        "\n",
        "# 9. Fit the model\n",
        "history_0 = model_0.fit(train_data_10_percent, \n",
        "                        epochs=5, \n",
        "                        steps_per_epoch=len(train_data_10_percent), \n",
        "                        validation_data=test_data, \n",
        "                        validation_steps=int(0.25*len(test_data)), \n",
        "                        callbacks=[create_tensorboard_callback(dir_name=\"transfer_learning\", \n",
        "                                                               experiment_name=\"10_percent_feature_extraction\")])"
      ],
      "metadata": {
        "colab": {
          "base_uri": "https://localhost:8080/"
        },
        "id": "_PgYUXw_AHiu",
        "outputId": "0fa1fee6-a709-44e8-ae24-cc7c81be253a"
      },
      "execution_count": 12,
      "outputs": [
        {
          "output_type": "stream",
          "name": "stdout",
          "text": [
            "Downloading data from https://storage.googleapis.com/keras-applications/efficientnetb0_notop.h5\n",
            "16711680/16705208 [==============================] - 0s 0us/step\n",
            "16719872/16705208 [==============================] - 0s 0us/step\n",
            "Shape after passing inputs through base model: (None, 7, 7, 1280)\n",
            "Shape after GlobalAveragePooling2D: (None, 1280)\n",
            "Saving TensorBoard log files to: transfer_learning/10_percent_feature_extraction/20220414-031612\n",
            "Epoch 1/5\n",
            "24/24 [==============================] - 22s 230ms/step - loss: 1.9051 - accuracy: 0.4200 - val_loss: 1.3162 - val_accuracy: 0.7171\n",
            "Epoch 2/5\n",
            "24/24 [==============================] - 4s 147ms/step - loss: 1.1395 - accuracy: 0.7520 - val_loss: 0.8753 - val_accuracy: 0.8092\n",
            "Epoch 3/5\n",
            "24/24 [==============================] - 4s 147ms/step - loss: 0.8297 - accuracy: 0.8133 - val_loss: 0.7188 - val_accuracy: 0.8421\n",
            "Epoch 4/5\n",
            "24/24 [==============================] - 4s 147ms/step - loss: 0.6924 - accuracy: 0.8453 - val_loss: 0.6482 - val_accuracy: 0.8421\n",
            "Epoch 5/5\n",
            "24/24 [==============================] - 5s 183ms/step - loss: 0.5803 - accuracy: 0.8720 - val_loss: 0.5728 - val_accuracy: 0.8734\n"
          ]
        }
      ]
    },
    {
      "cell_type": "code",
      "source": [
        "# Evaluate on full test dataset\n",
        "model_0.evaluate(test_data)"
      ],
      "metadata": {
        "colab": {
          "base_uri": "https://localhost:8080/"
        },
        "id": "p0vz1IdQENt-",
        "outputId": "8fca63ec-9422-47ca-ef99-e363a19d28ba"
      },
      "execution_count": 13,
      "outputs": [
        {
          "output_type": "stream",
          "name": "stdout",
          "text": [
            "79/79 [==============================] - 6s 74ms/step - loss: 0.6104 - accuracy: 0.8456\n"
          ]
        },
        {
          "output_type": "execute_result",
          "data": {
            "text/plain": [
              "[0.6103500127792358, 0.8456000089645386]"
            ]
          },
          "metadata": {},
          "execution_count": 13
        }
      ]
    },
    {
      "cell_type": "code",
      "source": [
        "# Check layers in our base model\n",
        "for layer_num, layer in enumerate(base_model.layers):\n",
        "  print(layer_num, layer)"
      ],
      "metadata": {
        "colab": {
          "base_uri": "https://localhost:8080/"
        },
        "id": "52U7JXbuEriF",
        "outputId": "4e85e242-1808-4ba5-bf70-5d774eb9855f"
      },
      "execution_count": 14,
      "outputs": [
        {
          "output_type": "stream",
          "name": "stdout",
          "text": [
            "0 <keras.engine.input_layer.InputLayer object at 0x7f3e5cc8d990>\n",
            "1 <keras.layers.preprocessing.image_preprocessing.Rescaling object at 0x7f3e5c8cb350>\n",
            "2 <keras.layers.preprocessing.normalization.Normalization object at 0x7f3e5c8cbe90>\n",
            "3 <keras.layers.convolutional.ZeroPadding2D object at 0x7f3e5caa0f10>\n",
            "4 <keras.layers.convolutional.Conv2D object at 0x7f3e5cb6a7d0>\n",
            "5 <keras.layers.normalization.batch_normalization.BatchNormalization object at 0x7f3e5cac1bd0>\n",
            "6 <keras.layers.core.activation.Activation object at 0x7f3e5caabed0>\n",
            "7 <keras.layers.convolutional.DepthwiseConv2D object at 0x7f3e5bc22d90>\n",
            "8 <keras.layers.normalization.batch_normalization.BatchNormalization object at 0x7f3e5bc48150>\n",
            "9 <keras.layers.core.activation.Activation object at 0x7f3e5bbe0310>\n",
            "10 <keras.layers.pooling.GlobalAveragePooling2D object at 0x7f3e5bbe0890>\n",
            "11 <keras.layers.core.reshape.Reshape object at 0x7f3e5bbea450>\n",
            "12 <keras.layers.convolutional.Conv2D object at 0x7f3e5bbf3210>\n",
            "13 <keras.layers.convolutional.Conv2D object at 0x7f3e5bbef150>\n",
            "14 <keras.layers.merge.Multiply object at 0x7f3e5bc07250>\n",
            "15 <keras.layers.convolutional.Conv2D object at 0x7f3e5bc0bf10>\n",
            "16 <keras.layers.normalization.batch_normalization.BatchNormalization object at 0x7f3e5bc07090>\n",
            "17 <keras.layers.convolutional.Conv2D object at 0x7f3e5bb95410>\n",
            "18 <keras.layers.normalization.batch_normalization.BatchNormalization object at 0x7f3e5bba00d0>\n",
            "19 <keras.layers.core.activation.Activation object at 0x7f3e5bb956d0>\n",
            "20 <keras.layers.convolutional.ZeroPadding2D object at 0x7f3e5bb93390>\n",
            "21 <keras.layers.convolutional.DepthwiseConv2D object at 0x7f3e5bbb7f50>\n",
            "22 <keras.layers.normalization.batch_normalization.BatchNormalization object at 0x7f3e5bbb7d10>\n",
            "23 <keras.layers.core.activation.Activation object at 0x7f3e5bbc2590>\n",
            "24 <keras.layers.pooling.GlobalAveragePooling2D object at 0x7f3e5bbcbcd0>\n",
            "25 <keras.layers.core.reshape.Reshape object at 0x7f3e5bbc2790>\n",
            "26 <keras.layers.convolutional.Conv2D object at 0x7f3e5bbbdb10>\n",
            "27 <keras.layers.convolutional.Conv2D object at 0x7f3e5bbc39d0>\n",
            "28 <keras.layers.merge.Multiply object at 0x7f3e5bbbdf10>\n",
            "29 <keras.layers.convolutional.Conv2D object at 0x7f3edec98110>\n",
            "30 <keras.layers.normalization.batch_normalization.BatchNormalization object at 0x7f3e5bb66e50>\n",
            "31 <keras.layers.convolutional.Conv2D object at 0x7f3e5bb6f2d0>\n",
            "32 <keras.layers.normalization.batch_normalization.BatchNormalization object at 0x7f3e5bb69b90>\n",
            "33 <keras.layers.core.activation.Activation object at 0x7f3e5bb667d0>\n",
            "34 <keras.layers.convolutional.DepthwiseConv2D object at 0x7f3e5bb75bd0>\n",
            "35 <keras.layers.normalization.batch_normalization.BatchNormalization object at 0x7f3e5bbcfed0>\n",
            "36 <keras.layers.core.activation.Activation object at 0x7f3e5bba05d0>\n",
            "37 <keras.layers.pooling.GlobalAveragePooling2D object at 0x7f3e5bc0b490>\n",
            "38 <keras.layers.core.reshape.Reshape object at 0x7f3e5bb95150>\n",
            "39 <keras.layers.convolutional.Conv2D object at 0x7f3e5bbe5710>\n",
            "40 <keras.layers.convolutional.Conv2D object at 0x7f3e5bc704d0>\n",
            "41 <keras.layers.merge.Multiply object at 0x7f3e5c9d2b10>\n",
            "42 <keras.layers.convolutional.Conv2D object at 0x7f3e5bb7fa90>\n",
            "43 <keras.layers.normalization.batch_normalization.BatchNormalization object at 0x7f3e5bc24850>\n",
            "44 <keras.layers.core.dropout.Dropout object at 0x7f3e5bb14c10>\n",
            "45 <keras.layers.merge.Add object at 0x7f3e5bb121d0>\n",
            "46 <keras.layers.convolutional.Conv2D object at 0x7f3e5bb19ed0>\n",
            "47 <keras.layers.normalization.batch_normalization.BatchNormalization object at 0x7f3e5bb246d0>\n",
            "48 <keras.layers.core.activation.Activation object at 0x7f3e5bb22990>\n",
            "49 <keras.layers.convolutional.ZeroPadding2D object at 0x7f3e5bb1df90>\n",
            "50 <keras.layers.convolutional.DepthwiseConv2D object at 0x7f3e5bb2a910>\n",
            "51 <keras.layers.normalization.batch_normalization.BatchNormalization object at 0x7f3e5bb2e990>\n",
            "52 <keras.layers.core.activation.Activation object at 0x7f3e5bb22fd0>\n",
            "53 <keras.layers.pooling.GlobalAveragePooling2D object at 0x7f3e5bb3cf10>\n",
            "54 <keras.layers.core.reshape.Reshape object at 0x7f3e5bb49a50>\n",
            "55 <keras.layers.convolutional.Conv2D object at 0x7f3e5bb44a50>\n",
            "56 <keras.layers.convolutional.Conv2D object at 0x7f3e5bad6550>\n",
            "57 <keras.layers.merge.Multiply object at 0x7f3e5bae31d0>\n",
            "58 <keras.layers.convolutional.Conv2D object at 0x7f3e5bc70b50>\n",
            "59 <keras.layers.normalization.batch_normalization.BatchNormalization object at 0x7f3e5baec810>\n",
            "60 <keras.layers.convolutional.Conv2D object at 0x7f3e5e84d190>\n",
            "61 <keras.layers.normalization.batch_normalization.BatchNormalization object at 0x7f3e5baec1d0>\n",
            "62 <keras.layers.core.activation.Activation object at 0x7f3e5baff110>\n",
            "63 <keras.layers.convolutional.DepthwiseConv2D object at 0x7f3e5bb08590>\n",
            "64 <keras.layers.normalization.batch_normalization.BatchNormalization object at 0x7f3e5bb05ad0>\n",
            "65 <keras.layers.core.activation.Activation object at 0x7f3e5ba93d90>\n",
            "66 <keras.layers.pooling.GlobalAveragePooling2D object at 0x7f3e5ed633d0>\n",
            "67 <keras.layers.core.reshape.Reshape object at 0x7f3e5ba99490>\n",
            "68 <keras.layers.convolutional.Conv2D object at 0x7f3e5baefc10>\n",
            "69 <keras.layers.convolutional.Conv2D object at 0x7f3e5baae0d0>\n",
            "70 <keras.layers.merge.Multiply object at 0x7f3e5baaa890>\n",
            "71 <keras.layers.convolutional.Conv2D object at 0x7f3e5baa5450>\n",
            "72 <keras.layers.normalization.batch_normalization.BatchNormalization object at 0x7f3e5baba710>\n",
            "73 <keras.layers.core.dropout.Dropout object at 0x7f3e5bac3d90>\n",
            "74 <keras.layers.merge.Add object at 0x7f3e5bac0790>\n",
            "75 <keras.layers.convolutional.Conv2D object at 0x7f3e5bab5510>\n",
            "76 <keras.layers.normalization.batch_normalization.BatchNormalization object at 0x7f3e5bb493d0>\n",
            "77 <keras.layers.core.activation.Activation object at 0x7f3e5bb44d10>\n",
            "78 <keras.layers.convolutional.ZeroPadding2D object at 0x7f3e5bb2e590>\n",
            "79 <keras.layers.convolutional.DepthwiseConv2D object at 0x7f3e5bb19bd0>\n",
            "80 <keras.layers.normalization.batch_normalization.BatchNormalization object at 0x7f3e5bacf610>\n",
            "81 <keras.layers.core.activation.Activation object at 0x7f3e5bacfa10>\n",
            "82 <keras.layers.pooling.GlobalAveragePooling2D object at 0x7f3e5bb149d0>\n",
            "83 <keras.layers.core.reshape.Reshape object at 0x7f3e5ba59d50>\n",
            "84 <keras.layers.convolutional.Conv2D object at 0x7f3e5ba61cd0>\n",
            "85 <keras.layers.convolutional.Conv2D object at 0x7f3e5ba6a090>\n",
            "86 <keras.layers.merge.Multiply object at 0x7f3e5ba6ffd0>\n",
            "87 <keras.layers.convolutional.Conv2D object at 0x7f3e5ba76810>\n",
            "88 <keras.layers.normalization.batch_normalization.BatchNormalization object at 0x7f3e5ba7d510>\n",
            "89 <keras.layers.convolutional.Conv2D object at 0x7f3e5ba80790>\n",
            "90 <keras.layers.normalization.batch_normalization.BatchNormalization object at 0x7f3e5ba80890>\n",
            "91 <keras.layers.core.activation.Activation object at 0x7f3e5ba8c290>\n",
            "92 <keras.layers.convolutional.DepthwiseConv2D object at 0x7f3e5ba905d0>\n",
            "93 <keras.layers.normalization.batch_normalization.BatchNormalization object at 0x7f3e5ba8cfd0>\n",
            "94 <keras.layers.core.activation.Activation object at 0x7f3e5ba26650>\n",
            "95 <keras.layers.pooling.GlobalAveragePooling2D object at 0x7f3e5ba2f150>\n",
            "96 <keras.layers.core.reshape.Reshape object at 0x7f3e5ba2fd90>\n",
            "97 <keras.layers.convolutional.Conv2D object at 0x7f3e5ba39e50>\n",
            "98 <keras.layers.convolutional.Conv2D object at 0x7f3e5ba42910>\n",
            "99 <keras.layers.merge.Multiply object at 0x7f3e5b9d6890>\n",
            "100 <keras.layers.convolutional.Conv2D object at 0x7f3e5ba28710>\n",
            "101 <keras.layers.normalization.batch_normalization.BatchNormalization object at 0x7f3e5b9dc490>\n",
            "102 <keras.layers.core.dropout.Dropout object at 0x7f3e5b9e6610>\n",
            "103 <keras.layers.merge.Add object at 0x7f3e5b9e0a90>\n",
            "104 <keras.layers.convolutional.Conv2D object at 0x7f3e5b9e9a90>\n",
            "105 <keras.layers.normalization.batch_normalization.BatchNormalization object at 0x7f3e5b9f3610>\n",
            "106 <keras.layers.core.activation.Activation object at 0x7f3e5b9f3b90>\n",
            "107 <keras.layers.convolutional.DepthwiseConv2D object at 0x7f3e5b9ef210>\n",
            "108 <keras.layers.normalization.batch_normalization.BatchNormalization object at 0x7f3e5ba099d0>\n",
            "109 <keras.layers.core.activation.Activation object at 0x7f3e5ba0bcd0>\n",
            "110 <keras.layers.pooling.GlobalAveragePooling2D object at 0x7f3e5ba11210>\n",
            "111 <keras.layers.core.reshape.Reshape object at 0x7f3e5b99bb10>\n",
            "112 <keras.layers.convolutional.Conv2D object at 0x7f3e5b9a4090>\n",
            "113 <keras.layers.convolutional.Conv2D object at 0x7f3e5b995d90>\n",
            "114 <keras.layers.merge.Multiply object at 0x7f3e5b9e9910>\n",
            "115 <keras.layers.convolutional.Conv2D object at 0x7f3e5b995590>\n",
            "116 <keras.layers.normalization.batch_normalization.BatchNormalization object at 0x7f3e5ba12d90>\n",
            "117 <keras.layers.core.dropout.Dropout object at 0x7f3e5ba76090>\n",
            "118 <keras.layers.merge.Add object at 0x7f3e5bacf410>\n",
            "119 <keras.layers.convolutional.Conv2D object at 0x7f3e5baefe10>\n",
            "120 <keras.layers.normalization.batch_normalization.BatchNormalization object at 0x7f3e5bacf7d0>\n",
            "121 <keras.layers.core.activation.Activation object at 0x7f3e5b9aa3d0>\n",
            "122 <keras.layers.convolutional.DepthwiseConv2D object at 0x7f3e5b9b0450>\n",
            "123 <keras.layers.normalization.batch_normalization.BatchNormalization object at 0x7f3e5b9aa250>\n",
            "124 <keras.layers.core.activation.Activation object at 0x7f3e5b9b4bd0>\n",
            "125 <keras.layers.pooling.GlobalAveragePooling2D object at 0x7f3e5b9c10d0>\n",
            "126 <keras.layers.core.reshape.Reshape object at 0x7f3e5b9bda10>\n",
            "127 <keras.layers.convolutional.Conv2D object at 0x7f3e5b9b7850>\n",
            "128 <keras.layers.convolutional.Conv2D object at 0x7f3e5b9d18d0>\n",
            "129 <keras.layers.merge.Multiply object at 0x7f3e5b955910>\n",
            "130 <keras.layers.convolutional.Conv2D object at 0x7f3e5b9c9290>\n",
            "131 <keras.layers.normalization.batch_normalization.BatchNormalization object at 0x7f3e5b95d6d0>\n",
            "132 <keras.layers.convolutional.Conv2D object at 0x7f3e5b96a390>\n",
            "133 <keras.layers.normalization.batch_normalization.BatchNormalization object at 0x7f3e5b9614d0>\n",
            "134 <keras.layers.core.activation.Activation object at 0x7f3e5b9718d0>\n",
            "135 <keras.layers.convolutional.DepthwiseConv2D object at 0x7f3e5b976710>\n",
            "136 <keras.layers.normalization.batch_normalization.BatchNormalization object at 0x7f3e5b97eb10>\n",
            "137 <keras.layers.core.activation.Activation object at 0x7f3e5b986f50>\n",
            "138 <keras.layers.pooling.GlobalAveragePooling2D object at 0x7f3e5b991810>\n",
            "139 <keras.layers.core.reshape.Reshape object at 0x7f3e5b98bc90>\n",
            "140 <keras.layers.convolutional.Conv2D object at 0x7f3e5b986950>\n",
            "141 <keras.layers.convolutional.Conv2D object at 0x7f3e5b921d50>\n",
            "142 <keras.layers.merge.Multiply object at 0x7f3e5b97e910>\n",
            "143 <keras.layers.convolutional.Conv2D object at 0x7f3e5b919610>\n",
            "144 <keras.layers.normalization.batch_normalization.BatchNormalization object at 0x7f3e5b92da90>\n",
            "145 <keras.layers.core.dropout.Dropout object at 0x7f3e5b932e50>\n",
            "146 <keras.layers.merge.Add object at 0x7f3e5b92aed0>\n",
            "147 <keras.layers.convolutional.Conv2D object at 0x7f3e5b93d090>\n",
            "148 <keras.layers.normalization.batch_normalization.BatchNormalization object at 0x7f3e5b943110>\n",
            "149 <keras.layers.core.activation.Activation object at 0x7f3e5b93fbd0>\n",
            "150 <keras.layers.convolutional.DepthwiseConv2D object at 0x7f3e5b949b10>\n",
            "151 <keras.layers.normalization.batch_normalization.BatchNormalization object at 0x7f3e5b8d86d0>\n",
            "152 <keras.layers.core.activation.Activation object at 0x7f3e5b94d050>\n",
            "153 <keras.layers.pooling.GlobalAveragePooling2D object at 0x7f3e5b93f9d0>\n",
            "154 <keras.layers.core.reshape.Reshape object at 0x7f3e5b9b4090>\n",
            "155 <keras.layers.convolutional.Conv2D object at 0x7f3e5baef050>\n",
            "156 <keras.layers.convolutional.Conv2D object at 0x7f3e5b939610>\n",
            "157 <keras.layers.merge.Multiply object at 0x7f3e5b8e2310>\n",
            "158 <keras.layers.convolutional.Conv2D object at 0x7f3e5b8e23d0>\n",
            "159 <keras.layers.normalization.batch_normalization.BatchNormalization object at 0x7f3e5b8ed850>\n",
            "160 <keras.layers.core.dropout.Dropout object at 0x7f3e5b8ebe10>\n",
            "161 <keras.layers.merge.Add object at 0x7f3e5b8e5510>\n",
            "162 <keras.layers.convolutional.Conv2D object at 0x7f3e5b8f66d0>\n",
            "163 <keras.layers.normalization.batch_normalization.BatchNormalization object at 0x7f3e5b8ebf10>\n",
            "164 <keras.layers.core.activation.Activation object at 0x7f3e5b8fb990>\n",
            "165 <keras.layers.convolutional.ZeroPadding2D object at 0x7f3e5b9088d0>\n",
            "166 <keras.layers.convolutional.DepthwiseConv2D object at 0x7f3e5b903d50>\n",
            "167 <keras.layers.normalization.batch_normalization.BatchNormalization object at 0x7f3e5b90e550>\n",
            "168 <keras.layers.core.activation.Activation object at 0x7f3e5b911590>\n",
            "169 <keras.layers.pooling.GlobalAveragePooling2D object at 0x7f3e50190890>\n",
            "170 <keras.layers.core.reshape.Reshape object at 0x7f3e5b8fb5d0>\n",
            "171 <keras.layers.convolutional.Conv2D object at 0x7f3e5019d9d0>\n",
            "172 <keras.layers.convolutional.Conv2D object at 0x7f3e501a7290>\n",
            "173 <keras.layers.merge.Multiply object at 0x7f3e501ac750>\n",
            "174 <keras.layers.convolutional.Conv2D object at 0x7f3e501accd0>\n",
            "175 <keras.layers.normalization.batch_normalization.BatchNormalization object at 0x7f3e501b88d0>\n",
            "176 <keras.layers.convolutional.Conv2D object at 0x7f3e501b44d0>\n",
            "177 <keras.layers.normalization.batch_normalization.BatchNormalization object at 0x7f3e501bdfd0>\n",
            "178 <keras.layers.core.activation.Activation object at 0x7f3e5014b490>\n",
            "179 <keras.layers.convolutional.DepthwiseConv2D object at 0x7f3e501c5f50>\n",
            "180 <keras.layers.normalization.batch_normalization.BatchNormalization object at 0x7f3e50157f10>\n",
            "181 <keras.layers.core.activation.Activation object at 0x7f3e5015fb50>\n",
            "182 <keras.layers.pooling.GlobalAveragePooling2D object at 0x7f3e5015bc10>\n",
            "183 <keras.layers.core.reshape.Reshape object at 0x7f3e5016c090>\n",
            "184 <keras.layers.convolutional.Conv2D object at 0x7f3e50177ed0>\n",
            "185 <keras.layers.convolutional.Conv2D object at 0x7f3e50173b10>\n",
            "186 <keras.layers.merge.Multiply object at 0x7f3e50186550>\n",
            "187 <keras.layers.convolutional.Conv2D object at 0x7f3e5010ebd0>\n",
            "188 <keras.layers.normalization.batch_normalization.BatchNormalization object at 0x7f3e50189050>\n",
            "189 <keras.layers.core.dropout.Dropout object at 0x7f3e501172d0>\n",
            "190 <keras.layers.merge.Add object at 0x7f3e50125990>\n",
            "191 <keras.layers.convolutional.Conv2D object at 0x7f3e50125710>\n",
            "192 <keras.layers.normalization.batch_normalization.BatchNormalization object at 0x7f3e5010e5d0>\n",
            "193 <keras.layers.core.activation.Activation object at 0x7f3e501776d0>\n",
            "194 <keras.layers.convolutional.DepthwiseConv2D object at 0x7f3e501685d0>\n",
            "195 <keras.layers.normalization.batch_normalization.BatchNormalization object at 0x7f3e501176d0>\n",
            "196 <keras.layers.core.activation.Activation object at 0x7f3e5018a990>\n",
            "197 <keras.layers.pooling.GlobalAveragePooling2D object at 0x7f3e50198410>\n",
            "198 <keras.layers.core.reshape.Reshape object at 0x7f3e5b911050>\n",
            "199 <keras.layers.convolutional.Conv2D object at 0x7f3e501b8c10>\n",
            "200 <keras.layers.convolutional.Conv2D object at 0x7f3e501321d0>\n",
            "201 <keras.layers.merge.Multiply object at 0x7f3e501c3bd0>\n",
            "202 <keras.layers.convolutional.Conv2D object at 0x7f3e5b8ed590>\n",
            "203 <keras.layers.normalization.batch_normalization.BatchNormalization object at 0x7f3e501c39d0>\n",
            "204 <keras.layers.core.dropout.Dropout object at 0x7f3e5013ffd0>\n",
            "205 <keras.layers.merge.Add object at 0x7f3e5013f910>\n",
            "206 <keras.layers.convolutional.Conv2D object at 0x7f3e50142650>\n",
            "207 <keras.layers.normalization.batch_normalization.BatchNormalization object at 0x7f3e5013b990>\n",
            "208 <keras.layers.core.activation.Activation object at 0x7f3e500cd410>\n",
            "209 <keras.layers.convolutional.DepthwiseConv2D object at 0x7f3e500d2110>\n",
            "210 <keras.layers.normalization.batch_normalization.BatchNormalization object at 0x7f3e5b911390>\n",
            "211 <keras.layers.core.activation.Activation object at 0x7f3e5013b290>\n",
            "212 <keras.layers.pooling.GlobalAveragePooling2D object at 0x7f3e500e2e90>\n",
            "213 <keras.layers.core.reshape.Reshape object at 0x7f3e500e6d90>\n",
            "214 <keras.layers.convolutional.Conv2D object at 0x7f3e50198590>\n",
            "215 <keras.layers.convolutional.Conv2D object at 0x7f3e5013b310>\n",
            "216 <keras.layers.merge.Multiply object at 0x7f3e501044d0>\n",
            "217 <keras.layers.convolutional.Conv2D object at 0x7f3e500fcb90>\n",
            "218 <keras.layers.normalization.batch_normalization.BatchNormalization object at 0x7f3e500fce10>\n",
            "219 <keras.layers.core.dropout.Dropout object at 0x7f3e5009e610>\n",
            "220 <keras.layers.merge.Add object at 0x7f3e50142810>\n",
            "221 <keras.layers.convolutional.Conv2D object at 0x7f3e500af590>\n",
            "222 <keras.layers.normalization.batch_normalization.BatchNormalization object at 0x7f3e500919d0>\n",
            "223 <keras.layers.core.activation.Activation object at 0x7f3e5009e2d0>\n",
            "224 <keras.layers.convolutional.DepthwiseConv2D object at 0x7f3e500c2550>\n",
            "225 <keras.layers.normalization.batch_normalization.BatchNormalization object at 0x7f3e500c2fd0>\n",
            "226 <keras.layers.core.activation.Activation object at 0x7f3e500c2a90>\n",
            "227 <keras.layers.pooling.GlobalAveragePooling2D object at 0x7f3e500c2310>\n",
            "228 <keras.layers.core.reshape.Reshape object at 0x7f3e5009e410>\n",
            "229 <keras.layers.convolutional.Conv2D object at 0x7f3e5005a750>\n",
            "230 <keras.layers.convolutional.Conv2D object at 0x7f3e50095350>\n",
            "231 <keras.layers.merge.Multiply object at 0x7f3e5006ad50>\n",
            "232 <keras.layers.convolutional.Conv2D object at 0x7f3e500604d0>\n",
            "233 <keras.layers.normalization.batch_normalization.BatchNormalization object at 0x7f3e500b2110>\n",
            "234 <keras.layers.convolutional.Conv2D object at 0x7f3e5bc70cd0>\n",
            "235 <keras.layers.normalization.batch_normalization.BatchNormalization object at 0x7f3e500bbbd0>\n",
            "236 <keras.layers.core.activation.Activation object at 0x7f3e50095650>\n"
          ]
        }
      ]
    },
    {
      "cell_type": "code",
      "source": [
        "base_model.summary()"
      ],
      "metadata": {
        "colab": {
          "base_uri": "https://localhost:8080/"
        },
        "id": "14QrIV0dE_x6",
        "outputId": "4236664f-b8ef-4524-fc5c-51c2e56958f5"
      },
      "execution_count": 15,
      "outputs": [
        {
          "output_type": "stream",
          "name": "stdout",
          "text": [
            "Model: \"efficientnetb0\"\n",
            "__________________________________________________________________________________________________\n",
            " Layer (type)                   Output Shape         Param #     Connected to                     \n",
            "==================================================================================================\n",
            " input_1 (InputLayer)           [(None, None, None,  0           []                               \n",
            "                                 3)]                                                              \n",
            "                                                                                                  \n",
            " rescaling (Rescaling)          (None, None, None,   0           ['input_1[0][0]']                \n",
            "                                3)                                                                \n",
            "                                                                                                  \n",
            " normalization (Normalization)  (None, None, None,   7           ['rescaling[0][0]']              \n",
            "                                3)                                                                \n",
            "                                                                                                  \n",
            " stem_conv_pad (ZeroPadding2D)  (None, None, None,   0           ['normalization[0][0]']          \n",
            "                                3)                                                                \n",
            "                                                                                                  \n",
            " stem_conv (Conv2D)             (None, None, None,   864         ['stem_conv_pad[0][0]']          \n",
            "                                32)                                                               \n",
            "                                                                                                  \n",
            " stem_bn (BatchNormalization)   (None, None, None,   128         ['stem_conv[0][0]']              \n",
            "                                32)                                                               \n",
            "                                                                                                  \n",
            " stem_activation (Activation)   (None, None, None,   0           ['stem_bn[0][0]']                \n",
            "                                32)                                                               \n",
            "                                                                                                  \n",
            " block1a_dwconv (DepthwiseConv2  (None, None, None,   288        ['stem_activation[0][0]']        \n",
            " D)                             32)                                                               \n",
            "                                                                                                  \n",
            " block1a_bn (BatchNormalization  (None, None, None,   128        ['block1a_dwconv[0][0]']         \n",
            " )                              32)                                                               \n",
            "                                                                                                  \n",
            " block1a_activation (Activation  (None, None, None,   0          ['block1a_bn[0][0]']             \n",
            " )                              32)                                                               \n",
            "                                                                                                  \n",
            " block1a_se_squeeze (GlobalAver  (None, 32)          0           ['block1a_activation[0][0]']     \n",
            " agePooling2D)                                                                                    \n",
            "                                                                                                  \n",
            " block1a_se_reshape (Reshape)   (None, 1, 1, 32)     0           ['block1a_se_squeeze[0][0]']     \n",
            "                                                                                                  \n",
            " block1a_se_reduce (Conv2D)     (None, 1, 1, 8)      264         ['block1a_se_reshape[0][0]']     \n",
            "                                                                                                  \n",
            " block1a_se_expand (Conv2D)     (None, 1, 1, 32)     288         ['block1a_se_reduce[0][0]']      \n",
            "                                                                                                  \n",
            " block1a_se_excite (Multiply)   (None, None, None,   0           ['block1a_activation[0][0]',     \n",
            "                                32)                               'block1a_se_expand[0][0]']      \n",
            "                                                                                                  \n",
            " block1a_project_conv (Conv2D)  (None, None, None,   512         ['block1a_se_excite[0][0]']      \n",
            "                                16)                                                               \n",
            "                                                                                                  \n",
            " block1a_project_bn (BatchNorma  (None, None, None,   64         ['block1a_project_conv[0][0]']   \n",
            " lization)                      16)                                                               \n",
            "                                                                                                  \n",
            " block2a_expand_conv (Conv2D)   (None, None, None,   1536        ['block1a_project_bn[0][0]']     \n",
            "                                96)                                                               \n",
            "                                                                                                  \n",
            " block2a_expand_bn (BatchNormal  (None, None, None,   384        ['block2a_expand_conv[0][0]']    \n",
            " ization)                       96)                                                               \n",
            "                                                                                                  \n",
            " block2a_expand_activation (Act  (None, None, None,   0          ['block2a_expand_bn[0][0]']      \n",
            " ivation)                       96)                                                               \n",
            "                                                                                                  \n",
            " block2a_dwconv_pad (ZeroPaddin  (None, None, None,   0          ['block2a_expand_activation[0][0]\n",
            " g2D)                           96)                              ']                               \n",
            "                                                                                                  \n",
            " block2a_dwconv (DepthwiseConv2  (None, None, None,   864        ['block2a_dwconv_pad[0][0]']     \n",
            " D)                             96)                                                               \n",
            "                                                                                                  \n",
            " block2a_bn (BatchNormalization  (None, None, None,   384        ['block2a_dwconv[0][0]']         \n",
            " )                              96)                                                               \n",
            "                                                                                                  \n",
            " block2a_activation (Activation  (None, None, None,   0          ['block2a_bn[0][0]']             \n",
            " )                              96)                                                               \n",
            "                                                                                                  \n",
            " block2a_se_squeeze (GlobalAver  (None, 96)          0           ['block2a_activation[0][0]']     \n",
            " agePooling2D)                                                                                    \n",
            "                                                                                                  \n",
            " block2a_se_reshape (Reshape)   (None, 1, 1, 96)     0           ['block2a_se_squeeze[0][0]']     \n",
            "                                                                                                  \n",
            " block2a_se_reduce (Conv2D)     (None, 1, 1, 4)      388         ['block2a_se_reshape[0][0]']     \n",
            "                                                                                                  \n",
            " block2a_se_expand (Conv2D)     (None, 1, 1, 96)     480         ['block2a_se_reduce[0][0]']      \n",
            "                                                                                                  \n",
            " block2a_se_excite (Multiply)   (None, None, None,   0           ['block2a_activation[0][0]',     \n",
            "                                96)                               'block2a_se_expand[0][0]']      \n",
            "                                                                                                  \n",
            " block2a_project_conv (Conv2D)  (None, None, None,   2304        ['block2a_se_excite[0][0]']      \n",
            "                                24)                                                               \n",
            "                                                                                                  \n",
            " block2a_project_bn (BatchNorma  (None, None, None,   96         ['block2a_project_conv[0][0]']   \n",
            " lization)                      24)                                                               \n",
            "                                                                                                  \n",
            " block2b_expand_conv (Conv2D)   (None, None, None,   3456        ['block2a_project_bn[0][0]']     \n",
            "                                144)                                                              \n",
            "                                                                                                  \n",
            " block2b_expand_bn (BatchNormal  (None, None, None,   576        ['block2b_expand_conv[0][0]']    \n",
            " ization)                       144)                                                              \n",
            "                                                                                                  \n",
            " block2b_expand_activation (Act  (None, None, None,   0          ['block2b_expand_bn[0][0]']      \n",
            " ivation)                       144)                                                              \n",
            "                                                                                                  \n",
            " block2b_dwconv (DepthwiseConv2  (None, None, None,   1296       ['block2b_expand_activation[0][0]\n",
            " D)                             144)                             ']                               \n",
            "                                                                                                  \n",
            " block2b_bn (BatchNormalization  (None, None, None,   576        ['block2b_dwconv[0][0]']         \n",
            " )                              144)                                                              \n",
            "                                                                                                  \n",
            " block2b_activation (Activation  (None, None, None,   0          ['block2b_bn[0][0]']             \n",
            " )                              144)                                                              \n",
            "                                                                                                  \n",
            " block2b_se_squeeze (GlobalAver  (None, 144)         0           ['block2b_activation[0][0]']     \n",
            " agePooling2D)                                                                                    \n",
            "                                                                                                  \n",
            " block2b_se_reshape (Reshape)   (None, 1, 1, 144)    0           ['block2b_se_squeeze[0][0]']     \n",
            "                                                                                                  \n",
            " block2b_se_reduce (Conv2D)     (None, 1, 1, 6)      870         ['block2b_se_reshape[0][0]']     \n",
            "                                                                                                  \n",
            " block2b_se_expand (Conv2D)     (None, 1, 1, 144)    1008        ['block2b_se_reduce[0][0]']      \n",
            "                                                                                                  \n",
            " block2b_se_excite (Multiply)   (None, None, None,   0           ['block2b_activation[0][0]',     \n",
            "                                144)                              'block2b_se_expand[0][0]']      \n",
            "                                                                                                  \n",
            " block2b_project_conv (Conv2D)  (None, None, None,   3456        ['block2b_se_excite[0][0]']      \n",
            "                                24)                                                               \n",
            "                                                                                                  \n",
            " block2b_project_bn (BatchNorma  (None, None, None,   96         ['block2b_project_conv[0][0]']   \n",
            " lization)                      24)                                                               \n",
            "                                                                                                  \n",
            " block2b_drop (Dropout)         (None, None, None,   0           ['block2b_project_bn[0][0]']     \n",
            "                                24)                                                               \n",
            "                                                                                                  \n",
            " block2b_add (Add)              (None, None, None,   0           ['block2b_drop[0][0]',           \n",
            "                                24)                               'block2a_project_bn[0][0]']     \n",
            "                                                                                                  \n",
            " block3a_expand_conv (Conv2D)   (None, None, None,   3456        ['block2b_add[0][0]']            \n",
            "                                144)                                                              \n",
            "                                                                                                  \n",
            " block3a_expand_bn (BatchNormal  (None, None, None,   576        ['block3a_expand_conv[0][0]']    \n",
            " ization)                       144)                                                              \n",
            "                                                                                                  \n",
            " block3a_expand_activation (Act  (None, None, None,   0          ['block3a_expand_bn[0][0]']      \n",
            " ivation)                       144)                                                              \n",
            "                                                                                                  \n",
            " block3a_dwconv_pad (ZeroPaddin  (None, None, None,   0          ['block3a_expand_activation[0][0]\n",
            " g2D)                           144)                             ']                               \n",
            "                                                                                                  \n",
            " block3a_dwconv (DepthwiseConv2  (None, None, None,   3600       ['block3a_dwconv_pad[0][0]']     \n",
            " D)                             144)                                                              \n",
            "                                                                                                  \n",
            " block3a_bn (BatchNormalization  (None, None, None,   576        ['block3a_dwconv[0][0]']         \n",
            " )                              144)                                                              \n",
            "                                                                                                  \n",
            " block3a_activation (Activation  (None, None, None,   0          ['block3a_bn[0][0]']             \n",
            " )                              144)                                                              \n",
            "                                                                                                  \n",
            " block3a_se_squeeze (GlobalAver  (None, 144)         0           ['block3a_activation[0][0]']     \n",
            " agePooling2D)                                                                                    \n",
            "                                                                                                  \n",
            " block3a_se_reshape (Reshape)   (None, 1, 1, 144)    0           ['block3a_se_squeeze[0][0]']     \n",
            "                                                                                                  \n",
            " block3a_se_reduce (Conv2D)     (None, 1, 1, 6)      870         ['block3a_se_reshape[0][0]']     \n",
            "                                                                                                  \n",
            " block3a_se_expand (Conv2D)     (None, 1, 1, 144)    1008        ['block3a_se_reduce[0][0]']      \n",
            "                                                                                                  \n",
            " block3a_se_excite (Multiply)   (None, None, None,   0           ['block3a_activation[0][0]',     \n",
            "                                144)                              'block3a_se_expand[0][0]']      \n",
            "                                                                                                  \n",
            " block3a_project_conv (Conv2D)  (None, None, None,   5760        ['block3a_se_excite[0][0]']      \n",
            "                                40)                                                               \n",
            "                                                                                                  \n",
            " block3a_project_bn (BatchNorma  (None, None, None,   160        ['block3a_project_conv[0][0]']   \n",
            " lization)                      40)                                                               \n",
            "                                                                                                  \n",
            " block3b_expand_conv (Conv2D)   (None, None, None,   9600        ['block3a_project_bn[0][0]']     \n",
            "                                240)                                                              \n",
            "                                                                                                  \n",
            " block3b_expand_bn (BatchNormal  (None, None, None,   960        ['block3b_expand_conv[0][0]']    \n",
            " ization)                       240)                                                              \n",
            "                                                                                                  \n",
            " block3b_expand_activation (Act  (None, None, None,   0          ['block3b_expand_bn[0][0]']      \n",
            " ivation)                       240)                                                              \n",
            "                                                                                                  \n",
            " block3b_dwconv (DepthwiseConv2  (None, None, None,   6000       ['block3b_expand_activation[0][0]\n",
            " D)                             240)                             ']                               \n",
            "                                                                                                  \n",
            " block3b_bn (BatchNormalization  (None, None, None,   960        ['block3b_dwconv[0][0]']         \n",
            " )                              240)                                                              \n",
            "                                                                                                  \n",
            " block3b_activation (Activation  (None, None, None,   0          ['block3b_bn[0][0]']             \n",
            " )                              240)                                                              \n",
            "                                                                                                  \n",
            " block3b_se_squeeze (GlobalAver  (None, 240)         0           ['block3b_activation[0][0]']     \n",
            " agePooling2D)                                                                                    \n",
            "                                                                                                  \n",
            " block3b_se_reshape (Reshape)   (None, 1, 1, 240)    0           ['block3b_se_squeeze[0][0]']     \n",
            "                                                                                                  \n",
            " block3b_se_reduce (Conv2D)     (None, 1, 1, 10)     2410        ['block3b_se_reshape[0][0]']     \n",
            "                                                                                                  \n",
            " block3b_se_expand (Conv2D)     (None, 1, 1, 240)    2640        ['block3b_se_reduce[0][0]']      \n",
            "                                                                                                  \n",
            " block3b_se_excite (Multiply)   (None, None, None,   0           ['block3b_activation[0][0]',     \n",
            "                                240)                              'block3b_se_expand[0][0]']      \n",
            "                                                                                                  \n",
            " block3b_project_conv (Conv2D)  (None, None, None,   9600        ['block3b_se_excite[0][0]']      \n",
            "                                40)                                                               \n",
            "                                                                                                  \n",
            " block3b_project_bn (BatchNorma  (None, None, None,   160        ['block3b_project_conv[0][0]']   \n",
            " lization)                      40)                                                               \n",
            "                                                                                                  \n",
            " block3b_drop (Dropout)         (None, None, None,   0           ['block3b_project_bn[0][0]']     \n",
            "                                40)                                                               \n",
            "                                                                                                  \n",
            " block3b_add (Add)              (None, None, None,   0           ['block3b_drop[0][0]',           \n",
            "                                40)                               'block3a_project_bn[0][0]']     \n",
            "                                                                                                  \n",
            " block4a_expand_conv (Conv2D)   (None, None, None,   9600        ['block3b_add[0][0]']            \n",
            "                                240)                                                              \n",
            "                                                                                                  \n",
            " block4a_expand_bn (BatchNormal  (None, None, None,   960        ['block4a_expand_conv[0][0]']    \n",
            " ization)                       240)                                                              \n",
            "                                                                                                  \n",
            " block4a_expand_activation (Act  (None, None, None,   0          ['block4a_expand_bn[0][0]']      \n",
            " ivation)                       240)                                                              \n",
            "                                                                                                  \n",
            " block4a_dwconv_pad (ZeroPaddin  (None, None, None,   0          ['block4a_expand_activation[0][0]\n",
            " g2D)                           240)                             ']                               \n",
            "                                                                                                  \n",
            " block4a_dwconv (DepthwiseConv2  (None, None, None,   2160       ['block4a_dwconv_pad[0][0]']     \n",
            " D)                             240)                                                              \n",
            "                                                                                                  \n",
            " block4a_bn (BatchNormalization  (None, None, None,   960        ['block4a_dwconv[0][0]']         \n",
            " )                              240)                                                              \n",
            "                                                                                                  \n",
            " block4a_activation (Activation  (None, None, None,   0          ['block4a_bn[0][0]']             \n",
            " )                              240)                                                              \n",
            "                                                                                                  \n",
            " block4a_se_squeeze (GlobalAver  (None, 240)         0           ['block4a_activation[0][0]']     \n",
            " agePooling2D)                                                                                    \n",
            "                                                                                                  \n",
            " block4a_se_reshape (Reshape)   (None, 1, 1, 240)    0           ['block4a_se_squeeze[0][0]']     \n",
            "                                                                                                  \n",
            " block4a_se_reduce (Conv2D)     (None, 1, 1, 10)     2410        ['block4a_se_reshape[0][0]']     \n",
            "                                                                                                  \n",
            " block4a_se_expand (Conv2D)     (None, 1, 1, 240)    2640        ['block4a_se_reduce[0][0]']      \n",
            "                                                                                                  \n",
            " block4a_se_excite (Multiply)   (None, None, None,   0           ['block4a_activation[0][0]',     \n",
            "                                240)                              'block4a_se_expand[0][0]']      \n",
            "                                                                                                  \n",
            " block4a_project_conv (Conv2D)  (None, None, None,   19200       ['block4a_se_excite[0][0]']      \n",
            "                                80)                                                               \n",
            "                                                                                                  \n",
            " block4a_project_bn (BatchNorma  (None, None, None,   320        ['block4a_project_conv[0][0]']   \n",
            " lization)                      80)                                                               \n",
            "                                                                                                  \n",
            " block4b_expand_conv (Conv2D)   (None, None, None,   38400       ['block4a_project_bn[0][0]']     \n",
            "                                480)                                                              \n",
            "                                                                                                  \n",
            " block4b_expand_bn (BatchNormal  (None, None, None,   1920       ['block4b_expand_conv[0][0]']    \n",
            " ization)                       480)                                                              \n",
            "                                                                                                  \n",
            " block4b_expand_activation (Act  (None, None, None,   0          ['block4b_expand_bn[0][0]']      \n",
            " ivation)                       480)                                                              \n",
            "                                                                                                  \n",
            " block4b_dwconv (DepthwiseConv2  (None, None, None,   4320       ['block4b_expand_activation[0][0]\n",
            " D)                             480)                             ']                               \n",
            "                                                                                                  \n",
            " block4b_bn (BatchNormalization  (None, None, None,   1920       ['block4b_dwconv[0][0]']         \n",
            " )                              480)                                                              \n",
            "                                                                                                  \n",
            " block4b_activation (Activation  (None, None, None,   0          ['block4b_bn[0][0]']             \n",
            " )                              480)                                                              \n",
            "                                                                                                  \n",
            " block4b_se_squeeze (GlobalAver  (None, 480)         0           ['block4b_activation[0][0]']     \n",
            " agePooling2D)                                                                                    \n",
            "                                                                                                  \n",
            " block4b_se_reshape (Reshape)   (None, 1, 1, 480)    0           ['block4b_se_squeeze[0][0]']     \n",
            "                                                                                                  \n",
            " block4b_se_reduce (Conv2D)     (None, 1, 1, 20)     9620        ['block4b_se_reshape[0][0]']     \n",
            "                                                                                                  \n",
            " block4b_se_expand (Conv2D)     (None, 1, 1, 480)    10080       ['block4b_se_reduce[0][0]']      \n",
            "                                                                                                  \n",
            " block4b_se_excite (Multiply)   (None, None, None,   0           ['block4b_activation[0][0]',     \n",
            "                                480)                              'block4b_se_expand[0][0]']      \n",
            "                                                                                                  \n",
            " block4b_project_conv (Conv2D)  (None, None, None,   38400       ['block4b_se_excite[0][0]']      \n",
            "                                80)                                                               \n",
            "                                                                                                  \n",
            " block4b_project_bn (BatchNorma  (None, None, None,   320        ['block4b_project_conv[0][0]']   \n",
            " lization)                      80)                                                               \n",
            "                                                                                                  \n",
            " block4b_drop (Dropout)         (None, None, None,   0           ['block4b_project_bn[0][0]']     \n",
            "                                80)                                                               \n",
            "                                                                                                  \n",
            " block4b_add (Add)              (None, None, None,   0           ['block4b_drop[0][0]',           \n",
            "                                80)                               'block4a_project_bn[0][0]']     \n",
            "                                                                                                  \n",
            " block4c_expand_conv (Conv2D)   (None, None, None,   38400       ['block4b_add[0][0]']            \n",
            "                                480)                                                              \n",
            "                                                                                                  \n",
            " block4c_expand_bn (BatchNormal  (None, None, None,   1920       ['block4c_expand_conv[0][0]']    \n",
            " ization)                       480)                                                              \n",
            "                                                                                                  \n",
            " block4c_expand_activation (Act  (None, None, None,   0          ['block4c_expand_bn[0][0]']      \n",
            " ivation)                       480)                                                              \n",
            "                                                                                                  \n",
            " block4c_dwconv (DepthwiseConv2  (None, None, None,   4320       ['block4c_expand_activation[0][0]\n",
            " D)                             480)                             ']                               \n",
            "                                                                                                  \n",
            " block4c_bn (BatchNormalization  (None, None, None,   1920       ['block4c_dwconv[0][0]']         \n",
            " )                              480)                                                              \n",
            "                                                                                                  \n",
            " block4c_activation (Activation  (None, None, None,   0          ['block4c_bn[0][0]']             \n",
            " )                              480)                                                              \n",
            "                                                                                                  \n",
            " block4c_se_squeeze (GlobalAver  (None, 480)         0           ['block4c_activation[0][0]']     \n",
            " agePooling2D)                                                                                    \n",
            "                                                                                                  \n",
            " block4c_se_reshape (Reshape)   (None, 1, 1, 480)    0           ['block4c_se_squeeze[0][0]']     \n",
            "                                                                                                  \n",
            " block4c_se_reduce (Conv2D)     (None, 1, 1, 20)     9620        ['block4c_se_reshape[0][0]']     \n",
            "                                                                                                  \n",
            " block4c_se_expand (Conv2D)     (None, 1, 1, 480)    10080       ['block4c_se_reduce[0][0]']      \n",
            "                                                                                                  \n",
            " block4c_se_excite (Multiply)   (None, None, None,   0           ['block4c_activation[0][0]',     \n",
            "                                480)                              'block4c_se_expand[0][0]']      \n",
            "                                                                                                  \n",
            " block4c_project_conv (Conv2D)  (None, None, None,   38400       ['block4c_se_excite[0][0]']      \n",
            "                                80)                                                               \n",
            "                                                                                                  \n",
            " block4c_project_bn (BatchNorma  (None, None, None,   320        ['block4c_project_conv[0][0]']   \n",
            " lization)                      80)                                                               \n",
            "                                                                                                  \n",
            " block4c_drop (Dropout)         (None, None, None,   0           ['block4c_project_bn[0][0]']     \n",
            "                                80)                                                               \n",
            "                                                                                                  \n",
            " block4c_add (Add)              (None, None, None,   0           ['block4c_drop[0][0]',           \n",
            "                                80)                               'block4b_add[0][0]']            \n",
            "                                                                                                  \n",
            " block5a_expand_conv (Conv2D)   (None, None, None,   38400       ['block4c_add[0][0]']            \n",
            "                                480)                                                              \n",
            "                                                                                                  \n",
            " block5a_expand_bn (BatchNormal  (None, None, None,   1920       ['block5a_expand_conv[0][0]']    \n",
            " ization)                       480)                                                              \n",
            "                                                                                                  \n",
            " block5a_expand_activation (Act  (None, None, None,   0          ['block5a_expand_bn[0][0]']      \n",
            " ivation)                       480)                                                              \n",
            "                                                                                                  \n",
            " block5a_dwconv (DepthwiseConv2  (None, None, None,   12000      ['block5a_expand_activation[0][0]\n",
            " D)                             480)                             ']                               \n",
            "                                                                                                  \n",
            " block5a_bn (BatchNormalization  (None, None, None,   1920       ['block5a_dwconv[0][0]']         \n",
            " )                              480)                                                              \n",
            "                                                                                                  \n",
            " block5a_activation (Activation  (None, None, None,   0          ['block5a_bn[0][0]']             \n",
            " )                              480)                                                              \n",
            "                                                                                                  \n",
            " block5a_se_squeeze (GlobalAver  (None, 480)         0           ['block5a_activation[0][0]']     \n",
            " agePooling2D)                                                                                    \n",
            "                                                                                                  \n",
            " block5a_se_reshape (Reshape)   (None, 1, 1, 480)    0           ['block5a_se_squeeze[0][0]']     \n",
            "                                                                                                  \n",
            " block5a_se_reduce (Conv2D)     (None, 1, 1, 20)     9620        ['block5a_se_reshape[0][0]']     \n",
            "                                                                                                  \n",
            " block5a_se_expand (Conv2D)     (None, 1, 1, 480)    10080       ['block5a_se_reduce[0][0]']      \n",
            "                                                                                                  \n",
            " block5a_se_excite (Multiply)   (None, None, None,   0           ['block5a_activation[0][0]',     \n",
            "                                480)                              'block5a_se_expand[0][0]']      \n",
            "                                                                                                  \n",
            " block5a_project_conv (Conv2D)  (None, None, None,   53760       ['block5a_se_excite[0][0]']      \n",
            "                                112)                                                              \n",
            "                                                                                                  \n",
            " block5a_project_bn (BatchNorma  (None, None, None,   448        ['block5a_project_conv[0][0]']   \n",
            " lization)                      112)                                                              \n",
            "                                                                                                  \n",
            " block5b_expand_conv (Conv2D)   (None, None, None,   75264       ['block5a_project_bn[0][0]']     \n",
            "                                672)                                                              \n",
            "                                                                                                  \n",
            " block5b_expand_bn (BatchNormal  (None, None, None,   2688       ['block5b_expand_conv[0][0]']    \n",
            " ization)                       672)                                                              \n",
            "                                                                                                  \n",
            " block5b_expand_activation (Act  (None, None, None,   0          ['block5b_expand_bn[0][0]']      \n",
            " ivation)                       672)                                                              \n",
            "                                                                                                  \n",
            " block5b_dwconv (DepthwiseConv2  (None, None, None,   16800      ['block5b_expand_activation[0][0]\n",
            " D)                             672)                             ']                               \n",
            "                                                                                                  \n",
            " block5b_bn (BatchNormalization  (None, None, None,   2688       ['block5b_dwconv[0][0]']         \n",
            " )                              672)                                                              \n",
            "                                                                                                  \n",
            " block5b_activation (Activation  (None, None, None,   0          ['block5b_bn[0][0]']             \n",
            " )                              672)                                                              \n",
            "                                                                                                  \n",
            " block5b_se_squeeze (GlobalAver  (None, 672)         0           ['block5b_activation[0][0]']     \n",
            " agePooling2D)                                                                                    \n",
            "                                                                                                  \n",
            " block5b_se_reshape (Reshape)   (None, 1, 1, 672)    0           ['block5b_se_squeeze[0][0]']     \n",
            "                                                                                                  \n",
            " block5b_se_reduce (Conv2D)     (None, 1, 1, 28)     18844       ['block5b_se_reshape[0][0]']     \n",
            "                                                                                                  \n",
            " block5b_se_expand (Conv2D)     (None, 1, 1, 672)    19488       ['block5b_se_reduce[0][0]']      \n",
            "                                                                                                  \n",
            " block5b_se_excite (Multiply)   (None, None, None,   0           ['block5b_activation[0][0]',     \n",
            "                                672)                              'block5b_se_expand[0][0]']      \n",
            "                                                                                                  \n",
            " block5b_project_conv (Conv2D)  (None, None, None,   75264       ['block5b_se_excite[0][0]']      \n",
            "                                112)                                                              \n",
            "                                                                                                  \n",
            " block5b_project_bn (BatchNorma  (None, None, None,   448        ['block5b_project_conv[0][0]']   \n",
            " lization)                      112)                                                              \n",
            "                                                                                                  \n",
            " block5b_drop (Dropout)         (None, None, None,   0           ['block5b_project_bn[0][0]']     \n",
            "                                112)                                                              \n",
            "                                                                                                  \n",
            " block5b_add (Add)              (None, None, None,   0           ['block5b_drop[0][0]',           \n",
            "                                112)                              'block5a_project_bn[0][0]']     \n",
            "                                                                                                  \n",
            " block5c_expand_conv (Conv2D)   (None, None, None,   75264       ['block5b_add[0][0]']            \n",
            "                                672)                                                              \n",
            "                                                                                                  \n",
            " block5c_expand_bn (BatchNormal  (None, None, None,   2688       ['block5c_expand_conv[0][0]']    \n",
            " ization)                       672)                                                              \n",
            "                                                                                                  \n",
            " block5c_expand_activation (Act  (None, None, None,   0          ['block5c_expand_bn[0][0]']      \n",
            " ivation)                       672)                                                              \n",
            "                                                                                                  \n",
            " block5c_dwconv (DepthwiseConv2  (None, None, None,   16800      ['block5c_expand_activation[0][0]\n",
            " D)                             672)                             ']                               \n",
            "                                                                                                  \n",
            " block5c_bn (BatchNormalization  (None, None, None,   2688       ['block5c_dwconv[0][0]']         \n",
            " )                              672)                                                              \n",
            "                                                                                                  \n",
            " block5c_activation (Activation  (None, None, None,   0          ['block5c_bn[0][0]']             \n",
            " )                              672)                                                              \n",
            "                                                                                                  \n",
            " block5c_se_squeeze (GlobalAver  (None, 672)         0           ['block5c_activation[0][0]']     \n",
            " agePooling2D)                                                                                    \n",
            "                                                                                                  \n",
            " block5c_se_reshape (Reshape)   (None, 1, 1, 672)    0           ['block5c_se_squeeze[0][0]']     \n",
            "                                                                                                  \n",
            " block5c_se_reduce (Conv2D)     (None, 1, 1, 28)     18844       ['block5c_se_reshape[0][0]']     \n",
            "                                                                                                  \n",
            " block5c_se_expand (Conv2D)     (None, 1, 1, 672)    19488       ['block5c_se_reduce[0][0]']      \n",
            "                                                                                                  \n",
            " block5c_se_excite (Multiply)   (None, None, None,   0           ['block5c_activation[0][0]',     \n",
            "                                672)                              'block5c_se_expand[0][0]']      \n",
            "                                                                                                  \n",
            " block5c_project_conv (Conv2D)  (None, None, None,   75264       ['block5c_se_excite[0][0]']      \n",
            "                                112)                                                              \n",
            "                                                                                                  \n",
            " block5c_project_bn (BatchNorma  (None, None, None,   448        ['block5c_project_conv[0][0]']   \n",
            " lization)                      112)                                                              \n",
            "                                                                                                  \n",
            " block5c_drop (Dropout)         (None, None, None,   0           ['block5c_project_bn[0][0]']     \n",
            "                                112)                                                              \n",
            "                                                                                                  \n",
            " block5c_add (Add)              (None, None, None,   0           ['block5c_drop[0][0]',           \n",
            "                                112)                              'block5b_add[0][0]']            \n",
            "                                                                                                  \n",
            " block6a_expand_conv (Conv2D)   (None, None, None,   75264       ['block5c_add[0][0]']            \n",
            "                                672)                                                              \n",
            "                                                                                                  \n",
            " block6a_expand_bn (BatchNormal  (None, None, None,   2688       ['block6a_expand_conv[0][0]']    \n",
            " ization)                       672)                                                              \n",
            "                                                                                                  \n",
            " block6a_expand_activation (Act  (None, None, None,   0          ['block6a_expand_bn[0][0]']      \n",
            " ivation)                       672)                                                              \n",
            "                                                                                                  \n",
            " block6a_dwconv_pad (ZeroPaddin  (None, None, None,   0          ['block6a_expand_activation[0][0]\n",
            " g2D)                           672)                             ']                               \n",
            "                                                                                                  \n",
            " block6a_dwconv (DepthwiseConv2  (None, None, None,   16800      ['block6a_dwconv_pad[0][0]']     \n",
            " D)                             672)                                                              \n",
            "                                                                                                  \n",
            " block6a_bn (BatchNormalization  (None, None, None,   2688       ['block6a_dwconv[0][0]']         \n",
            " )                              672)                                                              \n",
            "                                                                                                  \n",
            " block6a_activation (Activation  (None, None, None,   0          ['block6a_bn[0][0]']             \n",
            " )                              672)                                                              \n",
            "                                                                                                  \n",
            " block6a_se_squeeze (GlobalAver  (None, 672)         0           ['block6a_activation[0][0]']     \n",
            " agePooling2D)                                                                                    \n",
            "                                                                                                  \n",
            " block6a_se_reshape (Reshape)   (None, 1, 1, 672)    0           ['block6a_se_squeeze[0][0]']     \n",
            "                                                                                                  \n",
            " block6a_se_reduce (Conv2D)     (None, 1, 1, 28)     18844       ['block6a_se_reshape[0][0]']     \n",
            "                                                                                                  \n",
            " block6a_se_expand (Conv2D)     (None, 1, 1, 672)    19488       ['block6a_se_reduce[0][0]']      \n",
            "                                                                                                  \n",
            " block6a_se_excite (Multiply)   (None, None, None,   0           ['block6a_activation[0][0]',     \n",
            "                                672)                              'block6a_se_expand[0][0]']      \n",
            "                                                                                                  \n",
            " block6a_project_conv (Conv2D)  (None, None, None,   129024      ['block6a_se_excite[0][0]']      \n",
            "                                192)                                                              \n",
            "                                                                                                  \n",
            " block6a_project_bn (BatchNorma  (None, None, None,   768        ['block6a_project_conv[0][0]']   \n",
            " lization)                      192)                                                              \n",
            "                                                                                                  \n",
            " block6b_expand_conv (Conv2D)   (None, None, None,   221184      ['block6a_project_bn[0][0]']     \n",
            "                                1152)                                                             \n",
            "                                                                                                  \n",
            " block6b_expand_bn (BatchNormal  (None, None, None,   4608       ['block6b_expand_conv[0][0]']    \n",
            " ization)                       1152)                                                             \n",
            "                                                                                                  \n",
            " block6b_expand_activation (Act  (None, None, None,   0          ['block6b_expand_bn[0][0]']      \n",
            " ivation)                       1152)                                                             \n",
            "                                                                                                  \n",
            " block6b_dwconv (DepthwiseConv2  (None, None, None,   28800      ['block6b_expand_activation[0][0]\n",
            " D)                             1152)                            ']                               \n",
            "                                                                                                  \n",
            " block6b_bn (BatchNormalization  (None, None, None,   4608       ['block6b_dwconv[0][0]']         \n",
            " )                              1152)                                                             \n",
            "                                                                                                  \n",
            " block6b_activation (Activation  (None, None, None,   0          ['block6b_bn[0][0]']             \n",
            " )                              1152)                                                             \n",
            "                                                                                                  \n",
            " block6b_se_squeeze (GlobalAver  (None, 1152)        0           ['block6b_activation[0][0]']     \n",
            " agePooling2D)                                                                                    \n",
            "                                                                                                  \n",
            " block6b_se_reshape (Reshape)   (None, 1, 1, 1152)   0           ['block6b_se_squeeze[0][0]']     \n",
            "                                                                                                  \n",
            " block6b_se_reduce (Conv2D)     (None, 1, 1, 48)     55344       ['block6b_se_reshape[0][0]']     \n",
            "                                                                                                  \n",
            " block6b_se_expand (Conv2D)     (None, 1, 1, 1152)   56448       ['block6b_se_reduce[0][0]']      \n",
            "                                                                                                  \n",
            " block6b_se_excite (Multiply)   (None, None, None,   0           ['block6b_activation[0][0]',     \n",
            "                                1152)                             'block6b_se_expand[0][0]']      \n",
            "                                                                                                  \n",
            " block6b_project_conv (Conv2D)  (None, None, None,   221184      ['block6b_se_excite[0][0]']      \n",
            "                                192)                                                              \n",
            "                                                                                                  \n",
            " block6b_project_bn (BatchNorma  (None, None, None,   768        ['block6b_project_conv[0][0]']   \n",
            " lization)                      192)                                                              \n",
            "                                                                                                  \n",
            " block6b_drop (Dropout)         (None, None, None,   0           ['block6b_project_bn[0][0]']     \n",
            "                                192)                                                              \n",
            "                                                                                                  \n",
            " block6b_add (Add)              (None, None, None,   0           ['block6b_drop[0][0]',           \n",
            "                                192)                              'block6a_project_bn[0][0]']     \n",
            "                                                                                                  \n",
            " block6c_expand_conv (Conv2D)   (None, None, None,   221184      ['block6b_add[0][0]']            \n",
            "                                1152)                                                             \n",
            "                                                                                                  \n",
            " block6c_expand_bn (BatchNormal  (None, None, None,   4608       ['block6c_expand_conv[0][0]']    \n",
            " ization)                       1152)                                                             \n",
            "                                                                                                  \n",
            " block6c_expand_activation (Act  (None, None, None,   0          ['block6c_expand_bn[0][0]']      \n",
            " ivation)                       1152)                                                             \n",
            "                                                                                                  \n",
            " block6c_dwconv (DepthwiseConv2  (None, None, None,   28800      ['block6c_expand_activation[0][0]\n",
            " D)                             1152)                            ']                               \n",
            "                                                                                                  \n",
            " block6c_bn (BatchNormalization  (None, None, None,   4608       ['block6c_dwconv[0][0]']         \n",
            " )                              1152)                                                             \n",
            "                                                                                                  \n",
            " block6c_activation (Activation  (None, None, None,   0          ['block6c_bn[0][0]']             \n",
            " )                              1152)                                                             \n",
            "                                                                                                  \n",
            " block6c_se_squeeze (GlobalAver  (None, 1152)        0           ['block6c_activation[0][0]']     \n",
            " agePooling2D)                                                                                    \n",
            "                                                                                                  \n",
            " block6c_se_reshape (Reshape)   (None, 1, 1, 1152)   0           ['block6c_se_squeeze[0][0]']     \n",
            "                                                                                                  \n",
            " block6c_se_reduce (Conv2D)     (None, 1, 1, 48)     55344       ['block6c_se_reshape[0][0]']     \n",
            "                                                                                                  \n",
            " block6c_se_expand (Conv2D)     (None, 1, 1, 1152)   56448       ['block6c_se_reduce[0][0]']      \n",
            "                                                                                                  \n",
            " block6c_se_excite (Multiply)   (None, None, None,   0           ['block6c_activation[0][0]',     \n",
            "                                1152)                             'block6c_se_expand[0][0]']      \n",
            "                                                                                                  \n",
            " block6c_project_conv (Conv2D)  (None, None, None,   221184      ['block6c_se_excite[0][0]']      \n",
            "                                192)                                                              \n",
            "                                                                                                  \n",
            " block6c_project_bn (BatchNorma  (None, None, None,   768        ['block6c_project_conv[0][0]']   \n",
            " lization)                      192)                                                              \n",
            "                                                                                                  \n",
            " block6c_drop (Dropout)         (None, None, None,   0           ['block6c_project_bn[0][0]']     \n",
            "                                192)                                                              \n",
            "                                                                                                  \n",
            " block6c_add (Add)              (None, None, None,   0           ['block6c_drop[0][0]',           \n",
            "                                192)                              'block6b_add[0][0]']            \n",
            "                                                                                                  \n",
            " block6d_expand_conv (Conv2D)   (None, None, None,   221184      ['block6c_add[0][0]']            \n",
            "                                1152)                                                             \n",
            "                                                                                                  \n",
            " block6d_expand_bn (BatchNormal  (None, None, None,   4608       ['block6d_expand_conv[0][0]']    \n",
            " ization)                       1152)                                                             \n",
            "                                                                                                  \n",
            " block6d_expand_activation (Act  (None, None, None,   0          ['block6d_expand_bn[0][0]']      \n",
            " ivation)                       1152)                                                             \n",
            "                                                                                                  \n",
            " block6d_dwconv (DepthwiseConv2  (None, None, None,   28800      ['block6d_expand_activation[0][0]\n",
            " D)                             1152)                            ']                               \n",
            "                                                                                                  \n",
            " block6d_bn (BatchNormalization  (None, None, None,   4608       ['block6d_dwconv[0][0]']         \n",
            " )                              1152)                                                             \n",
            "                                                                                                  \n",
            " block6d_activation (Activation  (None, None, None,   0          ['block6d_bn[0][0]']             \n",
            " )                              1152)                                                             \n",
            "                                                                                                  \n",
            " block6d_se_squeeze (GlobalAver  (None, 1152)        0           ['block6d_activation[0][0]']     \n",
            " agePooling2D)                                                                                    \n",
            "                                                                                                  \n",
            " block6d_se_reshape (Reshape)   (None, 1, 1, 1152)   0           ['block6d_se_squeeze[0][0]']     \n",
            "                                                                                                  \n",
            " block6d_se_reduce (Conv2D)     (None, 1, 1, 48)     55344       ['block6d_se_reshape[0][0]']     \n",
            "                                                                                                  \n",
            " block6d_se_expand (Conv2D)     (None, 1, 1, 1152)   56448       ['block6d_se_reduce[0][0]']      \n",
            "                                                                                                  \n",
            " block6d_se_excite (Multiply)   (None, None, None,   0           ['block6d_activation[0][0]',     \n",
            "                                1152)                             'block6d_se_expand[0][0]']      \n",
            "                                                                                                  \n",
            " block6d_project_conv (Conv2D)  (None, None, None,   221184      ['block6d_se_excite[0][0]']      \n",
            "                                192)                                                              \n",
            "                                                                                                  \n",
            " block6d_project_bn (BatchNorma  (None, None, None,   768        ['block6d_project_conv[0][0]']   \n",
            " lization)                      192)                                                              \n",
            "                                                                                                  \n",
            " block6d_drop (Dropout)         (None, None, None,   0           ['block6d_project_bn[0][0]']     \n",
            "                                192)                                                              \n",
            "                                                                                                  \n",
            " block6d_add (Add)              (None, None, None,   0           ['block6d_drop[0][0]',           \n",
            "                                192)                              'block6c_add[0][0]']            \n",
            "                                                                                                  \n",
            " block7a_expand_conv (Conv2D)   (None, None, None,   221184      ['block6d_add[0][0]']            \n",
            "                                1152)                                                             \n",
            "                                                                                                  \n",
            " block7a_expand_bn (BatchNormal  (None, None, None,   4608       ['block7a_expand_conv[0][0]']    \n",
            " ization)                       1152)                                                             \n",
            "                                                                                                  \n",
            " block7a_expand_activation (Act  (None, None, None,   0          ['block7a_expand_bn[0][0]']      \n",
            " ivation)                       1152)                                                             \n",
            "                                                                                                  \n",
            " block7a_dwconv (DepthwiseConv2  (None, None, None,   10368      ['block7a_expand_activation[0][0]\n",
            " D)                             1152)                            ']                               \n",
            "                                                                                                  \n",
            " block7a_bn (BatchNormalization  (None, None, None,   4608       ['block7a_dwconv[0][0]']         \n",
            " )                              1152)                                                             \n",
            "                                                                                                  \n",
            " block7a_activation (Activation  (None, None, None,   0          ['block7a_bn[0][0]']             \n",
            " )                              1152)                                                             \n",
            "                                                                                                  \n",
            " block7a_se_squeeze (GlobalAver  (None, 1152)        0           ['block7a_activation[0][0]']     \n",
            " agePooling2D)                                                                                    \n",
            "                                                                                                  \n",
            " block7a_se_reshape (Reshape)   (None, 1, 1, 1152)   0           ['block7a_se_squeeze[0][0]']     \n",
            "                                                                                                  \n",
            " block7a_se_reduce (Conv2D)     (None, 1, 1, 48)     55344       ['block7a_se_reshape[0][0]']     \n",
            "                                                                                                  \n",
            " block7a_se_expand (Conv2D)     (None, 1, 1, 1152)   56448       ['block7a_se_reduce[0][0]']      \n",
            "                                                                                                  \n",
            " block7a_se_excite (Multiply)   (None, None, None,   0           ['block7a_activation[0][0]',     \n",
            "                                1152)                             'block7a_se_expand[0][0]']      \n",
            "                                                                                                  \n",
            " block7a_project_conv (Conv2D)  (None, None, None,   368640      ['block7a_se_excite[0][0]']      \n",
            "                                320)                                                              \n",
            "                                                                                                  \n",
            " block7a_project_bn (BatchNorma  (None, None, None,   1280       ['block7a_project_conv[0][0]']   \n",
            " lization)                      320)                                                              \n",
            "                                                                                                  \n",
            " top_conv (Conv2D)              (None, None, None,   409600      ['block7a_project_bn[0][0]']     \n",
            "                                1280)                                                             \n",
            "                                                                                                  \n",
            " top_bn (BatchNormalization)    (None, None, None,   5120        ['top_conv[0][0]']               \n",
            "                                1280)                                                             \n",
            "                                                                                                  \n",
            " top_activation (Activation)    (None, None, None,   0           ['top_bn[0][0]']                 \n",
            "                                1280)                                                             \n",
            "                                                                                                  \n",
            "==================================================================================================\n",
            "Total params: 4,049,571\n",
            "Trainable params: 0\n",
            "Non-trainable params: 4,049,571\n",
            "__________________________________________________________________________________________________\n"
          ]
        }
      ]
    },
    {
      "cell_type": "code",
      "source": [
        "model_0.summary()"
      ],
      "metadata": {
        "colab": {
          "base_uri": "https://localhost:8080/"
        },
        "id": "SfANxtcgFMOP",
        "outputId": "336e7b25-cbde-4a0d-8ae1-e9641c5c5dbc"
      },
      "execution_count": 16,
      "outputs": [
        {
          "output_type": "stream",
          "name": "stdout",
          "text": [
            "Model: \"model\"\n",
            "_________________________________________________________________\n",
            " Layer (type)                Output Shape              Param #   \n",
            "=================================================================\n",
            " Input_layer (InputLayer)    [(None, 224, 224, 3)]     0         \n",
            "                                                                 \n",
            " efficientnetb0 (Functional)  (None, None, None, 1280)  4049571  \n",
            "                                                                 \n",
            " global_average_pooling_laye  (None, 1280)             0         \n",
            " r (GlobalAveragePooling2D)                                      \n",
            "                                                                 \n",
            " output_layer (Dense)        (None, 10)                12810     \n",
            "                                                                 \n",
            "=================================================================\n",
            "Total params: 4,062,381\n",
            "Trainable params: 12,810\n",
            "Non-trainable params: 4,049,571\n",
            "_________________________________________________________________\n"
          ]
        }
      ]
    },
    {
      "cell_type": "code",
      "source": [
        "# Plot model's training curves\n",
        "plot_loss_curves(history_0)"
      ],
      "metadata": {
        "colab": {
          "base_uri": "https://localhost:8080/",
          "height": 0
        },
        "id": "XLD1PauIFX8v",
        "outputId": "11ce62a6-4b60-4de4-c3f5-f049106ce46c"
      },
      "execution_count": 17,
      "outputs": [
        {
          "output_type": "display_data",
          "data": {
            "text/plain": [
              "<Figure size 432x288 with 1 Axes>"
            ],
            "image/png": "[encoded data removed]"
          },
          "metadata": {
            "needs_background": "light"
          }
        },
        {
          "output_type": "display_data",
          "data": {
            "text/plain": [
              "<Figure size 432x288 with 1 Axes>"
            ],
            "image/png": "[encoded data removed]"
          },
          "metadata": {
            "needs_background": "light"
          }
        }
      ]
    },
    {
      "cell_type": "markdown",
      "source": [
        "## Getting a feature vector from a trained model.\n",
        "\n",
        "- A Feature vector is a learned representation of the input data(a compressed form of the input data based on how the model sees it)."
      ],
      "metadata": {
        "id": "mNjlrUoN4kLS"
      }
    },
    {
      "cell_type": "code",
      "source": [
        "# Define the input shape\n",
        "input_shape = (1, 4, 4, 3)\n",
        "# Create a random tensor\n",
        "tf.random.set_seed(42)\n",
        "input_tensor = tf.random.normal(input_shape)\n",
        "print(f\"Random input tensor:\\n {input_tensor}\\n\")\n",
        "# Pass the random tensor through Global Average Pooling 2D Layer\n",
        "global_average_pooled_tensor = tf.keras.layers.GlobalAveragePooling2D()(input_tensor)\n",
        "print(f\"2D global average pooled random tensor:\\n {global_average_pooled_tensor}\\n\")"
      ],
      "metadata": {
        "colab": {
          "base_uri": "https://localhost:8080/"
        },
        "id": "XduxFkpX4j2I",
        "outputId": "2e0044bc-708d-42b8-d79e-7e428f90e458"
      },
      "execution_count": 18,
      "outputs": [
        {
          "output_type": "stream",
          "name": "stdout",
          "text": [
            "Random input tensor:\n",
            " [[[[ 0.3274685  -0.8426258   0.3194337 ]\n",
            "   [-1.4075519  -2.3880599  -1.0392479 ]\n",
            "   [-0.5573232   0.539707    1.6994323 ]\n",
            "   [ 0.28893656 -1.5066116  -0.2645474 ]]\n",
            "\n",
            "  [[-0.59722406 -1.9171132  -0.62044144]\n",
            "   [ 0.8504023  -0.40604794 -3.0258412 ]\n",
            "   [ 0.9058464   0.29855987 -0.22561555]\n",
            "   [-0.7616443  -1.8917141  -0.93847126]]\n",
            "\n",
            "  [[ 0.77852213 -0.47338897  0.97772694]\n",
            "   [ 0.24694404  0.20573747 -0.5256233 ]\n",
            "   [ 0.32410017  0.02545409 -0.10638497]\n",
            "   [-0.6369475   1.1603122   0.2507359 ]]\n",
            "\n",
            "  [[-0.41728503  0.4012578  -1.4145443 ]\n",
            "   [-0.5931857  -1.6617213   0.33567193]\n",
            "   [ 0.10815629  0.23479682 -0.56668764]\n",
            "   [-0.35819843  0.88698614  0.52744764]]]]\n",
            "\n",
            "2D global average pooled random tensor:\n",
            " [[-0.09368646 -0.45840448 -0.2885598 ]]\n",
            "\n"
          ]
        }
      ]
    },
    {
      "cell_type": "code",
      "source": [
        "# Replicate the GlobalAveragePool2D layer\n",
        "tf.reduce_mean(input_tensor, axis=[1,2])"
      ],
      "metadata": {
        "id": "BPUv9x2IFoqw",
        "colab": {
          "base_uri": "https://localhost:8080/"
        },
        "outputId": "6294657c-65e4-4772-b61c-2420216a06bf"
      },
      "execution_count": 19,
      "outputs": [
        {
          "output_type": "execute_result",
          "data": {
            "text/plain": [
              "<tf.Tensor: shape=(1, 3), dtype=float32, numpy=array([[-0.09368646, -0.45840448, -0.2885598 ]], dtype=float32)>"
            ]
          },
          "metadata": {},
          "execution_count": 19
        }
      ]
    },
    {
      "cell_type": "markdown",
      "source": [
        "## Running a series of transfer learning experiments.\n",
        "\n",
        "1. `model_1` - Use Feature Extraction Transfer Learning with 1% of training data with data augmentation.\n",
        "2. `model_2` - Use Feature Extraction Transfer Learning with 10% of the training with data augmentation.\n",
        "3. `model_3` - Use Fine-tuning transfer learning on 10% of the training data with data augmentation.\n",
        "4. `model_4` - Use Fine-tuning transfer learning on 100% of the training data with data augmentation. "
      ],
      "metadata": {
        "id": "IZ_vbALZJK-w"
      }
    },
    {
      "cell_type": "markdown",
      "source": [
        "## Getting and Preprocessing data for `model_1`"
      ],
      "metadata": {
        "id": "qi6c_tkkLGYm"
      }
    },
    {
      "cell_type": "code",
      "source": [
        "# Download and unzip data\n",
        "!wget https://storage.googleapis.com/ztm_tf_course/food_vision/10_food_classes_1_percent.zip\n",
        "unzip_data(\"10_food_classes_1_percent.zip\")"
      ],
      "metadata": {
        "colab": {
          "base_uri": "https://localhost:8080/"
        },
        "id": "u9xzes2JFqs2",
        "outputId": "edb96b43-65f0-464e-ad42-f90ce9dfe495"
      },
      "execution_count": 20,
      "outputs": [
        {
          "output_type": "stream",
          "name": "stdout",
          "text": [
            "--2022-04-14 03:17:00--  https://storage.googleapis.com/ztm_tf_course/food_vision/10_food_classes_1_percent.zip\n",
            "Resolving storage.googleapis.com (storage.googleapis.com)... 172.253.62.128, 172.253.115.128, 172.253.122.128, ...\n",
            "Connecting to storage.googleapis.com (storage.googleapis.com)|172.253.62.128|:443... connected.\n",
            "HTTP request sent, awaiting response... 200 OK\n",
            "Length: 133612354 (127M) [application/zip]\n",
            "Saving to: ‘10_food_classes_1_percent.zip’\n",
            "\n",
            "10_food_classes_1_p 100%[===================>] 127.42M   238MB/s    in 0.5s    \n",
            "\n",
            "2022-04-14 03:17:01 (238 MB/s) - ‘10_food_classes_1_percent.zip’ saved [133612354/133612354]\n",
            "\n"
          ]
        }
      ]
    },
    {
      "cell_type": "code",
      "source": [
        "# Creating training and test dirs\n",
        "train_dir_1_percent = \"10_food_classes_1_percent/train\"\n",
        "test_dir = \"10_food_classes_1_percent/test\""
      ],
      "metadata": {
        "id": "rmD2MxTrKkQq"
      },
      "execution_count": 21,
      "outputs": []
    },
    {
      "cell_type": "code",
      "source": [
        "# How many images we are working with\n",
        "walk_through_dir(\"10_food_classes_1_percent\")"
      ],
      "metadata": {
        "colab": {
          "base_uri": "https://localhost:8080/"
        },
        "id": "p4nRKuCqK1IN",
        "outputId": "ecc0bb70-d849-48fb-fa9e-43cb2aad7d9e"
      },
      "execution_count": 22,
      "outputs": [
        {
          "output_type": "stream",
          "name": "stdout",
          "text": [
            "There are 2 directories and 0 images in '10_food_classes_1_percent'.\n",
            "There are 10 directories and 0 images in '10_food_classes_1_percent/train'.\n",
            "There are 0 directories and 7 images in '10_food_classes_1_percent/train/steak'.\n",
            "There are 0 directories and 7 images in '10_food_classes_1_percent/train/sushi'.\n",
            "There are 0 directories and 7 images in '10_food_classes_1_percent/train/fried_rice'.\n",
            "There are 0 directories and 7 images in '10_food_classes_1_percent/train/hamburger'.\n",
            "There are 0 directories and 7 images in '10_food_classes_1_percent/train/grilled_salmon'.\n",
            "There are 0 directories and 7 images in '10_food_classes_1_percent/train/chicken_wings'.\n",
            "There are 0 directories and 7 images in '10_food_classes_1_percent/train/pizza'.\n",
            "There are 0 directories and 7 images in '10_food_classes_1_percent/train/ramen'.\n",
            "There are 0 directories and 7 images in '10_food_classes_1_percent/train/chicken_curry'.\n",
            "There are 0 directories and 7 images in '10_food_classes_1_percent/train/ice_cream'.\n",
            "There are 10 directories and 0 images in '10_food_classes_1_percent/test'.\n",
            "There are 0 directories and 250 images in '10_food_classes_1_percent/test/steak'.\n",
            "There are 0 directories and 250 images in '10_food_classes_1_percent/test/sushi'.\n",
            "There are 0 directories and 250 images in '10_food_classes_1_percent/test/fried_rice'.\n",
            "There are 0 directories and 250 images in '10_food_classes_1_percent/test/hamburger'.\n",
            "There are 0 directories and 250 images in '10_food_classes_1_percent/test/grilled_salmon'.\n",
            "There are 0 directories and 250 images in '10_food_classes_1_percent/test/chicken_wings'.\n",
            "There are 0 directories and 250 images in '10_food_classes_1_percent/test/pizza'.\n",
            "There are 0 directories and 250 images in '10_food_classes_1_percent/test/ramen'.\n",
            "There are 0 directories and 250 images in '10_food_classes_1_percent/test/chicken_curry'.\n",
            "There are 0 directories and 250 images in '10_food_classes_1_percent/test/ice_cream'.\n"
          ]
        }
      ]
    },
    {
      "cell_type": "code",
      "source": [
        "# Setup data loaders \n",
        "IMG_SHAPE = (224, 224)\n",
        "train_data_1_percent = tf.keras.preprocessing.image_dataset_from_directory(train_dir_1_percent, \n",
        "                                                                           label_mode=\"categorical\", \n",
        "                                                                           image_size=IMG_SIZE, \n",
        "                                                                           batch_size=BATCH_SIZE)\n",
        "test_data = tf.keras.preprocessing.image_dataset_from_directory(test_dir, \n",
        "                                                                label_mode=\"categorical\", \n",
        "                                                                image_size=IMG_SIZE, \n",
        "                                                                batch_size=BATCH_SIZE)"
      ],
      "metadata": {
        "colab": {
          "base_uri": "https://localhost:8080/"
        },
        "id": "e9xw8pz0K-nW",
        "outputId": "0779ea44-12fd-4913-d019-5e72471b360f"
      },
      "execution_count": 23,
      "outputs": [
        {
          "output_type": "stream",
          "name": "stdout",
          "text": [
            "Found 70 files belonging to 10 classes.\n",
            "Found 2500 files belonging to 10 classes.\n"
          ]
        }
      ]
    },
    {
      "cell_type": "markdown",
      "source": [
        "## Adding data augmentation as a layer into the model\n",
        "\n",
        "To add data augmentation right into our models, we can use the layers inside:\n",
        "\n",
        "- `tf.keras.layers.experimental.preprocessing()`"
      ],
      "metadata": {
        "id": "4Dq1CUWkMUc1"
      }
    },
    {
      "cell_type": "code",
      "source": [
        "import tensorflow as tf\n",
        "from tensorflow import keras\n",
        "from tensorflow.keras import layers\n",
        "from tensorflow.keras.layers.experimental import preprocessing"
      ],
      "metadata": {
        "id": "gE7ZoQuDLuUk"
      },
      "execution_count": 24,
      "outputs": []
    },
    {
      "cell_type": "code",
      "source": [
        "# Create data augmentation stage with horizontal flipping, rotations, zoms, etc.\n",
        "data_augmentation = keras.Sequential([\n",
        "  preprocessing.RandomFlip(\"horizontal\"), \n",
        "  preprocessing.RandomRotation(0.2), \n",
        "  preprocessing.RandomZoom(0.2), \n",
        "  preprocessing.RandomHeight(0.2), \n",
        "  preprocessing.RandomWidth(0.2), \n",
        "  # preprocessing.Rescale(1./255)\n",
        "], name=\"data_augmentation\")"
      ],
      "metadata": {
        "id": "Fsxc6hkbM1Ng"
      },
      "execution_count": 25,
      "outputs": []
    },
    {
      "cell_type": "markdown",
      "source": [
        "### Visualize data augmentation layer."
      ],
      "metadata": {
        "id": "q6aqNA1RWkTo"
      }
    },
    {
      "cell_type": "code",
      "source": [
        "# View a random image and compare it to its augmented version\n",
        "import matplotlib.pyplot as plt\n",
        "import matplotlib.image as mpimg\n",
        "import os\n",
        "import random\n",
        "target_class = random.choice(train_data_1_percent.class_names)\n",
        "target_dir = \"10_food_classes_1_percent/train/\" + target_class\n",
        "random_image = random.choice(os.listdir(target_dir))\n",
        "random_image_path = target_dir + \"/\" + random_image\n",
        "\n",
        "# Read in the random image\n",
        "img = mpimg.imread(random_image_path)\n",
        "plt.imshow(img)\n",
        "plt.title(f\"Original random image from class: {target_class}\")\n",
        "plt.axis(False);\n",
        "\n",
        "# Let's plot our Augmented Random image\n",
        "augmented_img = data_augmentation(tf.expand_dims(img, axis=0), training=True)\n",
        "plt.figure()\n",
        "plt.imshow(tf.squeeze(augmented_img)/255.)\n",
        "plt.axis(False)"
      ],
      "metadata": {
        "colab": {
          "base_uri": "https://localhost:8080/",
          "height": 0
        },
        "id": "I-D2Fa-mNbit",
        "outputId": "bcb66a37-5d64-47e9-e32d-6941df445013"
      },
      "execution_count": 26,
      "outputs": [
        {
          "output_type": "execute_result",
          "data": {
            "text/plain": [
              "(-0.5, 444.5, 431.5, -0.5)"
            ]
          },
          "metadata": {},
          "execution_count": 26
        },
        {
          "output_type": "display_data",
          "data": {
            "text/plain": [
              "<Figure size 432x288 with 1 Axes>"
            ],
            "image/png": "[encoded data removed]"
          },
          "metadata": {
            "needs_background": "light"
          }
        },
        {
          "output_type": "display_data",
          "data": {
            "text/plain": [
              "<Figure size 432x288 with 1 Axes>"
            ],
            "image/png": "[encoded data removed]"
          },
          "metadata": {
            "needs_background": "light"
          }
        }
      ]
    },
    {
      "cell_type": "markdown",
      "source": [
        "## Model 1: Feature Extraction Transfer Learning on 1% of the data with data augmentation."
      ],
      "metadata": {
        "id": "52hKs3w8Z7Zc"
      }
    },
    {
      "cell_type": "code",
      "source": [
        "# Setup input shape and base model, freezing the base model layers\n",
        "input_shape = (224, 224, 3)\n",
        "base_model = tf.keras.applications.EfficientNetB0(include_top=False)\n",
        "base_model.trainable = False\n",
        "\n",
        "# Create input layer\n",
        "inputs = layers.Input(shape=input_shape, name=\"input_layer\")\n",
        "# Add in data augmentation Sequential model as layer\n",
        "x = data_augmentation(inputs)\n",
        "# Give base_model the inputs\n",
        "x = base_model(x, training=False)\n",
        "# Pool output features of the base model\n",
        "x = layers.GlobalAveragePooling2D()(x)\n",
        "# Put a dense layer on as the output\n",
        "outputs = layers.Dense(10, activation=\"softmax\", name=\"output_layer\")(x)\n",
        "# Make a model using the inputs and outputs\n",
        "model_1 = keras.Model(inputs, outputs)\n",
        "# Compile the model\n",
        "model_1.compile(loss=\"categorical_crossentropy\", \n",
        "                optimizer=tf.keras.optimizers.Adam(), \n",
        "                metrics=[\"accuracy\"])\n",
        "# Fit the model\n",
        "history_1 = model_1.fit(train_data_1_percent, \n",
        "                        epochs=5, \n",
        "                        steps_per_epoch=len(train_data_1_percent), \n",
        "                        validation_data=test_data, \n",
        "                        validation_steps=int(0.25*len(test_data)), \n",
        "                        callbacks=[create_tensorboard_callback(\"transfer_learning\", \n",
        "                                                               \"1_percent_data_aug\")])"
      ],
      "metadata": {
        "colab": {
          "base_uri": "https://localhost:8080/"
        },
        "id": "z2r9UrnDXE3T",
        "outputId": "f848a076-fbd5-4cf8-e057-2268cedf47c3"
      },
      "execution_count": 27,
      "outputs": [
        {
          "output_type": "stream",
          "name": "stdout",
          "text": [
            "Saving TensorBoard log files to: transfer_learning/1_percent_data_aug/20220414-031706\n",
            "Epoch 1/5\n",
            "3/3 [==============================] - 11s 2s/step - loss: 2.4846 - accuracy: 0.0714 - val_loss: 2.2299 - val_accuracy: 0.1628\n",
            "Epoch 2/5\n",
            "3/3 [==============================] - 4s 2s/step - loss: 2.2071 - accuracy: 0.1571 - val_loss: 2.1194 - val_accuracy: 0.2270\n",
            "Epoch 3/5\n",
            "3/3 [==============================] - 3s 1s/step - loss: 1.9984 - accuracy: 0.3571 - val_loss: 2.0216 - val_accuracy: 0.3240\n",
            "Epoch 4/5\n",
            "3/3 [==============================] - 4s 2s/step - loss: 1.8359 - accuracy: 0.5429 - val_loss: 1.9135 - val_accuracy: 0.3914\n",
            "Epoch 5/5\n",
            "3/3 [==============================] - 3s 1s/step - loss: 1.7222 - accuracy: 0.5286 - val_loss: 1.8298 - val_accuracy: 0.4424\n"
          ]
        }
      ]
    },
    {
      "cell_type": "code",
      "source": [
        "model_1.summary()"
      ],
      "metadata": {
        "colab": {
          "base_uri": "https://localhost:8080/"
        },
        "id": "FwJdjyWUfn8l",
        "outputId": "55302f5c-c78a-496b-f08a-f22aeca3760d"
      },
      "execution_count": 28,
      "outputs": [
        {
          "output_type": "stream",
          "name": "stdout",
          "text": [
            "Model: \"model_1\"\n",
            "_________________________________________________________________\n",
            " Layer (type)                Output Shape              Param #   \n",
            "=================================================================\n",
            " input_layer (InputLayer)    [(None, 224, 224, 3)]     0         \n",
            "                                                                 \n",
            " data_augmentation (Sequenti  (None, None, None, 3)    0         \n",
            " al)                                                             \n",
            "                                                                 \n",
            " efficientnetb0 (Functional)  (None, None, None, 1280)  4049571  \n",
            "                                                                 \n",
            " global_average_pooling2d_1   (None, 1280)             0         \n",
            " (GlobalAveragePooling2D)                                        \n",
            "                                                                 \n",
            " output_layer (Dense)        (None, 10)                12810     \n",
            "                                                                 \n",
            "=================================================================\n",
            "Total params: 4,062,381\n",
            "Trainable params: 12,810\n",
            "Non-trainable params: 4,049,571\n",
            "_________________________________________________________________\n"
          ]
        }
      ]
    },
    {
      "cell_type": "code",
      "source": [
        "# Evaluate on full test set\n",
        "results_1_percent_data_aug = model_1.evaluate(test_data)\n",
        "results_1_percent_data_aug"
      ],
      "metadata": {
        "colab": {
          "base_uri": "https://localhost:8080/"
        },
        "id": "FSInzVaPgG2b",
        "outputId": "41e529ba-14cd-4ef4-b33b-c9fc2b2ec38f"
      },
      "execution_count": 29,
      "outputs": [
        {
          "output_type": "stream",
          "name": "stdout",
          "text": [
            "79/79 [==============================] - 6s 71ms/step - loss: 1.8386 - accuracy: 0.4532\n"
          ]
        },
        {
          "output_type": "execute_result",
          "data": {
            "text/plain": [
              "[1.8386386632919312, 0.45320001244544983]"
            ]
          },
          "metadata": {},
          "execution_count": 29
        }
      ]
    },
    {
      "cell_type": "code",
      "source": [
        "# Plot loss curves\n",
        "plot_loss_curves(history_1)"
      ],
      "metadata": {
        "colab": {
          "base_uri": "https://localhost:8080/",
          "height": 573
        },
        "id": "ez4G8He0gbuX",
        "outputId": "823e9356-8627-4c6c-d6b2-8c2398f6035e"
      },
      "execution_count": 30,
      "outputs": [
        {
          "output_type": "display_data",
          "data": {
            "text/plain": [
              "<Figure size 432x288 with 1 Axes>"
            ],
            "image/png": "[encoded data removed]"
          },
          "metadata": {
            "needs_background": "light"
          }
        },
        {
          "output_type": "display_data",
          "data": {
            "text/plain": [
              "<Figure size 432x288 with 1 Axes>"
            ],
            "image/png": "[encoded data removed]"
          },
          "metadata": {
            "needs_background": "light"
          }
        }
      ]
    },
    {
      "cell_type": "markdown",
      "source": [
        "## Model 2: Feature Extraction transfer learning model with 10% of data and data augmentation."
      ],
      "metadata": {
        "id": "2MU8eKMUgxDo"
      }
    },
    {
      "cell_type": "code",
      "source": [
        "# Get 10% of data\n",
        "train_data_10_percent"
      ],
      "metadata": {
        "colab": {
          "base_uri": "https://localhost:8080/"
        },
        "id": "Et9AdtnTgkvl",
        "outputId": "af2c5b4e-de27-4669-c261-ae22f14739d3"
      },
      "execution_count": 31,
      "outputs": [
        {
          "output_type": "execute_result",
          "data": {
            "text/plain": [
              "<BatchDataset element_spec=(TensorSpec(shape=(None, 224, 224, 3), dtype=tf.float32, name=None), TensorSpec(shape=(None, 10), dtype=tf.float32, name=None))>"
            ]
          },
          "metadata": {},
          "execution_count": 31
        }
      ]
    },
    {
      "cell_type": "code",
      "source": [
        "# Setup the input shape to our model\n",
        "input_shape = (224, 224, 3)\n",
        "# Create a frozen base model\n",
        "base_model = tf.keras.applications.EfficientNetB0(include_top=False)\n",
        "base_model.trainable = False\n",
        "\n",
        "# Create the inputs and outputs\n",
        "inputs = layers.Input(shape=input_shape, \n",
        "                      name=\"input_layer\")\n",
        "x = data_augmentation(inputs)\n",
        "x = base_model(x, training=False)\n",
        "x = layers.GlobalAveragePooling2D(name=\"global_average_pooling_2D\")(x)\n",
        "outputs = layers.Dense(10, activation=\"softmax\", name=\"output_layer\")(x)\n",
        "\n",
        "# Combine inputs and outputs\n",
        "model_2 = keras.Model(inputs, outputs)\n",
        "# Compile\n",
        "model_2.compile(loss=\"categorical_crossentropy\", \n",
        "                optimizer=tf.keras.optimizers.Adam(), \n",
        "                metrics=[\"accuracy\"])"
      ],
      "metadata": {
        "id": "b5xT0b9WhU1j"
      },
      "execution_count": 32,
      "outputs": []
    },
    {
      "cell_type": "markdown",
      "source": [
        "### Creating a callbacks\n",
        "\n",
        "The ModelCheckpoint callback intermediately saves our model(the full model or just the weights) during training. This is useful so we can come and start off where we left off."
      ],
      "metadata": {
        "id": "s7Vs-0hLvvcx"
      }
    },
    {
      "cell_type": "code",
      "source": [
        "# Set checkpoint path\n",
        "checkpoint_path = \"ten_percent_model_checkpoints_weights/checkpoint.ckpt\"\n",
        "# Create a Model Checkpoint callback that saves the model's weights only.\n",
        "checkpoint_callback = tf.keras.callbacks.ModelCheckpoint(filepath=checkpoint_path, \n",
        "                                                         save_weights_only=True, \n",
        "                                                         save_best_only=False, \n",
        "                                                         save_freq=\"epoch\", \n",
        "                                                         verbose=1)"
      ],
      "metadata": {
        "id": "WMo3KLwQi7os"
      },
      "execution_count": 33,
      "outputs": []
    },
    {
      "cell_type": "code",
      "source": [
        "# Fit the model\n",
        "initial_epochs = 5\n",
        "history_2 = model_2.fit(train_data_10_percent, \n",
        "                        epochs=initial_epochs, \n",
        "                        validation_data=test_data, \n",
        "                        validation_steps=int(0.25*len(test_data)), \n",
        "                        callbacks=[create_tensorboard_callback(dir_name=\"transfer_learning\", \n",
        "                                                               experiment_name=\"10_percent_data_aug\"), \n",
        "                                   checkpoint_callback])"
      ],
      "metadata": {
        "colab": {
          "base_uri": "https://localhost:8080/"
        },
        "id": "pOQ4Z1TYx0US",
        "outputId": "0c4e8168-513e-4bed-8e3e-5af961f45c00"
      },
      "execution_count": 34,
      "outputs": [
        {
          "output_type": "stream",
          "name": "stdout",
          "text": [
            "Saving TensorBoard log files to: transfer_learning/10_percent_data_aug/20220414-031749\n",
            "Epoch 1/5\n",
            "24/24 [==============================] - ETA: 0s - loss: 1.9821 - accuracy: 0.3600\n",
            "Epoch 1: saving model to ten_percent_model_checkpoints_weights/checkpoint.ckpt\n",
            "24/24 [==============================] - 19s 560ms/step - loss: 1.9821 - accuracy: 0.3600 - val_loss: 1.4567 - val_accuracy: 0.6678\n",
            "Epoch 2/5\n",
            "24/24 [==============================] - ETA: 0s - loss: 1.3559 - accuracy: 0.6560\n",
            "Epoch 2: saving model to ten_percent_model_checkpoints_weights/checkpoint.ckpt\n",
            "24/24 [==============================] - 13s 546ms/step - loss: 1.3559 - accuracy: 0.6560 - val_loss: 1.0580 - val_accuracy: 0.7516\n",
            "Epoch 3/5\n",
            "24/24 [==============================] - ETA: 0s - loss: 1.0320 - accuracy: 0.7520\n",
            "Epoch 3: saving model to ten_percent_model_checkpoints_weights/checkpoint.ckpt\n",
            "24/24 [==============================] - 10s 394ms/step - loss: 1.0320 - accuracy: 0.7520 - val_loss: 0.8491 - val_accuracy: 0.8076\n",
            "Epoch 4/5\n",
            "24/24 [==============================] - ETA: 0s - loss: 0.8879 - accuracy: 0.7827\n",
            "Epoch 4: saving model to ten_percent_model_checkpoints_weights/checkpoint.ckpt\n",
            "24/24 [==============================] - 10s 388ms/step - loss: 0.8879 - accuracy: 0.7827 - val_loss: 0.7713 - val_accuracy: 0.7993\n",
            "Epoch 5/5\n",
            "24/24 [==============================] - ETA: 0s - loss: 0.7794 - accuracy: 0.8187\n",
            "Epoch 5: saving model to ten_percent_model_checkpoints_weights/checkpoint.ckpt\n",
            "24/24 [==============================] - 8s 319ms/step - loss: 0.7794 - accuracy: 0.8187 - val_loss: 0.6873 - val_accuracy: 0.8191\n"
          ]
        }
      ]
    },
    {
      "cell_type": "code",
      "source": [
        "results_2 = model_2.evaluate(test_data)"
      ],
      "metadata": {
        "colab": {
          "base_uri": "https://localhost:8080/"
        },
        "id": "lvZ-cyRTynLz",
        "outputId": "f66c30d5-8728-4fd8-f739-772254c45db2"
      },
      "execution_count": 35,
      "outputs": [
        {
          "output_type": "stream",
          "name": "stdout",
          "text": [
            "79/79 [==============================] - 6s 71ms/step - loss: 0.6855 - accuracy: 0.8104\n"
          ]
        }
      ]
    },
    {
      "cell_type": "code",
      "source": [
        "# Plot model loss curves\n",
        "plot_loss_curves(history_2)"
      ],
      "metadata": {
        "colab": {
          "base_uri": "https://localhost:8080/",
          "height": 573
        },
        "id": "F4O0N7iTy24m",
        "outputId": "50d17661-6369-4516-9362-9b4455f0bf6f"
      },
      "execution_count": 36,
      "outputs": [
        {
          "output_type": "display_data",
          "data": {
            "text/plain": [
              "<Figure size 432x288 with 1 Axes>"
            ],
            "image/png": "[encoded data removed]"
          },
          "metadata": {
            "needs_background": "light"
          }
        },
        {
          "output_type": "display_data",
          "data": {
            "text/plain": [
              "<Figure size 432x288 with 1 Axes>"
            ],
            "image/png": "[encoded data removed]"
          },
          "metadata": {
            "needs_background": "light"
          }
        }
      ]
    },
    {
      "cell_type": "markdown",
      "source": [
        "### Loading in checkpoint weights\n",
        "\n",
        "Loading in checkpoint weights returns a model to a specific checkpoint."
      ],
      "metadata": {
        "id": "hcTKhHElzqnc"
      }
    },
    {
      "cell_type": "code",
      "source": [
        "model_2.load_weights(checkpoint_path)"
      ],
      "metadata": {
        "colab": {
          "base_uri": "https://localhost:8080/"
        },
        "id": "wFNzScPzzX1Y",
        "outputId": "38ed0bf7-2fc0-4c0c-bc6b-3273eb7ba9df"
      },
      "execution_count": 37,
      "outputs": [
        {
          "output_type": "execute_result",
          "data": {
            "text/plain": [
              "<tensorflow.python.training.tracking.util.CheckpointLoadStatus at 0x7f3cb475ded0>"
            ]
          },
          "metadata": {},
          "execution_count": 37
        }
      ]
    },
    {
      "cell_type": "code",
      "source": [
        "# Evaluate model_2 with loaded weights\n",
        "loaded_weights_model_results = model_2.evaluate(test_data)"
      ],
      "metadata": {
        "colab": {
          "base_uri": "https://localhost:8080/"
        },
        "id": "h8LLxIok1h8T",
        "outputId": "7f680483-f33d-4161-f91e-5b7b0386b7f9"
      },
      "execution_count": 38,
      "outputs": [
        {
          "output_type": "stream",
          "name": "stdout",
          "text": [
            "79/79 [==============================] - 6s 71ms/step - loss: 0.6855 - accuracy: 0.8104\n"
          ]
        }
      ]
    },
    {
      "cell_type": "code",
      "source": [
        "# Check to see if loaded model results are very close to our previous non-loaded model\n",
        "import numpy as np\n",
        "np.isclose(np.array(results_2), np.array(loaded_weights_model_results))"
      ],
      "metadata": {
        "colab": {
          "base_uri": "https://localhost:8080/"
        },
        "id": "SMQu3f5G15pT",
        "outputId": "cc43dda1-799e-4a81-c556-ac7eff34775f"
      },
      "execution_count": 39,
      "outputs": [
        {
          "output_type": "execute_result",
          "data": {
            "text/plain": [
              "array([ True,  True])"
            ]
          },
          "metadata": {},
          "execution_count": 39
        }
      ]
    },
    {
      "cell_type": "markdown",
      "source": [
        "## Model 3: Fine-tuning an existing model on 10% of the data.\n",
        "\n",
        "- Fine-tuning usually works best after training a feature extraction model for a few epochs with large amounts of custom data."
      ],
      "metadata": {
        "id": "13nqdR8f2iow"
      }
    },
    {
      "cell_type": "code",
      "source": [
        "# Layers in our loaded model\n",
        "model_2.layers"
      ],
      "metadata": {
        "colab": {
          "base_uri": "https://localhost:8080/"
        },
        "id": "utIAWAGq2XYA",
        "outputId": "ad7c4018-fe12-4abd-841e-3a22a5fef48c"
      },
      "execution_count": 40,
      "outputs": [
        {
          "output_type": "execute_result",
          "data": {
            "text/plain": [
              "[<keras.engine.input_layer.InputLayer at 0x7f3dc9b8b690>,\n",
              " <keras.engine.sequential.Sequential at 0x7f3dc84ee790>,\n",
              " <keras.engine.functional.Functional at 0x7f3dc9619690>,\n",
              " <keras.layers.pooling.GlobalAveragePooling2D at 0x7f3dc96835d0>,\n",
              " <keras.layers.core.dense.Dense at 0x7f3dc9701810>]"
            ]
          },
          "metadata": {},
          "execution_count": 40
        }
      ]
    },
    {
      "cell_type": "code",
      "source": [
        "# Are these layers trainable?\n",
        "for layer in model_2.layers:\n",
        "  print(layer, layer.trainable)"
      ],
      "metadata": {
        "colab": {
          "base_uri": "https://localhost:8080/"
        },
        "id": "iK7dZFTu8voM",
        "outputId": "ddfc0098-f259-4aed-f3be-6816a549a2a2"
      },
      "execution_count": 41,
      "outputs": [
        {
          "output_type": "stream",
          "name": "stdout",
          "text": [
            "<keras.engine.input_layer.InputLayer object at 0x7f3dc9b8b690> True\n",
            "<keras.engine.sequential.Sequential object at 0x7f3dc84ee790> True\n",
            "<keras.engine.functional.Functional object at 0x7f3dc9619690> False\n",
            "<keras.layers.pooling.GlobalAveragePooling2D object at 0x7f3dc96835d0> True\n",
            "<keras.layers.core.dense.Dense object at 0x7f3dc9701810> True\n"
          ]
        }
      ]
    },
    {
      "cell_type": "code",
      "source": [
        "for i, layer in enumerate(model_2.layers[2].layers):\n",
        "  print(i, layer.name, layer.trainable)"
      ],
      "metadata": {
        "colab": {
          "base_uri": "https://localhost:8080/"
        },
        "id": "uAWthKvF84LR",
        "outputId": "febbc336-de4d-4461-9f52-c6a079bbd0f3"
      },
      "execution_count": 42,
      "outputs": [
        {
          "output_type": "stream",
          "name": "stdout",
          "text": [
            "0 input_3 False\n",
            "1 rescaling_2 False\n",
            "2 normalization_2 False\n",
            "3 stem_conv_pad False\n",
            "4 stem_conv False\n",
            "5 stem_bn False\n",
            "6 stem_activation False\n",
            "7 block1a_dwconv False\n",
            "8 block1a_bn False\n",
            "9 block1a_activation False\n",
            "10 block1a_se_squeeze False\n",
            "11 block1a_se_reshape False\n",
            "12 block1a_se_reduce False\n",
            "13 block1a_se_expand False\n",
            "14 block1a_se_excite False\n",
            "15 block1a_project_conv False\n",
            "16 block1a_project_bn False\n",
            "17 block2a_expand_conv False\n",
            "18 block2a_expand_bn False\n",
            "19 block2a_expand_activation False\n",
            "20 block2a_dwconv_pad False\n",
            "21 block2a_dwconv False\n",
            "22 block2a_bn False\n",
            "23 block2a_activation False\n",
            "24 block2a_se_squeeze False\n",
            "25 block2a_se_reshape False\n",
            "26 block2a_se_reduce False\n",
            "27 block2a_se_expand False\n",
            "28 block2a_se_excite False\n",
            "29 block2a_project_conv False\n",
            "30 block2a_project_bn False\n",
            "31 block2b_expand_conv False\n",
            "32 block2b_expand_bn False\n",
            "33 block2b_expand_activation False\n",
            "34 block2b_dwconv False\n",
            "35 block2b_bn False\n",
            "36 block2b_activation False\n",
            "37 block2b_se_squeeze False\n",
            "38 block2b_se_reshape False\n",
            "39 block2b_se_reduce False\n",
            "40 block2b_se_expand False\n",
            "41 block2b_se_excite False\n",
            "42 block2b_project_conv False\n",
            "43 block2b_project_bn False\n",
            "44 block2b_drop False\n",
            "45 block2b_add False\n",
            "46 block3a_expand_conv False\n",
            "47 block3a_expand_bn False\n",
            "48 block3a_expand_activation False\n",
            "49 block3a_dwconv_pad False\n",
            "50 block3a_dwconv False\n",
            "51 block3a_bn False\n",
            "52 block3a_activation False\n",
            "53 block3a_se_squeeze False\n",
            "54 block3a_se_reshape False\n",
            "55 block3a_se_reduce False\n",
            "56 block3a_se_expand False\n",
            "57 block3a_se_excite False\n",
            "58 block3a_project_conv False\n",
            "59 block3a_project_bn False\n",
            "60 block3b_expand_conv False\n",
            "61 block3b_expand_bn False\n",
            "62 block3b_expand_activation False\n",
            "63 block3b_dwconv False\n",
            "64 block3b_bn False\n",
            "65 block3b_activation False\n",
            "66 block3b_se_squeeze False\n",
            "67 block3b_se_reshape False\n",
            "68 block3b_se_reduce False\n",
            "69 block3b_se_expand False\n",
            "70 block3b_se_excite False\n",
            "71 block3b_project_conv False\n",
            "72 block3b_project_bn False\n",
            "73 block3b_drop False\n",
            "74 block3b_add False\n",
            "75 block4a_expand_conv False\n",
            "76 block4a_expand_bn False\n",
            "77 block4a_expand_activation False\n",
            "78 block4a_dwconv_pad False\n",
            "79 block4a_dwconv False\n",
            "80 block4a_bn False\n",
            "81 block4a_activation False\n",
            "82 block4a_se_squeeze False\n",
            "83 block4a_se_reshape False\n",
            "84 block4a_se_reduce False\n",
            "85 block4a_se_expand False\n",
            "86 block4a_se_excite False\n",
            "87 block4a_project_conv False\n",
            "88 block4a_project_bn False\n",
            "89 block4b_expand_conv False\n",
            "90 block4b_expand_bn False\n",
            "91 block4b_expand_activation False\n",
            "92 block4b_dwconv False\n",
            "93 block4b_bn False\n",
            "94 block4b_activation False\n",
            "95 block4b_se_squeeze False\n",
            "96 block4b_se_reshape False\n",
            "97 block4b_se_reduce False\n",
            "98 block4b_se_expand False\n",
            "99 block4b_se_excite False\n",
            "100 block4b_project_conv False\n",
            "101 block4b_project_bn False\n",
            "102 block4b_drop False\n",
            "103 block4b_add False\n",
            "104 block4c_expand_conv False\n",
            "105 block4c_expand_bn False\n",
            "106 block4c_expand_activation False\n",
            "107 block4c_dwconv False\n",
            "108 block4c_bn False\n",
            "109 block4c_activation False\n",
            "110 block4c_se_squeeze False\n",
            "111 block4c_se_reshape False\n",
            "112 block4c_se_reduce False\n",
            "113 block4c_se_expand False\n",
            "114 block4c_se_excite False\n",
            "115 block4c_project_conv False\n",
            "116 block4c_project_bn False\n",
            "117 block4c_drop False\n",
            "118 block4c_add False\n",
            "119 block5a_expand_conv False\n",
            "120 block5a_expand_bn False\n",
            "121 block5a_expand_activation False\n",
            "122 block5a_dwconv False\n",
            "123 block5a_bn False\n",
            "124 block5a_activation False\n",
            "125 block5a_se_squeeze False\n",
            "126 block5a_se_reshape False\n",
            "127 block5a_se_reduce False\n",
            "128 block5a_se_expand False\n",
            "129 block5a_se_excite False\n",
            "130 block5a_project_conv False\n",
            "131 block5a_project_bn False\n",
            "132 block5b_expand_conv False\n",
            "133 block5b_expand_bn False\n",
            "134 block5b_expand_activation False\n",
            "135 block5b_dwconv False\n",
            "136 block5b_bn False\n",
            "137 block5b_activation False\n",
            "138 block5b_se_squeeze False\n",
            "139 block5b_se_reshape False\n",
            "140 block5b_se_reduce False\n",
            "141 block5b_se_expand False\n",
            "142 block5b_se_excite False\n",
            "143 block5b_project_conv False\n",
            "144 block5b_project_bn False\n",
            "145 block5b_drop False\n",
            "146 block5b_add False\n",
            "147 block5c_expand_conv False\n",
            "148 block5c_expand_bn False\n",
            "149 block5c_expand_activation False\n",
            "150 block5c_dwconv False\n",
            "151 block5c_bn False\n",
            "152 block5c_activation False\n",
            "153 block5c_se_squeeze False\n",
            "154 block5c_se_reshape False\n",
            "155 block5c_se_reduce False\n",
            "156 block5c_se_expand False\n",
            "157 block5c_se_excite False\n",
            "158 block5c_project_conv False\n",
            "159 block5c_project_bn False\n",
            "160 block5c_drop False\n",
            "161 block5c_add False\n",
            "162 block6a_expand_conv False\n",
            "163 block6a_expand_bn False\n",
            "164 block6a_expand_activation False\n",
            "165 block6a_dwconv_pad False\n",
            "166 block6a_dwconv False\n",
            "167 block6a_bn False\n",
            "168 block6a_activation False\n",
            "169 block6a_se_squeeze False\n",
            "170 block6a_se_reshape False\n",
            "171 block6a_se_reduce False\n",
            "172 block6a_se_expand False\n",
            "173 block6a_se_excite False\n",
            "174 block6a_project_conv False\n",
            "175 block6a_project_bn False\n",
            "176 block6b_expand_conv False\n",
            "177 block6b_expand_bn False\n",
            "178 block6b_expand_activation False\n",
            "179 block6b_dwconv False\n",
            "180 block6b_bn False\n",
            "181 block6b_activation False\n",
            "182 block6b_se_squeeze False\n",
            "183 block6b_se_reshape False\n",
            "184 block6b_se_reduce False\n",
            "185 block6b_se_expand False\n",
            "186 block6b_se_excite False\n",
            "187 block6b_project_conv False\n",
            "188 block6b_project_bn False\n",
            "189 block6b_drop False\n",
            "190 block6b_add False\n",
            "191 block6c_expand_conv False\n",
            "192 block6c_expand_bn False\n",
            "193 block6c_expand_activation False\n",
            "194 block6c_dwconv False\n",
            "195 block6c_bn False\n",
            "196 block6c_activation False\n",
            "197 block6c_se_squeeze False\n",
            "198 block6c_se_reshape False\n",
            "199 block6c_se_reduce False\n",
            "200 block6c_se_expand False\n",
            "201 block6c_se_excite False\n",
            "202 block6c_project_conv False\n",
            "203 block6c_project_bn False\n",
            "204 block6c_drop False\n",
            "205 block6c_add False\n",
            "206 block6d_expand_conv False\n",
            "207 block6d_expand_bn False\n",
            "208 block6d_expand_activation False\n",
            "209 block6d_dwconv False\n",
            "210 block6d_bn False\n",
            "211 block6d_activation False\n",
            "212 block6d_se_squeeze False\n",
            "213 block6d_se_reshape False\n",
            "214 block6d_se_reduce False\n",
            "215 block6d_se_expand False\n",
            "216 block6d_se_excite False\n",
            "217 block6d_project_conv False\n",
            "218 block6d_project_bn False\n",
            "219 block6d_drop False\n",
            "220 block6d_add False\n",
            "221 block7a_expand_conv False\n",
            "222 block7a_expand_bn False\n",
            "223 block7a_expand_activation False\n",
            "224 block7a_dwconv False\n",
            "225 block7a_bn False\n",
            "226 block7a_activation False\n",
            "227 block7a_se_squeeze False\n",
            "228 block7a_se_reshape False\n",
            "229 block7a_se_reduce False\n",
            "230 block7a_se_expand False\n",
            "231 block7a_se_excite False\n",
            "232 block7a_project_conv False\n",
            "233 block7a_project_bn False\n",
            "234 top_conv False\n",
            "235 top_bn False\n",
            "236 top_activation False\n"
          ]
        }
      ]
    },
    {
      "cell_type": "code",
      "source": [
        "# How many trainable variables are in our base model?\n",
        "print(len(model_2.layers[2].trainable_variables))"
      ],
      "metadata": {
        "colab": {
          "base_uri": "https://localhost:8080/"
        },
        "id": "mTUm0S3x9XfT",
        "outputId": "9052b942-2217-4f66-b8f4-19483dc040af"
      },
      "execution_count": 43,
      "outputs": [
        {
          "output_type": "stream",
          "name": "stdout",
          "text": [
            "0\n"
          ]
        }
      ]
    },
    {
      "cell_type": "code",
      "source": [
        "# To begin fine-tuning, let's start by setting last 10 layers of our base model, true\n",
        "base_model.trainable = True\n",
        "# Freeze all layers except for the last 10\n",
        "for layer in base_model.layers[:-10]:\n",
        "  layer.trainable = False\n",
        "\n",
        "# Recompile our model\n",
        "model_2.compile(loss=\"categorical_crossentropy\", \n",
        "                optimizer=tf.keras.optimizers.Adam(lr=0.0001), \n",
        "                metrics=[\"accuracy\"])"
      ],
      "metadata": {
        "colab": {
          "base_uri": "https://localhost:8080/"
        },
        "id": "i1DWfB3m9uw1",
        "outputId": "5e3711b7-cd1d-4879-c3d1-a0e1962543c1"
      },
      "execution_count": 44,
      "outputs": [
        {
          "output_type": "stream",
          "name": "stderr",
          "text": [
            "/usr/local/lib/python3.7/dist-packages/keras/optimizer_v2/adam.py:105: UserWarning: The `lr` argument is deprecated, use `learning_rate` instead.\n",
            "  super(Adam, self).__init__(name, **kwargs)\n"
          ]
        }
      ]
    },
    {
      "cell_type": "code",
      "source": [
        "# Check which layers are trainable\n",
        "for layer_number, layers in enumerate(model_2.layers[2].layers):\n",
        "  print(layer_number, layer.name, layer.trainable)"
      ],
      "metadata": {
        "colab": {
          "base_uri": "https://localhost:8080/"
        },
        "id": "KrWFfMre_faJ",
        "outputId": "8bef8677-a28f-4561-e86c-6d13763043d3"
      },
      "execution_count": 45,
      "outputs": [
        {
          "output_type": "stream",
          "name": "stdout",
          "text": [
            "0 block7a_activation False\n",
            "1 block7a_activation False\n",
            "2 block7a_activation False\n",
            "3 block7a_activation False\n",
            "4 block7a_activation False\n",
            "5 block7a_activation False\n",
            "6 block7a_activation False\n",
            "7 block7a_activation False\n",
            "8 block7a_activation False\n",
            "9 block7a_activation False\n",
            "10 block7a_activation False\n",
            "11 block7a_activation False\n",
            "12 block7a_activation False\n",
            "13 block7a_activation False\n",
            "14 block7a_activation False\n",
            "15 block7a_activation False\n",
            "16 block7a_activation False\n",
            "17 block7a_activation False\n",
            "18 block7a_activation False\n",
            "19 block7a_activation False\n",
            "20 block7a_activation False\n",
            "21 block7a_activation False\n",
            "22 block7a_activation False\n",
            "23 block7a_activation False\n",
            "24 block7a_activation False\n",
            "25 block7a_activation False\n",
            "26 block7a_activation False\n",
            "27 block7a_activation False\n",
            "28 block7a_activation False\n",
            "29 block7a_activation False\n",
            "30 block7a_activation False\n",
            "31 block7a_activation False\n",
            "32 block7a_activation False\n",
            "33 block7a_activation False\n",
            "34 block7a_activation False\n",
            "35 block7a_activation False\n",
            "36 block7a_activation False\n",
            "37 block7a_activation False\n",
            "38 block7a_activation False\n",
            "39 block7a_activation False\n",
            "40 block7a_activation False\n",
            "41 block7a_activation False\n",
            "42 block7a_activation False\n",
            "43 block7a_activation False\n",
            "44 block7a_activation False\n",
            "45 block7a_activation False\n",
            "46 block7a_activation False\n",
            "47 block7a_activation False\n",
            "48 block7a_activation False\n",
            "49 block7a_activation False\n",
            "50 block7a_activation False\n",
            "51 block7a_activation False\n",
            "52 block7a_activation False\n",
            "53 block7a_activation False\n",
            "54 block7a_activation False\n",
            "55 block7a_activation False\n",
            "56 block7a_activation False\n",
            "57 block7a_activation False\n",
            "58 block7a_activation False\n",
            "59 block7a_activation False\n",
            "60 block7a_activation False\n",
            "61 block7a_activation False\n",
            "62 block7a_activation False\n",
            "63 block7a_activation False\n",
            "64 block7a_activation False\n",
            "65 block7a_activation False\n",
            "66 block7a_activation False\n",
            "67 block7a_activation False\n",
            "68 block7a_activation False\n",
            "69 block7a_activation False\n",
            "70 block7a_activation False\n",
            "71 block7a_activation False\n",
            "72 block7a_activation False\n",
            "73 block7a_activation False\n",
            "74 block7a_activation False\n",
            "75 block7a_activation False\n",
            "76 block7a_activation False\n",
            "77 block7a_activation False\n",
            "78 block7a_activation False\n",
            "79 block7a_activation False\n",
            "80 block7a_activation False\n",
            "81 block7a_activation False\n",
            "82 block7a_activation False\n",
            "83 block7a_activation False\n",
            "84 block7a_activation False\n",
            "85 block7a_activation False\n",
            "86 block7a_activation False\n",
            "87 block7a_activation False\n",
            "88 block7a_activation False\n",
            "89 block7a_activation False\n",
            "90 block7a_activation False\n",
            "91 block7a_activation False\n",
            "92 block7a_activation False\n",
            "93 block7a_activation False\n",
            "94 block7a_activation False\n",
            "95 block7a_activation False\n",
            "96 block7a_activation False\n",
            "97 block7a_activation False\n",
            "98 block7a_activation False\n",
            "99 block7a_activation False\n",
            "100 block7a_activation False\n",
            "101 block7a_activation False\n",
            "102 block7a_activation False\n",
            "103 block7a_activation False\n",
            "104 block7a_activation False\n",
            "105 block7a_activation False\n",
            "106 block7a_activation False\n",
            "107 block7a_activation False\n",
            "108 block7a_activation False\n",
            "109 block7a_activation False\n",
            "110 block7a_activation False\n",
            "111 block7a_activation False\n",
            "112 block7a_activation False\n",
            "113 block7a_activation False\n",
            "114 block7a_activation False\n",
            "115 block7a_activation False\n",
            "116 block7a_activation False\n",
            "117 block7a_activation False\n",
            "118 block7a_activation False\n",
            "119 block7a_activation False\n",
            "120 block7a_activation False\n",
            "121 block7a_activation False\n",
            "122 block7a_activation False\n",
            "123 block7a_activation False\n",
            "124 block7a_activation False\n",
            "125 block7a_activation False\n",
            "126 block7a_activation False\n",
            "127 block7a_activation False\n",
            "128 block7a_activation False\n",
            "129 block7a_activation False\n",
            "130 block7a_activation False\n",
            "131 block7a_activation False\n",
            "132 block7a_activation False\n",
            "133 block7a_activation False\n",
            "134 block7a_activation False\n",
            "135 block7a_activation False\n",
            "136 block7a_activation False\n",
            "137 block7a_activation False\n",
            "138 block7a_activation False\n",
            "139 block7a_activation False\n",
            "140 block7a_activation False\n",
            "141 block7a_activation False\n",
            "142 block7a_activation False\n",
            "143 block7a_activation False\n",
            "144 block7a_activation False\n",
            "145 block7a_activation False\n",
            "146 block7a_activation False\n",
            "147 block7a_activation False\n",
            "148 block7a_activation False\n",
            "149 block7a_activation False\n",
            "150 block7a_activation False\n",
            "151 block7a_activation False\n",
            "152 block7a_activation False\n",
            "153 block7a_activation False\n",
            "154 block7a_activation False\n",
            "155 block7a_activation False\n",
            "156 block7a_activation False\n",
            "157 block7a_activation False\n",
            "158 block7a_activation False\n",
            "159 block7a_activation False\n",
            "160 block7a_activation False\n",
            "161 block7a_activation False\n",
            "162 block7a_activation False\n",
            "163 block7a_activation False\n",
            "164 block7a_activation False\n",
            "165 block7a_activation False\n",
            "166 block7a_activation False\n",
            "167 block7a_activation False\n",
            "168 block7a_activation False\n",
            "169 block7a_activation False\n",
            "170 block7a_activation False\n",
            "171 block7a_activation False\n",
            "172 block7a_activation False\n",
            "173 block7a_activation False\n",
            "174 block7a_activation False\n",
            "175 block7a_activation False\n",
            "176 block7a_activation False\n",
            "177 block7a_activation False\n",
            "178 block7a_activation False\n",
            "179 block7a_activation False\n",
            "180 block7a_activation False\n",
            "181 block7a_activation False\n",
            "182 block7a_activation False\n",
            "183 block7a_activation False\n",
            "184 block7a_activation False\n",
            "185 block7a_activation False\n",
            "186 block7a_activation False\n",
            "187 block7a_activation False\n",
            "188 block7a_activation False\n",
            "189 block7a_activation False\n",
            "190 block7a_activation False\n",
            "191 block7a_activation False\n",
            "192 block7a_activation False\n",
            "193 block7a_activation False\n",
            "194 block7a_activation False\n",
            "195 block7a_activation False\n",
            "196 block7a_activation False\n",
            "197 block7a_activation False\n",
            "198 block7a_activation False\n",
            "199 block7a_activation False\n",
            "200 block7a_activation False\n",
            "201 block7a_activation False\n",
            "202 block7a_activation False\n",
            "203 block7a_activation False\n",
            "204 block7a_activation False\n",
            "205 block7a_activation False\n",
            "206 block7a_activation False\n",
            "207 block7a_activation False\n",
            "208 block7a_activation False\n",
            "209 block7a_activation False\n",
            "210 block7a_activation False\n",
            "211 block7a_activation False\n",
            "212 block7a_activation False\n",
            "213 block7a_activation False\n",
            "214 block7a_activation False\n",
            "215 block7a_activation False\n",
            "216 block7a_activation False\n",
            "217 block7a_activation False\n",
            "218 block7a_activation False\n",
            "219 block7a_activation False\n",
            "220 block7a_activation False\n",
            "221 block7a_activation False\n",
            "222 block7a_activation False\n",
            "223 block7a_activation False\n",
            "224 block7a_activation False\n",
            "225 block7a_activation False\n",
            "226 block7a_activation False\n",
            "227 block7a_activation False\n",
            "228 block7a_activation False\n",
            "229 block7a_activation False\n",
            "230 block7a_activation False\n",
            "231 block7a_activation False\n",
            "232 block7a_activation False\n",
            "233 block7a_activation False\n",
            "234 block7a_activation False\n",
            "235 block7a_activation False\n",
            "236 block7a_activation False\n"
          ]
        }
      ]
    },
    {
      "cell_type": "code",
      "source": [
        "print(len(model_2.trainable_variables))"
      ],
      "metadata": {
        "colab": {
          "base_uri": "https://localhost:8080/"
        },
        "id": "ITp1DaLi_uBj",
        "outputId": "35e2bf2e-ed19-4472-ceab-aecac21be06a"
      },
      "execution_count": 46,
      "outputs": [
        {
          "output_type": "stream",
          "name": "stdout",
          "text": [
            "12\n"
          ]
        }
      ]
    },
    {
      "cell_type": "code",
      "source": [
        "# Fine tune for another 5 epochs\n",
        "fine_tune_epochs = initial_epochs + 5\n",
        "# Refit the model\n",
        "history_2b = model_2.fit(train_data_10_percent, \n",
        "                         epochs=fine_tune_epochs, \n",
        "                         validation_data=test_data, \n",
        "                         validation_steps=int(0.25*len(test_data)), \n",
        "                         initial_epoch=history_2.epoch[-1], \n",
        "                         callbacks=[create_tensorboard_callback(dir_name=\"transfer_learning\",                                                                 \n",
        "                                                                experiment_name=\"10_percent_fine_tune_last_10\")])"
      ],
      "metadata": {
        "colab": {
          "base_uri": "https://localhost:8080/"
        },
        "id": "yHuplIuWFcg5",
        "outputId": "72b01904-ac88-4fbd-f25f-fcbd08464178"
      },
      "execution_count": 47,
      "outputs": [
        {
          "output_type": "stream",
          "name": "stdout",
          "text": [
            "Saving TensorBoard log files to: transfer_learning/10_percent_fine_tune_last_10/20220414-032407\n",
            "Epoch 5/10\n",
            "24/24 [==============================] - 20s 465ms/step - loss: 0.6678 - accuracy: 0.8120 - val_loss: 0.5565 - val_accuracy: 0.8141\n",
            "Epoch 6/10\n",
            "24/24 [==============================] - 9s 359ms/step - loss: 0.5355 - accuracy: 0.8307 - val_loss: 0.5225 - val_accuracy: 0.8322\n",
            "Epoch 7/10\n",
            "24/24 [==============================] - 8s 317ms/step - loss: 0.4737 - accuracy: 0.8680 - val_loss: 0.5102 - val_accuracy: 0.8174\n",
            "Epoch 8/10\n",
            "24/24 [==============================] - 8s 332ms/step - loss: 0.4408 - accuracy: 0.8613 - val_loss: 0.5639 - val_accuracy: 0.8010\n",
            "Epoch 9/10\n",
            "24/24 [==============================] - 8s 340ms/step - loss: 0.3960 - accuracy: 0.8787 - val_loss: 0.5543 - val_accuracy: 0.8125\n",
            "Epoch 10/10\n",
            "24/24 [==============================] - 9s 343ms/step - loss: 0.3474 - accuracy: 0.9040 - val_loss: 0.5453 - val_accuracy: 0.8224\n"
          ]
        }
      ]
    },
    {
      "cell_type": "code",
      "source": [
        "results_2b = model_2.evaluate(test_data)"
      ],
      "metadata": {
        "colab": {
          "base_uri": "https://localhost:8080/"
        },
        "id": "Txz0HQFlGXsa",
        "outputId": "d85ba098-9862-42f8-8ba5-6b72596892a0"
      },
      "execution_count": 48,
      "outputs": [
        {
          "output_type": "stream",
          "name": "stdout",
          "text": [
            "79/79 [==============================] - 7s 76ms/step - loss: 0.5036 - accuracy: 0.8328\n"
          ]
        }
      ]
    },
    {
      "cell_type": "code",
      "source": [
        "plot_loss_curves(history_2b)"
      ],
      "metadata": {
        "colab": {
          "base_uri": "https://localhost:8080/",
          "height": 573
        },
        "id": "1OGKSo26G0ai",
        "outputId": "0329b60b-adbd-4b6f-c919-04e9d8e7e29a"
      },
      "execution_count": 49,
      "outputs": [
        {
          "output_type": "display_data",
          "data": {
            "text/plain": [
              "<Figure size 432x288 with 1 Axes>"
            ],
            "image/png": "[encoded data removed]"
          },
          "metadata": {
            "needs_background": "light"
          }
        },
        {
          "output_type": "display_data",
          "data": {
            "text/plain": [
              "<Figure size 432x288 with 1 Axes>"
            ],
            "image/png": "[encoded data removed]"
          },
          "metadata": {
            "needs_background": "light"
          }
        }
      ]
    },
    {
      "cell_type": "markdown",
      "source": [
        "- The `plot_loss_curve` function works great for models which have only been fit once, however we want something to compare one series of running `fit()` with another."
      ],
      "metadata": {
        "id": "j6gt05pmKoYu"
      }
    },
    {
      "cell_type": "code",
      "source": [
        "# Create a function to compare training history.\n",
        "def compare_history(original_history, new_history, initial_epochs=5):\n",
        "  \"\"\"\n",
        "  Compare two TensorFlow History objects\n",
        "  \"\"\"\n",
        "  # Get original history measurements\n",
        "  acc = original_history.history[\"accuracy\"]\n",
        "  loss = original_history.history[\"loss\"]\n",
        "\n",
        "  val_acc = original_history.history[\"val_accuracy\"]\n",
        "  val_loss = original_history.history[\"val_loss\"]\n",
        "\n",
        "  # Combine original history\n",
        "  total_acc = acc + new_history.history[\"accuracy\"]\n",
        "  total_loss = loss + new_history.history[\"loss\"]\n",
        "\n",
        "  total_val_acc = val_acc + new_history.history[\"val_accuracy\"]\n",
        "  total_val_loss = val_loss + new_history.history[\"val_loss\"]\n",
        "\n",
        "  # Make Plots for accuracy\n",
        "  plt.figure(figsize=(10, 7))\n",
        "  plt.subplot(2, 1, 1)\n",
        "  plt.plot(total_acc, label=\"Training accuracy\")\n",
        "  plt.plot(total_val_acc, label=\"Val Accuracy\")\n",
        "  plt.plot([initial_epochs-1, initial_epochs-1], plt.ylim(), label=\"Start Fine Tuning\")\n",
        "  plt.legend(loc=\"lower right\")\n",
        "  plt.title(\"Training and validation accuracy\")\n",
        "\n",
        "  # Make Plots for loss\n",
        "  plt.figure(figsize=(10, 7))\n",
        "  plt.subplot(2, 1, 1)\n",
        "  plt.plot(total_loss, label=\"Training loss\")\n",
        "  plt.plot(total_val_loss, label=\"Val loss\")\n",
        "  plt.plot([initial_epochs-1, initial_epochs-1], plt.ylim(), label=\"Start Fine Tuning\")\n",
        "  plt.legend(loc=\"upper right\")\n",
        "  plt.title(\"Training and validation loss\")"
      ],
      "metadata": {
        "id": "bo1dUW2VKewq"
      },
      "execution_count": 54,
      "outputs": []
    },
    {
      "cell_type": "code",
      "source": [
        "compare_history(history_2, history_2b)"
      ],
      "metadata": {
        "colab": {
          "base_uri": "https://localhost:8080/",
          "height": 457
        },
        "id": "oMA39pz0NQMp",
        "outputId": "98bf7368-3233-4eb7-db3f-324dce671d4d"
      },
      "execution_count": 55,
      "outputs": [
        {
          "output_type": "display_data",
          "data": {
            "text/plain": [
              "<Figure size 720x504 with 1 Axes>"
            ],
            "image/png": "[encoded data removed]"
          },
          "metadata": {
            "needs_background": "light"
          }
        },
        {
          "output_type": "display_data",
          "data": {
            "text/plain": [
              "<Figure size 720x504 with 1 Axes>"
            ],
            "image/png": "[encoded data removed]"
          },
          "metadata": {
            "needs_background": "light"
          }
        }
      ]
    },
    {
      "cell_type": "markdown",
      "source": [
        "## Model 4: Fine-tuning an existing model on 100% training data."
      ],
      "metadata": {
        "id": "1maP67a4ODge"
      }
    },
    {
      "cell_type": "code",
      "source": [
        "# Download and unzip 10 classes of Food101 data with all images\n",
        "!wget https://storage.googleapis.com/ztm_tf_course/food_vision/10_food_classes_all_data.zip\n",
        "unzip_data(\"10_food_classes_all_data.zip\")"
      ],
      "metadata": {
        "colab": {
          "base_uri": "https://localhost:8080/"
        },
        "id": "M2NWcX2TNWOw",
        "outputId": "d8e3151c-4e43-4ce5-dc62-ce9f4f774d86"
      },
      "execution_count": 56,
      "outputs": [
        {
          "output_type": "stream",
          "name": "stdout",
          "text": [
            "--2022-04-14 03:59:58--  https://storage.googleapis.com/ztm_tf_course/food_vision/10_food_classes_all_data.zip\n",
            "Resolving storage.googleapis.com (storage.googleapis.com)... 142.251.45.112, 142.250.81.208, 142.250.188.48, ...\n",
            "Connecting to storage.googleapis.com (storage.googleapis.com)|142.251.45.112|:443... connected.\n",
            "HTTP request sent, awaiting response... 200 OK\n",
            "Length: 519183241 (495M) [application/zip]\n",
            "Saving to: ‘10_food_classes_all_data.zip’\n",
            "\n",
            "10_food_classes_all 100%[===================>] 495.13M   261MB/s    in 1.9s    \n",
            "\n",
            "2022-04-14 04:00:00 (261 MB/s) - ‘10_food_classes_all_data.zip’ saved [519183241/519183241]\n",
            "\n"
          ]
        }
      ]
    },
    {
      "cell_type": "code",
      "source": [
        "# Setup training and test dir\n",
        "train_dir_all_data = \"10_food_classes_all_data/train\"\n",
        "test_dir = \"10_food_classes_all_data/test\""
      ],
      "metadata": {
        "id": "TfGy3vkMOh6X"
      },
      "execution_count": 60,
      "outputs": []
    },
    {
      "cell_type": "code",
      "source": [
        "# How many images are we working\n",
        "walk_through_dir(\"10_food_classes_all_data\")"
      ],
      "metadata": {
        "colab": {
          "base_uri": "https://localhost:8080/"
        },
        "id": "2tpyrn7SOxuV",
        "outputId": "36944ddf-45c8-4df0-a3d2-a515f8d8efb4"
      },
      "execution_count": 58,
      "outputs": [
        {
          "output_type": "stream",
          "name": "stdout",
          "text": [
            "There are 2 directories and 0 images in '10_food_classes_all_data'.\n",
            "There are 10 directories and 0 images in '10_food_classes_all_data/train'.\n",
            "There are 0 directories and 750 images in '10_food_classes_all_data/train/steak'.\n",
            "There are 0 directories and 750 images in '10_food_classes_all_data/train/sushi'.\n",
            "There are 0 directories and 750 images in '10_food_classes_all_data/train/fried_rice'.\n",
            "There are 0 directories and 750 images in '10_food_classes_all_data/train/hamburger'.\n",
            "There are 0 directories and 750 images in '10_food_classes_all_data/train/grilled_salmon'.\n",
            "There are 0 directories and 750 images in '10_food_classes_all_data/train/chicken_wings'.\n",
            "There are 0 directories and 750 images in '10_food_classes_all_data/train/pizza'.\n",
            "There are 0 directories and 750 images in '10_food_classes_all_data/train/ramen'.\n",
            "There are 0 directories and 750 images in '10_food_classes_all_data/train/chicken_curry'.\n",
            "There are 0 directories and 750 images in '10_food_classes_all_data/train/ice_cream'.\n",
            "There are 10 directories and 0 images in '10_food_classes_all_data/test'.\n",
            "There are 0 directories and 250 images in '10_food_classes_all_data/test/steak'.\n",
            "There are 0 directories and 250 images in '10_food_classes_all_data/test/sushi'.\n",
            "There are 0 directories and 250 images in '10_food_classes_all_data/test/fried_rice'.\n",
            "There are 0 directories and 250 images in '10_food_classes_all_data/test/hamburger'.\n",
            "There are 0 directories and 250 images in '10_food_classes_all_data/test/grilled_salmon'.\n",
            "There are 0 directories and 250 images in '10_food_classes_all_data/test/chicken_wings'.\n",
            "There are 0 directories and 250 images in '10_food_classes_all_data/test/pizza'.\n",
            "There are 0 directories and 250 images in '10_food_classes_all_data/test/ramen'.\n",
            "There are 0 directories and 250 images in '10_food_classes_all_data/test/chicken_curry'.\n",
            "There are 0 directories and 250 images in '10_food_classes_all_data/test/ice_cream'.\n"
          ]
        }
      ]
    },
    {
      "cell_type": "code",
      "source": [
        "# Setup data inputs\n",
        "train_data_10_classes_full = keras.preprocessing.image_dataset_from_directory(train_dir_all_data, \n",
        "                                                                              label_mode=\"categorical\", \n",
        "                                                                              image_size=IMG_SIZE, \n",
        "                                                                              )\n",
        "test_data = keras.preprocessing.image_dataset_from_directory(test_dir, \n",
        "                                                             label_mode=\"categorical\", \n",
        "                                                             image_size=IMG_SIZE)"
      ],
      "metadata": {
        "colab": {
          "base_uri": "https://localhost:8080/"
        },
        "id": "GQht3LvoO4vP",
        "outputId": "1885f614-6cf5-4657-ec65-5b1dccf00ba9"
      },
      "execution_count": 61,
      "outputs": [
        {
          "output_type": "stream",
          "name": "stdout",
          "text": [
            "Found 7500 files belonging to 10 classes.\n",
            "Found 2500 files belonging to 10 classes.\n"
          ]
        }
      ]
    },
    {
      "cell_type": "code",
      "source": [
        "# Load weights from checkpoint, that way we can fine-tune from \n",
        "# the same stage the 10 percent data model was fine-tuned from\n",
        "model_2.load_weights(checkpoint_path)"
      ],
      "metadata": {
        "colab": {
          "base_uri": "https://localhost:8080/"
        },
        "id": "6X9wKTfUPC2B",
        "outputId": "d0eb9321-d297-4167-b7d0-a8c852bb390e"
      },
      "execution_count": 62,
      "outputs": [
        {
          "output_type": "execute_result",
          "data": {
            "text/plain": [
              "<tensorflow.python.training.tracking.util.CheckpointLoadStatus at 0x7f3c3139f410>"
            ]
          },
          "metadata": {},
          "execution_count": 62
        }
      ]
    },
    {
      "cell_type": "code",
      "source": [
        "# Check which layers are tunable in the whole model\n",
        "for layer_number, layer in enumerate(model_2.layers):\n",
        "  print(layer_number, layer.name, layer.trainable)"
      ],
      "metadata": {
        "colab": {
          "base_uri": "https://localhost:8080/"
        },
        "id": "NX2eUN77PE8k",
        "outputId": "6e5452a4-c137-49b8-d763-cdb2f074c42a"
      },
      "execution_count": 63,
      "outputs": [
        {
          "output_type": "stream",
          "name": "stdout",
          "text": [
            "0 input_layer True\n",
            "1 data_augmentation True\n",
            "2 efficientnetb0 True\n",
            "3 global_average_pooling_2D True\n",
            "4 output_layer True\n"
          ]
        }
      ]
    },
    {
      "cell_type": "code",
      "source": [
        "# Let's drill into our base model to check which layers are trainable\n",
        "for layer_number, layer in enumerate(model_2.layers[2].layers):\n",
        "  print(layer_number, layer.name, layer.trainable)"
      ],
      "metadata": {
        "colab": {
          "base_uri": "https://localhost:8080/"
        },
        "id": "Y4yTBQy9Qzr3",
        "outputId": "a48fcb1e-d3af-4afa-f7d1-b3f28127ae5a"
      },
      "execution_count": 64,
      "outputs": [
        {
          "output_type": "stream",
          "name": "stdout",
          "text": [
            "0 input_3 False\n",
            "1 rescaling_2 False\n",
            "2 normalization_2 False\n",
            "3 stem_conv_pad False\n",
            "4 stem_conv False\n",
            "5 stem_bn False\n",
            "6 stem_activation False\n",
            "7 block1a_dwconv False\n",
            "8 block1a_bn False\n",
            "9 block1a_activation False\n",
            "10 block1a_se_squeeze False\n",
            "11 block1a_se_reshape False\n",
            "12 block1a_se_reduce False\n",
            "13 block1a_se_expand False\n",
            "14 block1a_se_excite False\n",
            "15 block1a_project_conv False\n",
            "16 block1a_project_bn False\n",
            "17 block2a_expand_conv False\n",
            "18 block2a_expand_bn False\n",
            "19 block2a_expand_activation False\n",
            "20 block2a_dwconv_pad False\n",
            "21 block2a_dwconv False\n",
            "22 block2a_bn False\n",
            "23 block2a_activation False\n",
            "24 block2a_se_squeeze False\n",
            "25 block2a_se_reshape False\n",
            "26 block2a_se_reduce False\n",
            "27 block2a_se_expand False\n",
            "28 block2a_se_excite False\n",
            "29 block2a_project_conv False\n",
            "30 block2a_project_bn False\n",
            "31 block2b_expand_conv False\n",
            "32 block2b_expand_bn False\n",
            "33 block2b_expand_activation False\n",
            "34 block2b_dwconv False\n",
            "35 block2b_bn False\n",
            "36 block2b_activation False\n",
            "37 block2b_se_squeeze False\n",
            "38 block2b_se_reshape False\n",
            "39 block2b_se_reduce False\n",
            "40 block2b_se_expand False\n",
            "41 block2b_se_excite False\n",
            "42 block2b_project_conv False\n",
            "43 block2b_project_bn False\n",
            "44 block2b_drop False\n",
            "45 block2b_add False\n",
            "46 block3a_expand_conv False\n",
            "47 block3a_expand_bn False\n",
            "48 block3a_expand_activation False\n",
            "49 block3a_dwconv_pad False\n",
            "50 block3a_dwconv False\n",
            "51 block3a_bn False\n",
            "52 block3a_activation False\n",
            "53 block3a_se_squeeze False\n",
            "54 block3a_se_reshape False\n",
            "55 block3a_se_reduce False\n",
            "56 block3a_se_expand False\n",
            "57 block3a_se_excite False\n",
            "58 block3a_project_conv False\n",
            "59 block3a_project_bn False\n",
            "60 block3b_expand_conv False\n",
            "61 block3b_expand_bn False\n",
            "62 block3b_expand_activation False\n",
            "63 block3b_dwconv False\n",
            "64 block3b_bn False\n",
            "65 block3b_activation False\n",
            "66 block3b_se_squeeze False\n",
            "67 block3b_se_reshape False\n",
            "68 block3b_se_reduce False\n",
            "69 block3b_se_expand False\n",
            "70 block3b_se_excite False\n",
            "71 block3b_project_conv False\n",
            "72 block3b_project_bn False\n",
            "73 block3b_drop False\n",
            "74 block3b_add False\n",
            "75 block4a_expand_conv False\n",
            "76 block4a_expand_bn False\n",
            "77 block4a_expand_activation False\n",
            "78 block4a_dwconv_pad False\n",
            "79 block4a_dwconv False\n",
            "80 block4a_bn False\n",
            "81 block4a_activation False\n",
            "82 block4a_se_squeeze False\n",
            "83 block4a_se_reshape False\n",
            "84 block4a_se_reduce False\n",
            "85 block4a_se_expand False\n",
            "86 block4a_se_excite False\n",
            "87 block4a_project_conv False\n",
            "88 block4a_project_bn False\n",
            "89 block4b_expand_conv False\n",
            "90 block4b_expand_bn False\n",
            "91 block4b_expand_activation False\n",
            "92 block4b_dwconv False\n",
            "93 block4b_bn False\n",
            "94 block4b_activation False\n",
            "95 block4b_se_squeeze False\n",
            "96 block4b_se_reshape False\n",
            "97 block4b_se_reduce False\n",
            "98 block4b_se_expand False\n",
            "99 block4b_se_excite False\n",
            "100 block4b_project_conv False\n",
            "101 block4b_project_bn False\n",
            "102 block4b_drop False\n",
            "103 block4b_add False\n",
            "104 block4c_expand_conv False\n",
            "105 block4c_expand_bn False\n",
            "106 block4c_expand_activation False\n",
            "107 block4c_dwconv False\n",
            "108 block4c_bn False\n",
            "109 block4c_activation False\n",
            "110 block4c_se_squeeze False\n",
            "111 block4c_se_reshape False\n",
            "112 block4c_se_reduce False\n",
            "113 block4c_se_expand False\n",
            "114 block4c_se_excite False\n",
            "115 block4c_project_conv False\n",
            "116 block4c_project_bn False\n",
            "117 block4c_drop False\n",
            "118 block4c_add False\n",
            "119 block5a_expand_conv False\n",
            "120 block5a_expand_bn False\n",
            "121 block5a_expand_activation False\n",
            "122 block5a_dwconv False\n",
            "123 block5a_bn False\n",
            "124 block5a_activation False\n",
            "125 block5a_se_squeeze False\n",
            "126 block5a_se_reshape False\n",
            "127 block5a_se_reduce False\n",
            "128 block5a_se_expand False\n",
            "129 block5a_se_excite False\n",
            "130 block5a_project_conv False\n",
            "131 block5a_project_bn False\n",
            "132 block5b_expand_conv False\n",
            "133 block5b_expand_bn False\n",
            "134 block5b_expand_activation False\n",
            "135 block5b_dwconv False\n",
            "136 block5b_bn False\n",
            "137 block5b_activation False\n",
            "138 block5b_se_squeeze False\n",
            "139 block5b_se_reshape False\n",
            "140 block5b_se_reduce False\n",
            "141 block5b_se_expand False\n",
            "142 block5b_se_excite False\n",
            "143 block5b_project_conv False\n",
            "144 block5b_project_bn False\n",
            "145 block5b_drop False\n",
            "146 block5b_add False\n",
            "147 block5c_expand_conv False\n",
            "148 block5c_expand_bn False\n",
            "149 block5c_expand_activation False\n",
            "150 block5c_dwconv False\n",
            "151 block5c_bn False\n",
            "152 block5c_activation False\n",
            "153 block5c_se_squeeze False\n",
            "154 block5c_se_reshape False\n",
            "155 block5c_se_reduce False\n",
            "156 block5c_se_expand False\n",
            "157 block5c_se_excite False\n",
            "158 block5c_project_conv False\n",
            "159 block5c_project_bn False\n",
            "160 block5c_drop False\n",
            "161 block5c_add False\n",
            "162 block6a_expand_conv False\n",
            "163 block6a_expand_bn False\n",
            "164 block6a_expand_activation False\n",
            "165 block6a_dwconv_pad False\n",
            "166 block6a_dwconv False\n",
            "167 block6a_bn False\n",
            "168 block6a_activation False\n",
            "169 block6a_se_squeeze False\n",
            "170 block6a_se_reshape False\n",
            "171 block6a_se_reduce False\n",
            "172 block6a_se_expand False\n",
            "173 block6a_se_excite False\n",
            "174 block6a_project_conv False\n",
            "175 block6a_project_bn False\n",
            "176 block6b_expand_conv False\n",
            "177 block6b_expand_bn False\n",
            "178 block6b_expand_activation False\n",
            "179 block6b_dwconv False\n",
            "180 block6b_bn False\n",
            "181 block6b_activation False\n",
            "182 block6b_se_squeeze False\n",
            "183 block6b_se_reshape False\n",
            "184 block6b_se_reduce False\n",
            "185 block6b_se_expand False\n",
            "186 block6b_se_excite False\n",
            "187 block6b_project_conv False\n",
            "188 block6b_project_bn False\n",
            "189 block6b_drop False\n",
            "190 block6b_add False\n",
            "191 block6c_expand_conv False\n",
            "192 block6c_expand_bn False\n",
            "193 block6c_expand_activation False\n",
            "194 block6c_dwconv False\n",
            "195 block6c_bn False\n",
            "196 block6c_activation False\n",
            "197 block6c_se_squeeze False\n",
            "198 block6c_se_reshape False\n",
            "199 block6c_se_reduce False\n",
            "200 block6c_se_expand False\n",
            "201 block6c_se_excite False\n",
            "202 block6c_project_conv False\n",
            "203 block6c_project_bn False\n",
            "204 block6c_drop False\n",
            "205 block6c_add False\n",
            "206 block6d_expand_conv False\n",
            "207 block6d_expand_bn False\n",
            "208 block6d_expand_activation False\n",
            "209 block6d_dwconv False\n",
            "210 block6d_bn False\n",
            "211 block6d_activation False\n",
            "212 block6d_se_squeeze False\n",
            "213 block6d_se_reshape False\n",
            "214 block6d_se_reduce False\n",
            "215 block6d_se_expand False\n",
            "216 block6d_se_excite False\n",
            "217 block6d_project_conv False\n",
            "218 block6d_project_bn False\n",
            "219 block6d_drop False\n",
            "220 block6d_add False\n",
            "221 block7a_expand_conv False\n",
            "222 block7a_expand_bn False\n",
            "223 block7a_expand_activation False\n",
            "224 block7a_dwconv False\n",
            "225 block7a_bn False\n",
            "226 block7a_activation False\n",
            "227 block7a_se_squeeze True\n",
            "228 block7a_se_reshape True\n",
            "229 block7a_se_reduce True\n",
            "230 block7a_se_expand True\n",
            "231 block7a_se_excite True\n",
            "232 block7a_project_conv True\n",
            "233 block7a_project_bn True\n",
            "234 top_conv True\n",
            "235 top_bn True\n",
            "236 top_activation True\n"
          ]
        }
      ]
    },
    {
      "cell_type": "code",
      "source": [
        "# Recompile the model\n",
        "model_2.compile(loss=\"categorical_crossentropy\", \n",
        "                optimizer=tf.keras.optimizers.Adam(learning_rate=0.0001), \n",
        "                metrics=[\"accuracy\"])"
      ],
      "metadata": {
        "id": "wNr7TiZJRGxm"
      },
      "execution_count": 65,
      "outputs": []
    },
    {
      "cell_type": "code",
      "source": [
        "# Fit the model\n",
        "history_3 = model_2.fit(train_data_10_classes_full, \n",
        "                        epochs=fine_tune_epochs, \n",
        "                        validation_data=test_data, \n",
        "                        validation_steps=int(0.25*len(test_data)), \n",
        "                        initial_epoch=history_2.epoch[-1], \n",
        "                        callbacks=[create_tensorboard_callback(dir_name=\"transfer_learning\", \n",
        "                                                               experiment_name=\"full_10_classes_fine_tune\")])"
      ],
      "metadata": {
        "colab": {
          "base_uri": "https://localhost:8080/"
        },
        "id": "hTNxwfZzRlEI",
        "outputId": "92326e64-b89b-4222-c77e-edf1843be8c1"
      },
      "execution_count": 68,
      "outputs": [
        {
          "output_type": "stream",
          "name": "stdout",
          "text": [
            "Saving TensorBoard log files to: transfer_learning/full_10_classes_fine_tune/20220414-041903\n",
            "Epoch 5/10\n",
            "235/235 [==============================] - 49s 204ms/step - loss: 0.5925 - accuracy: 0.8127 - val_loss: 0.3726 - val_accuracy: 0.8766\n",
            "Epoch 6/10\n",
            "235/235 [==============================] - 42s 178ms/step - loss: 0.5192 - accuracy: 0.8331 - val_loss: 0.3720 - val_accuracy: 0.8651\n",
            "Epoch 7/10\n",
            "235/235 [==============================] - 40s 168ms/step - loss: 0.4797 - accuracy: 0.8480 - val_loss: 0.3650 - val_accuracy: 0.8701\n",
            "Epoch 8/10\n",
            "235/235 [==============================] - 36s 152ms/step - loss: 0.4434 - accuracy: 0.8587 - val_loss: 0.3283 - val_accuracy: 0.8964\n",
            "Epoch 9/10\n",
            "235/235 [==============================] - 37s 154ms/step - loss: 0.4112 - accuracy: 0.8704 - val_loss: 0.3419 - val_accuracy: 0.8882\n",
            "Epoch 10/10\n",
            "235/235 [==============================] - 35s 147ms/step - loss: 0.3833 - accuracy: 0.8777 - val_loss: 0.2940 - val_accuracy: 0.9030\n"
          ]
        }
      ]
    },
    {
      "cell_type": "code",
      "source": [
        "# Evaluate on all of data set\n",
        "results_3 = model_2.evaluate(test_data)"
      ],
      "metadata": {
        "colab": {
          "base_uri": "https://localhost:8080/"
        },
        "id": "XPEKl37ESqWw",
        "outputId": "6484ad0b-6987-4cf8-fb59-88e1168a35d1"
      },
      "execution_count": 69,
      "outputs": [
        {
          "output_type": "stream",
          "name": "stdout",
          "text": [
            "79/79 [==============================] - 7s 81ms/step - loss: 0.2887 - accuracy: 0.9036\n"
          ]
        }
      ]
    },
    {
      "cell_type": "code",
      "source": [
        "# How did fine-tuning go with more data?\n",
        "compare_history(history_2, \n",
        "                history_3)"
      ],
      "metadata": {
        "colab": {
          "base_uri": "https://localhost:8080/",
          "height": 457
        },
        "id": "joCP6EguWQBf",
        "outputId": "65009157-83a1-4a53-833d-3963f271aeac"
      },
      "execution_count": 71,
      "outputs": [
        {
          "output_type": "display_data",
          "data": {
            "text/plain": [
              "<Figure size 720x504 with 1 Axes>"
            ],
            "image/png": "[encoded data removed]"
          },
          "metadata": {
            "needs_background": "light"
          }
        },
        {
          "output_type": "display_data",
          "data": {
            "text/plain": [
              "<Figure size 720x504 with 1 Axes>"
            ],
            "image/png": "[encoded data removed]"
          },
          "metadata": {
            "needs_background": "light"
          }
        }
      ]
    },
    {
      "cell_type": "markdown",
      "source": [
        "# View Experiments on TensorBoard"
      ],
      "metadata": {
        "id": "p9acfvSdYcMF"
      }
    },
    {
      "cell_type": "code",
      "source": [
        "!tensorboard dev upload --logdir ./transfer_learning \\\n",
        "  --name \"Transfer Learning Experiments with 10 Food101 Classes\" \\\n",
        "  --description \"A series of different transfer learning experiments with varying amount of data\" \\\n",
        "  --one_shot"
      ],
      "metadata": {
        "colab": {
          "base_uri": "https://localhost:8080/"
        },
        "id": "kHDHZeCTYFpn",
        "outputId": "7857ab6d-0485-4325-f20b-dea2e9c71454"
      },
      "execution_count": 72,
      "outputs": [
        {
          "output_type": "stream",
          "name": "stdout",
          "text": [
            "\n",
            "***** TensorBoard Uploader *****\n",
            "\n",
            "This will upload your TensorBoard logs to https://tensorboard.dev/ from\n",
            "the following directory:\n",
            "\n",
            "./transfer_learning\n",
            "\n",
            "This TensorBoard will be visible to everyone. Do not upload sensitive\n",
            "data.\n",
            "\n",
            "Your use of this service is subject to Google's Terms of Service\n",
            "<https://policies.google.com/terms> and Privacy Policy\n",
            "<https://policies.google.com/privacy>, and TensorBoard.dev's Terms of Service\n",
            "<https://tensorboard.dev/policy/terms/>.\n",
            "\n",
            "This notice will not be shown again while you are logged into the uploader.\n",
            "To log out, run `tensorboard dev auth revoke`.\n",
            "\n",
            "Continue? (yes/NO) yes\n",
            "\n",
            "Please visit this URL to authorize this application: https://accounts.google.com/o/oauth2/auth?response_type=code&client_id=373649185512-8v619h5kft38l4456nm2dj4ubeqsrvh6.apps.googleusercontent.com&redirect_uri=urn%3Aietf%3Awg%3Aoauth%3A2.0%3Aoob&scope=openid+https%3A%2F%2Fwww.googleapis.com%2Fauth%2Fuserinfo.email&state=xHI8d97R0414d3XYjSXBkLVqc2MeK3&prompt=consent&access_type=offline\n",
            "Enter the authorization code: 4/1AX4XfWjylavW5pIPzVx-mfpjQP4C2f4yuNRxHBPv_jiNF4zYrI7ef2SiMKI\n",
            "\n",
            "\n",
            "New experiment created. View your TensorBoard at: https://tensorboard.dev/experiment/4aSja2uMQd2Kivdli3SADg/\n",
            "\n",
            "\u001b[1m[2022-04-14T04:46:58]\u001b[0m Started scanning logdir.\n",
            "\u001b[1m[2022-04-14T04:47:04]\u001b[0m Total uploaded: 162 scalars, 0 tensors, 6 binary objects (4.9 MB)\n",
            "\u001b[1m[2022-04-14T04:47:04]\u001b[0m Done scanning logdir.\n",
            "\n",
            "\n",
            "Done. View your TensorBoard at https://tensorboard.dev/experiment/4aSja2uMQd2Kivdli3SADg/\n"
          ]
        }
      ]
    },
    {
      "cell_type": "code",
      "source": [
        "!tensorboard dev list"
      ],
      "metadata": {
        "colab": {
          "base_uri": "https://localhost:8080/"
        },
        "id": "-IFEQWgaZK3n",
        "outputId": "974cbd4c-d10e-4a87-ae6c-b7355a656cae"
      },
      "execution_count": 73,
      "outputs": [
        {
          "output_type": "stream",
          "name": "stdout",
          "text": [
            "https://tensorboard.dev/experiment/4aSja2uMQd2Kivdli3SADg/\n",
            "\tName                 Transfer Learning Experiments with 10 Food101 Classes\n",
            "\tDescription          A series of different transfer learning experiments with varying amount of data\n",
            "\tId                   4aSja2uMQd2Kivdli3SADg\n",
            "\tCreated              2022-04-14 04:46:58 (3 minutes ago)\n",
            "\tUpdated              2022-04-14 04:47:04 (3 minutes ago)\n",
            "\tRuns                 11\n",
            "\tTags                 5\n",
            "\tScalars              162\n",
            "\tTensor bytes         0\n",
            "\tBinary object bytes  5186189\n",
            "Total: 1 experiment(s)\n"
          ]
        }
      ]
    },
    {
      "cell_type": "code",
      "source": [
        ""
      ],
      "metadata": {
        "id": "8sicb2bqaEPS"
      },
      "execution_count": null,
      "outputs": []
    }
  ]
}