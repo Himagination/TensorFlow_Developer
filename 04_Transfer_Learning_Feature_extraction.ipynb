{
  "nbformat": 4,
  "nbformat_minor": 0,
  "metadata": {
    "colab": {
      "name": "04_Transfer_Learning_Feature_extraction.ipynb",
      "provenance": [],
      "authorship_tag": "ABX9TyNEFfXIOKU42k4MYU/sZKbl",
      "include_colab_link": true
    },
    "kernelspec": {
      "name": "python3",
      "display_name": "Python 3"
    },
    "language_info": {
      "name": "python"
    },
    "accelerator": "GPU"
  },
  "cells": [
    {
      "cell_type": "markdown",
      "metadata": {
        "id": "view-in-github",
        "colab_type": "text"
      },
      "source": [
        "<a href=\"https://colab.research.google.com/github/Himagination/TensorFlow_Developer/blob/main/04_Transfer_Learning_Feature_extraction.ipynb\" target=\"_parent\"><img src=\"https://colab.research.google.com/assets/colab-badge.svg\" alt=\"Open In Colab\"/></a>"
      ]
    },
    {
      "cell_type": "markdown",
      "source": [
        "# Introduction\n",
        "\n",
        "**Why use Transfer Learning?**\n",
        "\n",
        "* Can Leverage an existing neural network architecture proven to work on problems similar to our own.\n",
        "* Can leverage a working network architecture which has already learned patterns on similar data to our own(often results in great results with less data)\n"
      ],
      "metadata": {
        "id": "-4PUXiOCrnOe"
      }
    },
    {
      "cell_type": "markdown",
      "source": [
        "## Download and becoming one with data"
      ],
      "metadata": {
        "id": "LaQmMNnSseFR"
      }
    },
    {
      "cell_type": "code",
      "execution_count": 1,
      "metadata": {
        "colab": {
          "base_uri": "https://localhost:8080/"
        },
        "id": "NOIhaPB4rD0U",
        "outputId": "4c878717-a6c0-4667-e60f-3219cc15b824"
      },
      "outputs": [
        {
          "output_type": "stream",
          "name": "stdout",
          "text": [
            "--2022-04-13 06:51:34--  https://storage.googleapis.com/ztm_tf_course/food_vision/10_food_classes_10_percent.zip\n",
            "Resolving storage.googleapis.com (storage.googleapis.com)... 142.251.8.128, 74.125.203.128, 74.125.204.128, ...\n",
            "Connecting to storage.googleapis.com (storage.googleapis.com)|142.251.8.128|:443... connected.\n",
            "HTTP request sent, awaiting response... 200 OK\n",
            "Length: 168546183 (161M) [application/zip]\n",
            "Saving to: ‘10_food_classes_10_percent.zip’\n",
            "\n",
            "10_food_classes_10_ 100%[===================>] 160.74M   129MB/s    in 1.2s    \n",
            "\n",
            "2022-04-13 06:51:36 (129 MB/s) - ‘10_food_classes_10_percent.zip’ saved [168546183/168546183]\n",
            "\n"
          ]
        }
      ],
      "source": [
        "# get data(10% of food dataset)\n",
        "import os\n",
        "import zipfile\n",
        "!wget https://storage.googleapis.com/ztm_tf_course/food_vision/10_food_classes_10_percent.zip\n",
        "\n",
        "# unzip the downloaded file\n",
        "zip_ref = zipfile.ZipFile(\"10_food_classes_10_percent.zip\")\n",
        "zip_ref.extractall()\n",
        "zip_ref.close()"
      ]
    },
    {
      "cell_type": "code",
      "source": [
        "# How many images in each folder?\n",
        "\n",
        "for dirpath, dirnames, filenames in os.walk(\"10_food_classes_10_percent\"):\n",
        "  print(f\"There are {len(dirnames)} directories and {len(filenames)} images in '{dirpath}'\")"
      ],
      "metadata": {
        "colab": {
          "base_uri": "https://localhost:8080/"
        },
        "id": "v4Hn2vgjs9m0",
        "outputId": "1ef0106f-b679-4f7d-993d-6cccd46648e1"
      },
      "execution_count": 2,
      "outputs": [
        {
          "output_type": "stream",
          "name": "stdout",
          "text": [
            "There are 2 directories and 0 images in '10_food_classes_10_percent'\n",
            "There are 10 directories and 0 images in '10_food_classes_10_percent/test'\n",
            "There are 0 directories and 250 images in '10_food_classes_10_percent/test/pizza'\n",
            "There are 0 directories and 250 images in '10_food_classes_10_percent/test/chicken_wings'\n",
            "There are 0 directories and 250 images in '10_food_classes_10_percent/test/grilled_salmon'\n",
            "There are 0 directories and 250 images in '10_food_classes_10_percent/test/steak'\n",
            "There are 0 directories and 250 images in '10_food_classes_10_percent/test/hamburger'\n",
            "There are 0 directories and 250 images in '10_food_classes_10_percent/test/sushi'\n",
            "There are 0 directories and 250 images in '10_food_classes_10_percent/test/fried_rice'\n",
            "There are 0 directories and 250 images in '10_food_classes_10_percent/test/ice_cream'\n",
            "There are 0 directories and 250 images in '10_food_classes_10_percent/test/chicken_curry'\n",
            "There are 0 directories and 250 images in '10_food_classes_10_percent/test/ramen'\n",
            "There are 10 directories and 0 images in '10_food_classes_10_percent/train'\n",
            "There are 0 directories and 75 images in '10_food_classes_10_percent/train/pizza'\n",
            "There are 0 directories and 75 images in '10_food_classes_10_percent/train/chicken_wings'\n",
            "There are 0 directories and 75 images in '10_food_classes_10_percent/train/grilled_salmon'\n",
            "There are 0 directories and 75 images in '10_food_classes_10_percent/train/steak'\n",
            "There are 0 directories and 75 images in '10_food_classes_10_percent/train/hamburger'\n",
            "There are 0 directories and 75 images in '10_food_classes_10_percent/train/sushi'\n",
            "There are 0 directories and 75 images in '10_food_classes_10_percent/train/fried_rice'\n",
            "There are 0 directories and 75 images in '10_food_classes_10_percent/train/ice_cream'\n",
            "There are 0 directories and 75 images in '10_food_classes_10_percent/train/chicken_curry'\n",
            "There are 0 directories and 75 images in '10_food_classes_10_percent/train/ramen'\n"
          ]
        }
      ]
    },
    {
      "cell_type": "markdown",
      "source": [
        "## Create dataloaders (preparing the data)\n",
        "\n",
        "We'll use the `ImageDataGenerator` class to load in our images in batch"
      ],
      "metadata": {
        "id": "bMdAjfmQtjcu"
      }
    },
    {
      "cell_type": "code",
      "source": [
        "import tensorflow as tf"
      ],
      "metadata": {
        "id": "qeqblWKMKxOk"
      },
      "execution_count": 3,
      "outputs": []
    },
    {
      "cell_type": "code",
      "source": [
        "from tensorflow.keras.preprocessing.image import ImageDataGenerator\n",
        "\n",
        "IMAGE_SHAPE = (224, 224)\n",
        "BATCH_SIZE = 32\n",
        "\n",
        "train_dir = \"10_food_classes_10_percent/train/\"\n",
        "test_dir = \"10_food_classes_10_percent/test/\"\n",
        "\n",
        "train_datagen = ImageDataGenerator(rescale=1/255.)\n",
        "test_datagen = ImageDataGenerator(rescale=1/255.)\n",
        "\n",
        "print(\"Training images:\")\n",
        "train_data_10_percent = train_datagen.flow_from_directory(train_dir, \n",
        "                                                          target_size=IMAGE_SHAPE,\n",
        "                                                          batch_size=BATCH_SIZE, \n",
        "                                                          class_mode='categorical')\n",
        "print(\"Test images:\")\n",
        "\n",
        "test_data = test_datagen.flow_from_directory(test_dir, \n",
        "                                             target_size=IMAGE_SHAPE,\n",
        "                                             batch_size=BATCH_SIZE, \n",
        "                                             class_mode='categorical')"
      ],
      "metadata": {
        "colab": {
          "base_uri": "https://localhost:8080/"
        },
        "id": "0qzQdVRWt1ek",
        "outputId": "c0c8bdad-0360-4b1a-f93d-5e4e64f756d1"
      },
      "execution_count": 4,
      "outputs": [
        {
          "output_type": "stream",
          "name": "stdout",
          "text": [
            "Training images:\n",
            "Found 750 images belonging to 10 classes.\n",
            "Test images:\n",
            "Found 2500 images belonging to 10 classes.\n"
          ]
        }
      ]
    },
    {
      "cell_type": "markdown",
      "source": [
        "## Setting up callbacks (things to run whilst our model trains)\n",
        "\n",
        "Callbacks are extra functionality we can add to our models to be performed during or after training. Some of the most popular callbacks:\n",
        "\n",
        "* Tracking experiments with the TensorBoard callback.\n",
        "* Model checkpoint with the ModelCheckpoint callback.\n",
        "* Stopping a model from training (before it trains too long and overfits) with the EarlyStopping callback."
      ],
      "metadata": {
        "id": "SnO6MXxnvIZq"
      }
    },
    {
      "cell_type": "code",
      "source": [
        "# create TensorBoard callback\n",
        "\n",
        "import datetime\n",
        "\n",
        "def create_tensorboard_callback(dir_name, experiment_name):\n",
        "  log_dir = dir_name + '/' + experiment_name + '/' + datetime.datetime.now().strftime(\"%Y%m%d-%H%M%S\")\n",
        "  tensorboard_callback = tf.keras.callbacks.TensorBoard(log_dir=log_dir)\n",
        "  print(f\"Saving Tensorboard log files to: {log_dir}\")\n",
        "  return tensorboard_callback"
      ],
      "metadata": {
        "id": "icbeviB7u-93"
      },
      "execution_count": 5,
      "outputs": []
    },
    {
      "cell_type": "markdown",
      "source": [
        "## Creating models using TensorFlow hub\n",
        "\n",
        "In the past we've used to create our own models layer by layer from scratch.\n",
        "\n",
        "Now we're going to do a similar process, except the majority of our model's layer are going to come from TensorFlow Hub.\n",
        "\n",
        "Browsing the TensorFlow Hub page and sorting for image classification, we found the following feature vector model link:\n",
        "https://tfhub.dev/tensorflow/efficientnet/b0/feature-vector/1"
      ],
      "metadata": {
        "id": "qSOQH6M-LXJe"
      }
    },
    {
      "cell_type": "code",
      "source": [
        "# Import dependencies\n",
        "import tensorflow_hub as hub\n",
        "from tensorflow.keras import layers"
      ],
      "metadata": {
        "id": "Xn_m_b6lNmOm"
      },
      "execution_count": 6,
      "outputs": []
    },
    {
      "cell_type": "code",
      "source": [
        "# Let's compare the following two model\n",
        "resnet_url = \"https://tfhub.dev/tensorflow/resnet_50/feature_vector/1\"\n",
        "efficientnet_url = \"https://tfhub.dev/tensorflow/efficientnet/b0/feature-vector/1\""
      ],
      "metadata": {
        "id": "Nu-ciEm_LKrt"
      },
      "execution_count": 7,
      "outputs": []
    },
    {
      "cell_type": "code",
      "source": [
        "# Let's make a create_model() function to create a model from URL\n",
        "def create_model(model_url, num_classes=10):\n",
        "  \"\"\"\n",
        "  Takes a TensorFlow Hub URL and creates a Keras Sequential model with it.\n",
        "\n",
        "  Args:\n",
        "    model_url (str): A TensorFlow Hub feature extraction URL.\n",
        "    num_classes (int): Number of output neurons in the output layer, \n",
        "      should be equal to number of target classes, default to 10.\n",
        "\n",
        "    Returns:\n",
        "      An uncompiled Keras Sequential model with model_url as feature extrctor\n",
        "      layer and Dense output layer with num_classes output neurons.\n",
        "  \"\"\"\n",
        "  # Download the pretrained model and save it as a Keras layer\n",
        "  feature_extractor_layer = hub.KerasLayer(model_url, \n",
        "                                           trainable=False, \n",
        "                                           name='feature_extraction_layer', \n",
        "                                           input_shape=IMAGE_SHAPE+(3, )) # Freeze already learnt patterns\n",
        "  # Create the model\n",
        "  model = tf.keras.Sequential([\n",
        "                               feature_extractor_layer, \n",
        "                               layers.Dense(num_classes, \n",
        "                                            activation='softmax', \n",
        "                                            name='output_layer')\n",
        "  ])\n",
        "\n",
        "  return model                 \n"
      ],
      "metadata": {
        "id": "ZQE0kZpROHsL"
      },
      "execution_count": 8,
      "outputs": []
    },
    {
      "cell_type": "code",
      "source": [
        ""
      ],
      "metadata": {
        "id": "ou7TADWY0VrI"
      },
      "execution_count": null,
      "outputs": []
    },
    {
      "cell_type": "markdown",
      "source": [
        "### Creating and testing ResNet TensorFlow Hub Feature Extraction model."
      ],
      "metadata": {
        "id": "uennp9d-QHs1"
      }
    },
    {
      "cell_type": "code",
      "source": [
        "resnet_model = create_model(resnet_url, \n",
        "                            num_classes=train_data_10_percent.num_classes)"
      ],
      "metadata": {
        "id": "N7bxdy8-QE19"
      },
      "execution_count": 9,
      "outputs": []
    },
    {
      "cell_type": "code",
      "source": [
        "resnet_model.summary()"
      ],
      "metadata": {
        "colab": {
          "base_uri": "https://localhost:8080/"
        },
        "id": "2HIFyg9iQhVh",
        "outputId": "0b90fe09-96c4-448f-be0b-18b232a82af3"
      },
      "execution_count": 10,
      "outputs": [
        {
          "output_type": "stream",
          "name": "stdout",
          "text": [
            "Model: \"sequential\"\n",
            "_________________________________________________________________\n",
            " Layer (type)                Output Shape              Param #   \n",
            "=================================================================\n",
            " feature_extraction_layer (K  (None, 2048)             23561152  \n",
            " erasLayer)                                                      \n",
            "                                                                 \n",
            " output_layer (Dense)        (None, 10)                20490     \n",
            "                                                                 \n",
            "=================================================================\n",
            "Total params: 23,581,642\n",
            "Trainable params: 20,490\n",
            "Non-trainable params: 23,561,152\n",
            "_________________________________________________________________\n"
          ]
        }
      ]
    },
    {
      "cell_type": "code",
      "source": [
        "# Compile our resnet model\n",
        "resnet_model.compile(loss='categorical_crossentropy', \n",
        "                     optimizer=tf.keras.optimizers.Adam(), \n",
        "                     metrics=['accuracy'])"
      ],
      "metadata": {
        "id": "qAAnqvX5RCx9"
      },
      "execution_count": 11,
      "outputs": []
    },
    {
      "cell_type": "code",
      "source": [
        "# Fit the model\n",
        "resnet_history = resnet_model.fit(train_data_10_percent, \n",
        "                 epochs=5, \n",
        "                 steps_per_epoch=len(train_data_10_percent), \n",
        "                 validation_data=test_data, \n",
        "                 validation_steps=len(test_data), \n",
        "                 callbacks=[create_tensorboard_callback(dir_name=\"tensorflow_hub\", \n",
        "                                                        experiment_name='resnet20V2')])"
      ],
      "metadata": {
        "colab": {
          "base_uri": "https://localhost:8080/"
        },
        "id": "OOLxdkohRWem",
        "outputId": "0f96b105-3285-4170-dc59-4e3791229262"
      },
      "execution_count": 12,
      "outputs": [
        {
          "output_type": "stream",
          "name": "stdout",
          "text": [
            "Saving Tensorboard log files to: tensorflow_hub/resnet20V2/20220413-070245\n",
            "Epoch 1/5\n",
            "24/24 [==============================] - 43s 1s/step - loss: 2.0106 - accuracy: 0.3467 - val_loss: 1.0772 - val_accuracy: 0.6616\n",
            "Epoch 2/5\n",
            "24/24 [==============================] - 24s 1s/step - loss: 0.8754 - accuracy: 0.7320 - val_loss: 0.7380 - val_accuracy: 0.7668\n",
            "Epoch 3/5\n",
            "24/24 [==============================] - 24s 1s/step - loss: 0.5778 - accuracy: 0.8253 - val_loss: 0.6153 - val_accuracy: 0.8112\n",
            "Epoch 4/5\n",
            "24/24 [==============================] - 24s 1s/step - loss: 0.4372 - accuracy: 0.8960 - val_loss: 0.5743 - val_accuracy: 0.8164\n",
            "Epoch 5/5\n",
            "24/24 [==============================] - 24s 1s/step - loss: 0.3430 - accuracy: 0.9293 - val_loss: 0.5708 - val_accuracy: 0.8180\n"
          ]
        }
      ]
    },
    {
      "cell_type": "markdown",
      "source": [
        "Our Transfer Learning Feature Extractor model out performed ALL of the previous models we built by hand...(substantially) and in a quicker training time AND with only 10% of the training examples."
      ],
      "metadata": {
        "id": "zyG6gO1CTF2f"
      }
    },
    {
      "cell_type": "code",
      "source": [
        "# Let's create function to plot loss curve\n",
        "import matplotlib.pyplot as plt\n",
        "\n",
        "# Plot the validation and training curves\n",
        "def plot_loss_curves(history):\n",
        "  \"\"\"\n",
        "  Returns separate loss curves for training and validation metrics.\n",
        "  \n",
        "  Args:\n",
        "    history: TensorFlow History object\n",
        "\n",
        "  Returns:\n",
        "    Plots of training/validation loss and accuracy metrics.  \n",
        "  \"\"\"\n",
        "  loss = history.history['loss']\n",
        "  val_loss = history.history['val_loss']\n",
        "\n",
        "  accuracy = history.history['accuracy']\n",
        "  val_accuracy = history.history['val_accuracy']\n",
        "\n",
        "  epochs = range(len(history.history['loss']))\n",
        "\n",
        "  # Plot loss\n",
        "  plt.plot(epochs, loss, label='training_loss')\n",
        "  plt.plot(epochs, val_loss, label='validation_loss')\n",
        "  plt.title(\"Loss\")\n",
        "  plt.xlabel(\"Epochs\")\n",
        "  plt.legend()\n",
        "\n",
        "  # Plot accuracy\n",
        "  plt.figure()\n",
        "  plt.plot(epochs, accuracy, label='training_accuracy')\n",
        "  plt.plot(epochs, val_accuracy, label='validation_accuracy')\n",
        "  plt.title('Accuracy')\n",
        "  plt.xlabel('Epochs')\n",
        "  plt.legend()"
      ],
      "metadata": {
        "id": "o_47Dw7_R_DU"
      },
      "execution_count": 13,
      "outputs": []
    },
    {
      "cell_type": "code",
      "source": [
        "plot_loss_curves(resnet_history)"
      ],
      "metadata": {
        "colab": {
          "base_uri": "https://localhost:8080/",
          "height": 573
        },
        "id": "vJ90dcRXVT74",
        "outputId": "a56525bc-da60-42ad-8f79-a9ffedd362df"
      },
      "execution_count": 14,
      "outputs": [
        {
          "output_type": "display_data",
          "data": {
            "text/plain": [
              "<Figure size 432x288 with 1 Axes>"
            ],
            "image/png": "[encoded data removed]"
          },
          "metadata": {
            "needs_background": "light"
          }
        },
        {
          "output_type": "display_data",
          "data": {
            "text/plain": [
              "<Figure size 432x288 with 1 Axes>"
            ],
            "image/png": "[encoded data removed]"
          },
          "metadata": {
            "needs_background": "light"
          }
        }
      ]
    },
    {
      "cell_type": "markdown",
      "source": [
        "### Creating and Testing EfficientNet80 TensorFlow Hub Feature Extraction model."
      ],
      "metadata": {
        "id": "6Dkpn1-bVnA-"
      }
    },
    {
      "cell_type": "code",
      "source": [
        "# Create EfficientNet80 feature extractor model\n",
        "efficientnet80_model = create_model(efficientnet_url, \n",
        "                                    train_data_10_percent.num_classes)"
      ],
      "metadata": {
        "id": "F2iJiqO3VWO-"
      },
      "execution_count": 15,
      "outputs": []
    },
    {
      "cell_type": "code",
      "source": [
        "# Compile the model\n",
        "efficientnet80_model.compile(loss='categorical_crossentropy', \n",
        "                             optimizer=tf.keras.optimizers.Adam(), \n",
        "                             metrics=['accuracy'])\n",
        "\n",
        "# Fit the model\n",
        "efficientnet80_history = efficientnet80_model.fit(train_data_10_percent, \n",
        "                         epochs=5, \n",
        "                         steps_per_epoch=len(train_data_10_percent), \n",
        "                         validation_data=test_data, \n",
        "                         validation_steps=len(test_data), \n",
        "                         callbacks=[create_tensorboard_callback(dir_name='tensorflow_hub', \n",
        "                                                                experiment_name='efficientnetb0')])"
      ],
      "metadata": {
        "colab": {
          "base_uri": "https://localhost:8080/"
        },
        "id": "reDG9c19WDtg",
        "outputId": "cc2bf3bf-51dc-4fc1-c995-46c9bfd9f850"
      },
      "execution_count": 16,
      "outputs": [
        {
          "output_type": "stream",
          "name": "stdout",
          "text": [
            "Saving Tensorboard log files to: tensorflow_hub/efficientnetb0/20220413-072724\n",
            "Epoch 1/5\n",
            "24/24 [==============================] - 32s 892ms/step - loss: 1.9654 - accuracy: 0.3853 - val_loss: 1.3839 - val_accuracy: 0.6920\n",
            "Epoch 2/5\n",
            "24/24 [==============================] - 19s 805ms/step - loss: 1.1092 - accuracy: 0.7587 - val_loss: 0.9049 - val_accuracy: 0.8124\n",
            "Epoch 3/5\n",
            "24/24 [==============================] - 19s 803ms/step - loss: 0.7759 - accuracy: 0.8293 - val_loss: 0.7194 - val_accuracy: 0.8300\n",
            "Epoch 4/5\n",
            "24/24 [==============================] - 19s 797ms/step - loss: 0.6195 - accuracy: 0.8613 - val_loss: 0.6225 - val_accuracy: 0.8484\n",
            "Epoch 5/5\n",
            "24/24 [==============================] - 19s 804ms/step - loss: 0.5182 - accuracy: 0.8947 - val_loss: 0.5651 - val_accuracy: 0.8596\n"
          ]
        }
      ]
    },
    {
      "cell_type": "code",
      "source": [
        "plot_loss_curves(efficientnet80_history)"
      ],
      "metadata": {
        "colab": {
          "base_uri": "https://localhost:8080/",
          "height": 573
        },
        "id": "4Lfun9DLYNIv",
        "outputId": "6d3b801c-ca73-40a9-9e7b-4d2668610598"
      },
      "execution_count": 17,
      "outputs": [
        {
          "output_type": "display_data",
          "data": {
            "text/plain": [
              "<Figure size 432x288 with 1 Axes>"
            ],
            "image/png": "[encoded data removed]"
          },
          "metadata": {
            "needs_background": "light"
          }
        },
        {
          "output_type": "display_data",
          "data": {
            "text/plain": [
              "<Figure size 432x288 with 1 Axes>"
            ],
            "image/png": "[encoded data removed]"
          },
          "metadata": {
            "needs_background": "light"
          }
        }
      ]
    },
    {
      "cell_type": "code",
      "source": [
        "resnet_model.summary()"
      ],
      "metadata": {
        "colab": {
          "base_uri": "https://localhost:8080/"
        },
        "id": "ll3d7A_bZiJi",
        "outputId": "9d5df5a8-c4e1-4eeb-85da-698b9516cc59"
      },
      "execution_count": 18,
      "outputs": [
        {
          "output_type": "stream",
          "name": "stdout",
          "text": [
            "Model: \"sequential\"\n",
            "_________________________________________________________________\n",
            " Layer (type)                Output Shape              Param #   \n",
            "=================================================================\n",
            " feature_extraction_layer (K  (None, 2048)             23561152  \n",
            " erasLayer)                                                      \n",
            "                                                                 \n",
            " output_layer (Dense)        (None, 10)                20490     \n",
            "                                                                 \n",
            "=================================================================\n",
            "Total params: 23,581,642\n",
            "Trainable params: 20,490\n",
            "Non-trainable params: 23,561,152\n",
            "_________________________________________________________________\n"
          ]
        }
      ]
    },
    {
      "cell_type": "markdown",
      "source": [
        "### Types of Transfer Learning\n",
        "\n",
        "* 'As is' transfer learning - Using an existing model with no changes what so ever(e.g. using `ImageNet` model on 1000 ImageNet classes none of our own.\n",
        "* 'Feature Extraction' transfer learning - Use the pre-learned patterns of an existing model (eg. EfficientNet50 trained on ImageNet) and adjust the output layer for your own problem(eg 1000 classes -> 10 classes of food)\n",
        "* 'Fine-tuning' transfer learning - use the prelearned patterns of an existing model and 'fine-tune' many or all of the underlying layers (including new output layers)\n",
        "\n"
      ],
      "metadata": {
        "id": "tDCjTfATZ9bt"
      }
    },
    {
      "cell_type": "markdown",
      "source": [
        "## Comparing our models result using TensorBoard\n",
        "\n",
        "**Note:** When you upload things to TensorBoard.dev, your experiments are public. So if you're running private experiments(things you don't want others to see) do not upload them to TensorBoard.dev"
      ],
      "metadata": {
        "id": "BaSgsfCddmZH"
      }
    },
    {
      "cell_type": "code",
      "source": [
        "# Upload TensorBoard dev records\n",
        "!tensorboard dev upload --logdir ./tensorflow_hub/ --name 'EfficientNet50 vs. ResNet50V2' \\\n",
        "--description 'Comparing two different TF Hub feature extraction model architectures' --one_shot"
      ],
      "metadata": {
        "id": "3Q7RdXpcZp55",
        "outputId": "5d94c981-1158-4182-9682-55d68c495b54",
        "colab": {
          "base_uri": "https://localhost:8080/"
        }
      },
      "execution_count": 19,
      "outputs": [
        {
          "output_type": "stream",
          "name": "stdout",
          "text": [
            "\n",
            "***** TensorBoard Uploader *****\n",
            "\n",
            "This will upload your TensorBoard logs to https://tensorboard.dev/ from\n",
            "the following directory:\n",
            "\n",
            "./tensorflow_hub/\n",
            "\n",
            "This TensorBoard will be visible to everyone. Do not upload sensitive\n",
            "data.\n",
            "\n",
            "Your use of this service is subject to Google's Terms of Service\n",
            "<https://policies.google.com/terms> and Privacy Policy\n",
            "<https://policies.google.com/privacy>, and TensorBoard.dev's Terms of Service\n",
            "<https://tensorboard.dev/policy/terms/>.\n",
            "\n",
            "This notice will not be shown again while you are logged into the uploader.\n",
            "To log out, run `tensorboard dev auth revoke`.\n",
            "\n",
            "Continue? (yes/NO) yes\n",
            "\n",
            "Please visit this URL to authorize this application: https://accounts.google.com/o/oauth2/auth?response_type=code&client_id=373649185512-8v619h5kft38l4456nm2dj4ubeqsrvh6.apps.googleusercontent.com&redirect_uri=urn%3Aietf%3Awg%3Aoauth%3A2.0%3Aoob&scope=openid+https%3A%2F%2Fwww.googleapis.com%2Fauth%2Fuserinfo.email&state=gwQrFIoyL55IGNM8GqbRUbsbD5SaGd&prompt=consent&access_type=offline\n",
            "Enter the authorization code: 4/1AX4XfWj8i4lyAE75_YCqXOhahobhi-tvigLh98kE4AHPWeiD-bda3JjVnXY\n",
            "\n",
            "\n",
            "New experiment created. View your TensorBoard at: https://tensorboard.dev/experiment/9oYzkF3BRXaZLMHbBBs9NA/\n",
            "\n",
            "\u001b[1m[2022-04-13T07:32:13]\u001b[0m Started scanning logdir.\n",
            "\u001b[1m[2022-04-13T07:32:18]\u001b[0m Total uploaded: 60 scalars, 0 tensors, 2 binary objects (6.3 MB)\n",
            "\u001b[1m[2022-04-13T07:32:18]\u001b[0m Done scanning logdir.\n",
            "\n",
            "\n",
            "Done. View your TensorBoard at https://tensorboard.dev/experiment/9oYzkF3BRXaZLMHbBBs9NA/\n"
          ]
        }
      ]
    },
    {
      "cell_type": "markdown",
      "source": [
        "Our TensorBoard experiment are uploaded publicly at https://tensorboard.dev/experiment/0qZcziRASaWWY9Cn3P7kAw/"
      ],
      "metadata": {
        "id": "3YmXZHBTfS9h"
      }
    },
    {
      "cell_type": "code",
      "source": [
        "!tensorboard dev list"
      ],
      "metadata": {
        "colab": {
          "base_uri": "https://localhost:8080/"
        },
        "id": "hlJvT3o8ezU4",
        "outputId": "c56eb1f1-2c8e-4075-9f63-c7e2be035bf8"
      },
      "execution_count": 20,
      "outputs": [
        {
          "output_type": "stream",
          "name": "stdout",
          "text": [
            "https://tensorboard.dev/experiment/9oYzkF3BRXaZLMHbBBs9NA/\n",
            "\tName                 EfficientNet50 vs. ResNet50V2\n",
            "\tDescription          Comparing two different TF Hub feature extraction model architectures\n",
            "\tId                   9oYzkF3BRXaZLMHbBBs9NA\n",
            "\tCreated              2022-04-13 07:32:13 (1 minute ago)\n",
            "\tUpdated              2022-04-13 07:32:18 (1 minute ago)\n",
            "\tRuns                 4\n",
            "\tTags                 5\n",
            "\tScalars              60\n",
            "\tTensor bytes         0\n",
            "\tBinary object bytes  6647603\n",
            "https://tensorboard.dev/experiment/0qZcziRASaWWY9Cn3P7kAw/\n",
            "\tName                 EfficientNet50 vs. ResNet50V2\n",
            "\tDescription          Comparing two different TF Hub feature extraction model architectures\n",
            "\tId                   0qZcziRASaWWY9Cn3P7kAw\n",
            "\tCreated              2022-01-18 14:00:04\n",
            "\tUpdated              2022-01-18 14:00:07\n",
            "\tRuns                 6\n",
            "\tTags                 5\n",
            "\tScalars              90\n",
            "\tTensor bytes         0\n",
            "\tBinary object bytes  10729747\n",
            "Total: 2 experiment(s)\n"
          ]
        }
      ]
    },
    {
      "cell_type": "code",
      "source": [
        ""
      ],
      "metadata": {
        "id": "mzt0f-hggD7-"
      },
      "execution_count": null,
      "outputs": []
    }
  ]
}