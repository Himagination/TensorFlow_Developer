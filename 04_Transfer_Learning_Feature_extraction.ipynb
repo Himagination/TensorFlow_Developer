{
  "nbformat": 4,
  "nbformat_minor": 0,
  "metadata": {
    "colab": {
      "name": "04_Transfer_Learning_Feature_extraction.ipynb",
      "provenance": [],
      "authorship_tag": "ABX9TyMpY9DVzur3YIGy5mbxABSU",
      "include_colab_link": true
    },
    "kernelspec": {
      "name": "python3",
      "display_name": "Python 3"
    },
    "language_info": {
      "name": "python"
    },
    "accelerator": "GPU"
  },
  "cells": [
    {
      "cell_type": "markdown",
      "metadata": {
        "id": "view-in-github",
        "colab_type": "text"
      },
      "source": [
        "<a href=\"https://colab.research.google.com/github/Himagination/TensorFlow_Developer/blob/main/04_Transfer_Learning_Feature_extraction.ipynb\" target=\"_parent\"><img src=\"https://colab.research.google.com/assets/colab-badge.svg\" alt=\"Open In Colab\"/></a>"
      ]
    },
    {
      "cell_type": "markdown",
      "source": [
        "# Introduction\n",
        "\n",
        "**Why use Transfer Learning?**\n",
        "\n",
        "* Can Leverage an existing neural network architecture proven to work on problems similar to our own.\n",
        "* Can leverage a working network architecture which has already learned patterns on similar data to our own(often results in great results with less data)\n"
      ],
      "metadata": {
        "id": "-4PUXiOCrnOe"
      }
    },
    {
      "cell_type": "markdown",
      "source": [
        "## Download and becoming one with data"
      ],
      "metadata": {
        "id": "LaQmMNnSseFR"
      }
    },
    {
      "cell_type": "code",
      "execution_count": 1,
      "metadata": {
        "colab": {
          "base_uri": "https://localhost:8080/"
        },
        "id": "NOIhaPB4rD0U",
        "outputId": "9cacb0bd-8b79-419e-bb5e-964e783ca492"
      },
      "outputs": [
        {
          "output_type": "stream",
          "name": "stdout",
          "text": [
            "--2022-01-18 12:25:58--  https://storage.googleapis.com/ztm_tf_course/food_vision/10_food_classes_10_percent.zip\n",
            "Resolving storage.googleapis.com (storage.googleapis.com)... 142.250.148.128, 209.85.200.128, 74.125.129.128, ...\n",
            "Connecting to storage.googleapis.com (storage.googleapis.com)|142.250.148.128|:443... connected.\n",
            "HTTP request sent, awaiting response... 200 OK\n",
            "Length: 168546183 (161M) [application/zip]\n",
            "Saving to: ‘10_food_classes_10_percent.zip’\n",
            "\n",
            "10_food_classes_10_ 100%[===================>] 160.74M   206MB/s    in 0.8s    \n",
            "\n",
            "2022-01-18 12:25:59 (206 MB/s) - ‘10_food_classes_10_percent.zip’ saved [168546183/168546183]\n",
            "\n"
          ]
        }
      ],
      "source": [
        "# get data(10% of food dataset)\n",
        "import os\n",
        "import zipfile\n",
        "!wget https://storage.googleapis.com/ztm_tf_course/food_vision/10_food_classes_10_percent.zip\n",
        "\n",
        "# unzip the downloaded file\n",
        "zip_ref = zipfile.ZipFile(\"10_food_classes_10_percent.zip\")\n",
        "zip_ref.extractall()\n",
        "zip_ref.close()"
      ]
    },
    {
      "cell_type": "code",
      "source": [
        "# How many images in each folder?\n",
        "\n",
        "for dirpath, dirnames, filenames in os.walk(\"10_food_classes_10_percent\"):\n",
        "  print(f\"There are {len(dirnames)} directories and {len(filenames)} images in '{dirpath}'\")"
      ],
      "metadata": {
        "colab": {
          "base_uri": "https://localhost:8080/"
        },
        "id": "v4Hn2vgjs9m0",
        "outputId": "6c723563-73aa-4447-fc91-019aa0244c6e"
      },
      "execution_count": 2,
      "outputs": [
        {
          "output_type": "stream",
          "name": "stdout",
          "text": [
            "There are 2 directories and 0 images in '10_food_classes_10_percent'\n",
            "There are 10 directories and 0 images in '10_food_classes_10_percent/test'\n",
            "There are 0 directories and 250 images in '10_food_classes_10_percent/test/grilled_salmon'\n",
            "There are 0 directories and 250 images in '10_food_classes_10_percent/test/chicken_wings'\n",
            "There are 0 directories and 250 images in '10_food_classes_10_percent/test/sushi'\n",
            "There are 0 directories and 250 images in '10_food_classes_10_percent/test/ice_cream'\n",
            "There are 0 directories and 250 images in '10_food_classes_10_percent/test/hamburger'\n",
            "There are 0 directories and 250 images in '10_food_classes_10_percent/test/steak'\n",
            "There are 0 directories and 250 images in '10_food_classes_10_percent/test/pizza'\n",
            "There are 0 directories and 250 images in '10_food_classes_10_percent/test/ramen'\n",
            "There are 0 directories and 250 images in '10_food_classes_10_percent/test/fried_rice'\n",
            "There are 0 directories and 250 images in '10_food_classes_10_percent/test/chicken_curry'\n",
            "There are 10 directories and 0 images in '10_food_classes_10_percent/train'\n",
            "There are 0 directories and 75 images in '10_food_classes_10_percent/train/grilled_salmon'\n",
            "There are 0 directories and 75 images in '10_food_classes_10_percent/train/chicken_wings'\n",
            "There are 0 directories and 75 images in '10_food_classes_10_percent/train/sushi'\n",
            "There are 0 directories and 75 images in '10_food_classes_10_percent/train/ice_cream'\n",
            "There are 0 directories and 75 images in '10_food_classes_10_percent/train/hamburger'\n",
            "There are 0 directories and 75 images in '10_food_classes_10_percent/train/steak'\n",
            "There are 0 directories and 75 images in '10_food_classes_10_percent/train/pizza'\n",
            "There are 0 directories and 75 images in '10_food_classes_10_percent/train/ramen'\n",
            "There are 0 directories and 75 images in '10_food_classes_10_percent/train/fried_rice'\n",
            "There are 0 directories and 75 images in '10_food_classes_10_percent/train/chicken_curry'\n"
          ]
        }
      ]
    },
    {
      "cell_type": "markdown",
      "source": [
        "## Create dataloaders (preparing the data)\n",
        "\n",
        "We'll use the `ImageDataGenerator` class to load in our images in batch"
      ],
      "metadata": {
        "id": "bMdAjfmQtjcu"
      }
    },
    {
      "cell_type": "code",
      "source": [
        "import tensorflow as tf"
      ],
      "metadata": {
        "id": "qeqblWKMKxOk"
      },
      "execution_count": 4,
      "outputs": []
    },
    {
      "cell_type": "code",
      "source": [
        "from tensorflow.keras.preprocessing.image import ImageDataGenerator\n",
        "\n",
        "IMAGE_SHAPE = (224, 224)\n",
        "BATCH_SIZE = 32\n",
        "\n",
        "train_dir = \"10_food_classes_10_percent/train/\"\n",
        "test_dir = \"10_food_classes_10_percent/test/\"\n",
        "\n",
        "train_datagen = ImageDataGenerator(rescale=1/255.)\n",
        "test_datagen = ImageDataGenerator(rescale=1/255.)\n",
        "\n",
        "print(\"Training images:\")\n",
        "train_data_10_percent = train_datagen.flow_from_directory(train_dir, \n",
        "                                                          target_size=IMAGE_SHAPE,\n",
        "                                                          batch_size=BATCH_SIZE, \n",
        "                                                          class_mode='categorical')\n",
        "print(\"Test images:\")\n",
        "\n",
        "test_data = test_datagen.flow_from_directory(test_dir, \n",
        "                                             target_size=IMAGE_SHAPE,\n",
        "                                             batch_size=BATCH_SIZE, \n",
        "                                             class_mode='categorical')"
      ],
      "metadata": {
        "colab": {
          "base_uri": "https://localhost:8080/"
        },
        "id": "0qzQdVRWt1ek",
        "outputId": "7b5aa42e-7ef4-44f6-bfb6-6e1abed9bac8"
      },
      "execution_count": 3,
      "outputs": [
        {
          "output_type": "stream",
          "name": "stdout",
          "text": [
            "Training images:\n",
            "Found 750 images belonging to 10 classes.\n",
            "Test images:\n",
            "Found 2500 images belonging to 10 classes.\n"
          ]
        }
      ]
    },
    {
      "cell_type": "markdown",
      "source": [
        "## Setting up callbacks (things to run whilst our model trains)\n",
        "\n",
        "Callbacks are extra functionality we can add to our models to be performed during or after training. Some of the most popular callbacks:\n",
        "\n",
        "* Tracking experiments with the TensorBoard callback.\n",
        "* Model checkpoint with the ModelCheckpoint callback.\n",
        "* Stopping a model from training (before it trains too long and overfits) with the EarlyStopping callback."
      ],
      "metadata": {
        "id": "SnO6MXxnvIZq"
      }
    },
    {
      "cell_type": "code",
      "source": [
        "# create TensorBoard callback\n",
        "\n",
        "import datetime\n",
        "\n",
        "def create_tensorboard_callback(dir_name, experiment_name):\n",
        "  log_dir = dir_name + '/' + experiment_name + '/' + datetime.datetime.now().strftime(\"%Y%m%d-%H%M%S\")\n",
        "  tensorboard_callback = tf.keras.callbacks.TensorBoard(log_dir=log_dir)\n",
        "  print(f\"Saving Tensorboard log files to: {log_dir}\")\n",
        "  return tensorboard_callback"
      ],
      "metadata": {
        "id": "icbeviB7u-93"
      },
      "execution_count": 5,
      "outputs": []
    },
    {
      "cell_type": "markdown",
      "source": [
        "## Creating models using TensorFlow hub\n",
        "\n",
        "In the past we've used to create our own models layer by layer from scratch.\n",
        "\n",
        "Now we're going to do a similar process, except the majority of our model's layer are going to come from TensorFlow Hub.\n",
        "\n",
        "Browsing the TensorFlow Hub page and sorting for image classification, we found the following feature vector model link:\n",
        "https://tfhub.dev/tensorflow/efficientnet/b0/feature-vector/1"
      ],
      "metadata": {
        "id": "qSOQH6M-LXJe"
      }
    },
    {
      "cell_type": "code",
      "source": [
        "# Import dependencies\n",
        "import tensorflow_hub as hub\n",
        "from tensorflow.keras import layers"
      ],
      "metadata": {
        "id": "Xn_m_b6lNmOm"
      },
      "execution_count": 6,
      "outputs": []
    },
    {
      "cell_type": "code",
      "source": [
        "# Let's compare the following two model\n",
        "resnet_url = \"https://tfhub.dev/tensorflow/resnet_50/feature_vector/1\"\n",
        "efficientnet_url = \"https://tfhub.dev/tensorflow/efficientnet/b0/feature-vector/1\""
      ],
      "metadata": {
        "id": "Nu-ciEm_LKrt"
      },
      "execution_count": 20,
      "outputs": []
    },
    {
      "cell_type": "code",
      "source": [
        "# Let's make a create_model() function to create a model from URL\n",
        "def create_model(model_url, num_classes=10):\n",
        "  \"\"\"\n",
        "  Takes a TensorFlow Hub URL and creates a Keras Sequential model with it.\n",
        "\n",
        "  Args:\n",
        "    model_url (str): A TensorFlow Hub feature extraction URL.\n",
        "    num_classes (int): Number of output neurons in the output layer, \n",
        "      should be equal to number of target classes, default to 10.\n",
        "\n",
        "    Returns:\n",
        "      An uncompiled Keras Sequential model with model_url as feature extrctor\n",
        "      layer and Dense output layer with num_classes output neurons.\n",
        "  \"\"\"\n",
        "  # Download the pretrained model and save it as a Keras layer\n",
        "  feature_extractor_layer = hub.KerasLayer(model_url, \n",
        "                                           trainable=False, \n",
        "                                           name='feature_extraction_layer', \n",
        "                                           input_shape=IMAGE_SHAPE+(3, )) # Freeze already learnt patterns\n",
        "  # Create the model\n",
        "  model = tf.keras.Sequential([\n",
        "                               feature_extractor_layer, \n",
        "                               layers.Dense(num_classes, activation='softmax', name='output_layer')\n",
        "  ])\n",
        "\n",
        "  return model                 \n"
      ],
      "metadata": {
        "id": "ZQE0kZpROHsL"
      },
      "execution_count": 12,
      "outputs": []
    },
    {
      "cell_type": "markdown",
      "source": [
        "### Creating and testing ResNet TensorFlow Hub Feature Extraction model."
      ],
      "metadata": {
        "id": "uennp9d-QHs1"
      }
    },
    {
      "cell_type": "code",
      "source": [
        "resnet_model = create_model(resnet_url, \n",
        "                            num_classes=train_data_10_percent.num_classes)"
      ],
      "metadata": {
        "id": "N7bxdy8-QE19"
      },
      "execution_count": 13,
      "outputs": []
    },
    {
      "cell_type": "code",
      "source": [
        "resnet_model.summary()"
      ],
      "metadata": {
        "colab": {
          "base_uri": "https://localhost:8080/"
        },
        "id": "2HIFyg9iQhVh",
        "outputId": "d74b8843-e592-4d9c-b2fb-e24ad51eb47d"
      },
      "execution_count": 14,
      "outputs": [
        {
          "output_type": "stream",
          "name": "stdout",
          "text": [
            "Model: \"sequential\"\n",
            "_________________________________________________________________\n",
            " Layer (type)                Output Shape              Param #   \n",
            "=================================================================\n",
            " feature_extraction_layer (K  (None, 2048)             23561152  \n",
            " erasLayer)                                                      \n",
            "                                                                 \n",
            " output_layer (Dense)        (None, 10)                20490     \n",
            "                                                                 \n",
            "=================================================================\n",
            "Total params: 23,581,642\n",
            "Trainable params: 20,490\n",
            "Non-trainable params: 23,561,152\n",
            "_________________________________________________________________\n"
          ]
        }
      ]
    },
    {
      "cell_type": "code",
      "source": [
        "# Compile our resnet model\n",
        "resnet_model.compile(loss='categorical_crossentropy', \n",
        "                     optimizer=tf.keras.optimizers.Adam(), \n",
        "                     metrics=['accuracy'])"
      ],
      "metadata": {
        "id": "qAAnqvX5RCx9"
      },
      "execution_count": 15,
      "outputs": []
    },
    {
      "cell_type": "code",
      "source": [
        "# Fit the model\n",
        "resnet_history = resnet_model.fit(train_data_10_percent, \n",
        "                 epochs=5, \n",
        "                 steps_per_epoch=len(train_data_10_percent), \n",
        "                 validation_data=test_data, \n",
        "                 validation_steps=len(test_data), \n",
        "                 callbacks=[create_tensorboard_callback(dir_name=\"tensorflow_hub\", \n",
        "                                                        experiment_name='resnet20V2')])"
      ],
      "metadata": {
        "colab": {
          "base_uri": "https://localhost:8080/"
        },
        "id": "OOLxdkohRWem",
        "outputId": "d16ddfb8-81c6-4cd2-f552-d65c4f81af9c"
      },
      "execution_count": 16,
      "outputs": [
        {
          "output_type": "stream",
          "name": "stdout",
          "text": [
            "Saving Tensorboard log files to: tensorflow_hub/resnet20V2/20220118-130219\n",
            "Epoch 1/5\n",
            "24/24 [==============================] - 49s 1s/step - loss: 1.9783 - accuracy: 0.3573 - val_loss: 1.0932 - val_accuracy: 0.6632\n",
            "Epoch 2/5\n",
            "24/24 [==============================] - 29s 1s/step - loss: 0.8322 - accuracy: 0.7467 - val_loss: 0.7624 - val_accuracy: 0.7648\n",
            "Epoch 3/5\n",
            "24/24 [==============================] - 29s 1s/step - loss: 0.5740 - accuracy: 0.8413 - val_loss: 0.6652 - val_accuracy: 0.7872\n",
            "Epoch 4/5\n",
            "24/24 [==============================] - 29s 1s/step - loss: 0.4320 - accuracy: 0.8947 - val_loss: 0.5831 - val_accuracy: 0.8212\n",
            "Epoch 5/5\n",
            "24/24 [==============================] - 48s 2s/step - loss: 0.3424 - accuracy: 0.9147 - val_loss: 0.5826 - val_accuracy: 0.8132\n"
          ]
        }
      ]
    },
    {
      "cell_type": "markdown",
      "source": [
        "Our Transfer Learning Feature Extractor model out performed ALL of the previous models we built by hand...(substantially) and in a quicker training time AND with only 10% of the training examples."
      ],
      "metadata": {
        "id": "zyG6gO1CTF2f"
      }
    },
    {
      "cell_type": "code",
      "source": [
        "# Let's create function to plot loss curve\n",
        "import matplotlib.pyplot as plt\n",
        "\n",
        "# Plot the validation and training curves\n",
        "def plot_loss_curves(history):\n",
        "  \"\"\"\n",
        "  Returns separate loss curves for training and validation metrics.\n",
        "  \n",
        "  Args:\n",
        "    history: TensorFlow History object\n",
        "\n",
        "  Returns:\n",
        "    Plots of training/validation loss and accuracy metrics.  \n",
        "  \"\"\"\n",
        "  loss = history.history['loss']\n",
        "  val_loss = history.history['val_loss']\n",
        "\n",
        "  accuracy = history.history['accuracy']\n",
        "  val_accuracy = history.history['val_accuracy']\n",
        "\n",
        "  epochs = range(len(history.history['loss']))\n",
        "\n",
        "  # Plot loss\n",
        "  plt.plot(epochs, loss, label='training_loss')\n",
        "  plt.plot(epochs, val_loss, label='validation_loss')\n",
        "  plt.title(\"Loss\")\n",
        "  plt.xlabel(\"Epochs\")\n",
        "  plt.legend()\n",
        "\n",
        "  # Plot accuracy\n",
        "  plt.figure()\n",
        "  plt.plot(epochs, accuracy, label='training_accuracy')\n",
        "  plt.plot(epochs, val_accuracy, label='validation_accuracy')\n",
        "  plt.title('Accuracy')\n",
        "  plt.xlabel('Epochs')\n",
        "  plt.legend()"
      ],
      "metadata": {
        "id": "o_47Dw7_R_DU"
      },
      "execution_count": 17,
      "outputs": []
    },
    {
      "cell_type": "code",
      "source": [
        "plot_loss_curves(resnet_history)"
      ],
      "metadata": {
        "colab": {
          "base_uri": "https://localhost:8080/",
          "height": 573
        },
        "id": "vJ90dcRXVT74",
        "outputId": "b83f6f21-329c-464e-f41e-f9cafd3b4bd7"
      },
      "execution_count": 18,
      "outputs": [
        {
          "output_type": "display_data",
          "data": {
            "image/png": "[encoded data removed]",
            "text/plain": [
              "<Figure size 432x288 with 1 Axes>"
            ]
          },
          "metadata": {
            "needs_background": "light"
          }
        },
        {
          "output_type": "display_data",
          "data": {
            "image/png": "[encoded data removed]",
            "text/plain": [
              "<Figure size 432x288 with 1 Axes>"
            ]
          },
          "metadata": {
            "needs_background": "light"
          }
        }
      ]
    },
    {
      "cell_type": "markdown",
      "source": [
        "### Creating and Testing EfficientNet80 TensorFlow Hub Feature Extraction model."
      ],
      "metadata": {
        "id": "6Dkpn1-bVnA-"
      }
    },
    {
      "cell_type": "code",
      "source": [
        "# Create EfficientNet80 feature extractor model\n",
        "efficientnet80_model = create_model(efficientnet_url, \n",
        "                                    train_data_10_percent.num_classes)"
      ],
      "metadata": {
        "id": "F2iJiqO3VWO-"
      },
      "execution_count": 21,
      "outputs": []
    },
    {
      "cell_type": "code",
      "source": [
        "# Compile the model\n",
        "efficientnet80_model.compile(loss='categorical_crossentropy', \n",
        "                             optimizer=tf.keras.optimizers.Adam(), \n",
        "                             metrics=['accuracy'])\n",
        "\n",
        "# Fit the model\n",
        "efficientnet80_history = efficientnet80_model.fit(train_data_10_percent, \n",
        "                         epochs=5, \n",
        "                         steps_per_epoch=len(train_data_10_percent), \n",
        "                         validation_data=test_data, \n",
        "                         validation_steps=len(test_data), \n",
        "                         callbacks=[create_tensorboard_callback(dir_name='tensorflow_hub', \n",
        "                                                                experiment_name='efficientnetb0')])"
      ],
      "metadata": {
        "colab": {
          "base_uri": "https://localhost:8080/"
        },
        "id": "reDG9c19WDtg",
        "outputId": "1abcac74-1c8b-483e-b5ed-ad334c05a94e"
      },
      "execution_count": 23,
      "outputs": [
        {
          "output_type": "stream",
          "name": "stdout",
          "text": [
            "Saving Tensorboard log files to: tensorflow_hub/efficientnetb0/20220118-133306\n",
            "Epoch 1/5\n",
            "24/24 [==============================] - 25s 924ms/step - loss: 0.4515 - accuracy: 0.9040 - val_loss: 0.5136 - val_accuracy: 0.8616\n",
            "Epoch 2/5\n",
            "24/24 [==============================] - 20s 878ms/step - loss: 0.3603 - accuracy: 0.9253 - val_loss: 0.4728 - val_accuracy: 0.8704\n",
            "Epoch 3/5\n",
            "24/24 [==============================] - 20s 865ms/step - loss: 0.3046 - accuracy: 0.9400 - val_loss: 0.4502 - val_accuracy: 0.8728\n",
            "Epoch 4/5\n",
            "24/24 [==============================] - 20s 863ms/step - loss: 0.2632 - accuracy: 0.9533 - val_loss: 0.4331 - val_accuracy: 0.8744\n",
            "Epoch 5/5\n",
            "24/24 [==============================] - 20s 864ms/step - loss: 0.2305 - accuracy: 0.9640 - val_loss: 0.4228 - val_accuracy: 0.8752\n"
          ]
        }
      ]
    },
    {
      "cell_type": "code",
      "source": [
        "plot_loss_curves(efficientnet80_history)"
      ],
      "metadata": {
        "colab": {
          "base_uri": "https://localhost:8080/",
          "height": 573
        },
        "id": "4Lfun9DLYNIv",
        "outputId": "d595e345-7661-44c1-ca2c-c6e7a0ba6c3f"
      },
      "execution_count": 24,
      "outputs": [
        {
          "output_type": "display_data",
          "data": {
            "image/png": "[encoded data removed]",
            "text/plain": [
              "<Figure size 432x288 with 1 Axes>"
            ]
          },
          "metadata": {
            "needs_background": "light"
          }
        },
        {
          "output_type": "display_data",
          "data": {
            "image/png": "[encoded data removed]",
            "text/plain": [
              "<Figure size 432x288 with 1 Axes>"
            ]
          },
          "metadata": {
            "needs_background": "light"
          }
        }
      ]
    },
    {
      "cell_type": "code",
      "source": [
        "resnet_model.summary()"
      ],
      "metadata": {
        "colab": {
          "base_uri": "https://localhost:8080/"
        },
        "id": "ll3d7A_bZiJi",
        "outputId": "2d0c04f8-2abd-425e-e8c0-a8be73e4dba4"
      },
      "execution_count": 25,
      "outputs": [
        {
          "output_type": "stream",
          "name": "stdout",
          "text": [
            "Model: \"sequential\"\n",
            "_________________________________________________________________\n",
            " Layer (type)                Output Shape              Param #   \n",
            "=================================================================\n",
            " feature_extraction_layer (K  (None, 2048)             23561152  \n",
            " erasLayer)                                                      \n",
            "                                                                 \n",
            " output_layer (Dense)        (None, 10)                20490     \n",
            "                                                                 \n",
            "=================================================================\n",
            "Total params: 23,581,642\n",
            "Trainable params: 20,490\n",
            "Non-trainable params: 23,561,152\n",
            "_________________________________________________________________\n"
          ]
        }
      ]
    },
    {
      "cell_type": "markdown",
      "source": [
        "### Types of Transfer Learning\n",
        "\n",
        "* 'As is' transfer learning - Using an existing model with no changes what so ever(e.g. using `ImageNet` model on 1000 ImageNet classes none of our own.\n",
        "* 'Feature Extraction' transfer learning - Use the pre-learned patterns of an existing model (eg. EfficientNet50 trained on ImageNet) and adjust the output layer for your own problem(eg 1000 classes -> 10 classes of food)\n",
        "* 'Fine-tuning' transfer learning - use the prelearned patterns of an existing model and 'fine-tune' many or all of the underlying layers (including new output layers)\n",
        "\n"
      ],
      "metadata": {
        "id": "tDCjTfATZ9bt"
      }
    },
    {
      "cell_type": "markdown",
      "source": [
        "## Comparing our models result using TensorBoard\n",
        "\n",
        "**Note:** When you upload things to TensorBoard.dev, your experiments are public. So if you're running private experiments(things you don't want others to see) do not upload them to TensorBoard.dev"
      ],
      "metadata": {
        "id": "BaSgsfCddmZH"
      }
    },
    {
      "cell_type": "code",
      "source": [
        "# Upload TensorBoard dev records\n",
        "!tensorboard dev upload --logdir ./tensorflow_hub/ --name 'EfficientNet50 vs. ResNet50V2' \\\n",
        "--description 'Comparing two different TF Hub feature extraction model architectures' --one_shot"
      ],
      "metadata": {
        "id": "3Q7RdXpcZp55"
      },
      "execution_count": null,
      "outputs": []
    },
    {
      "cell_type": "markdown",
      "source": [
        "Our TensorBoard experiment are uploaded publicly at https://tensorboard.dev/experiment/0qZcziRASaWWY9Cn3P7kAw/"
      ],
      "metadata": {
        "id": "3YmXZHBTfS9h"
      }
    },
    {
      "cell_type": "code",
      "source": [
        "!tensorboard dev list"
      ],
      "metadata": {
        "colab": {
          "base_uri": "https://localhost:8080/"
        },
        "id": "hlJvT3o8ezU4",
        "outputId": "7af380ed-8a95-4a9e-d77c-b0a7866b3c95"
      },
      "execution_count": 30,
      "outputs": [
        {
          "output_type": "stream",
          "name": "stdout",
          "text": [
            "https://tensorboard.dev/experiment/0qZcziRASaWWY9Cn3P7kAw/\n",
            "\tName                 EfficientNet50 vs. ResNet50V2\n",
            "\tDescription          Comparing two different TF Hub feature extraction model architectures\n",
            "\tId                   0qZcziRASaWWY9Cn3P7kAw\n",
            "\tCreated              2022-01-18 14:00:04 (3 minutes ago)\n",
            "\tUpdated              2022-01-18 14:00:07 (3 minutes ago)\n",
            "\tRuns                 6\n",
            "\tTags                 5\n",
            "\tScalars              90\n",
            "\tTensor bytes         0\n",
            "\tBinary object bytes  10729747\n",
            "Total: 1 experiment(s)\n"
          ]
        }
      ]
    },
    {
      "cell_type": "code",
      "source": [
        ""
      ],
      "metadata": {
        "id": "mzt0f-hggD7-"
      },
      "execution_count": null,
      "outputs": []
    }
  ]
}